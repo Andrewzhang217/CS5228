{
 "cells": [
  {
   "cell_type": "code",
   "execution_count": 1,
   "id": "d96efaa5-08cd-40c2-83ad-af5b1a1e5268",
   "metadata": {},
   "outputs": [],
   "source": [
    "import numpy as np\n",
    "import pandas as pd\n",
    "import matplotlib.pyplot as plt\n",
    "from category_encoders import TargetEncoder"
   ]
  },
  {
   "cell_type": "code",
   "execution_count": 2,
   "id": "25a47f47-8bb1-492f-b294-0eab8726f6c1",
   "metadata": {},
   "outputs": [
    {
     "data": {
      "text/html": [
       "<div>\n",
       "<style scoped>\n",
       "    .dataframe tbody tr th:only-of-type {\n",
       "        vertical-align: middle;\n",
       "    }\n",
       "\n",
       "    .dataframe tbody tr th {\n",
       "        vertical-align: top;\n",
       "    }\n",
       "\n",
       "    .dataframe thead th {\n",
       "        text-align: right;\n",
       "    }\n",
       "</style>\n",
       "<table border=\"1\" class=\"dataframe\">\n",
       "  <thead>\n",
       "    <tr style=\"text-align: right;\">\n",
       "      <th></th>\n",
       "      <th>rent_approval_date</th>\n",
       "      <th>town</th>\n",
       "      <th>block</th>\n",
       "      <th>street_name</th>\n",
       "      <th>flat_type</th>\n",
       "      <th>flat_model</th>\n",
       "      <th>floor_area_sqm</th>\n",
       "      <th>furnished</th>\n",
       "      <th>lease_commence_date</th>\n",
       "      <th>latitude</th>\n",
       "      <th>longitude</th>\n",
       "      <th>elevation</th>\n",
       "      <th>subzone</th>\n",
       "      <th>planning_area</th>\n",
       "      <th>region</th>\n",
       "      <th>monthly_rent</th>\n",
       "    </tr>\n",
       "  </thead>\n",
       "  <tbody>\n",
       "    <tr>\n",
       "      <th>0</th>\n",
       "      <td>2021-09</td>\n",
       "      <td>jurong east</td>\n",
       "      <td>257</td>\n",
       "      <td>Jurong East Street 24</td>\n",
       "      <td>3 room</td>\n",
       "      <td>new generation</td>\n",
       "      <td>67.0</td>\n",
       "      <td>yes</td>\n",
       "      <td>1983</td>\n",
       "      <td>1.344518</td>\n",
       "      <td>103.738630</td>\n",
       "      <td>0.0</td>\n",
       "      <td>yuhua east</td>\n",
       "      <td>jurong east</td>\n",
       "      <td>west region</td>\n",
       "      <td>1600</td>\n",
       "    </tr>\n",
       "    <tr>\n",
       "      <th>1</th>\n",
       "      <td>2022-05</td>\n",
       "      <td>bedok</td>\n",
       "      <td>119</td>\n",
       "      <td>bedok north road</td>\n",
       "      <td>4-room</td>\n",
       "      <td>new generation</td>\n",
       "      <td>92.0</td>\n",
       "      <td>yes</td>\n",
       "      <td>1978</td>\n",
       "      <td>1.330186</td>\n",
       "      <td>103.938717</td>\n",
       "      <td>0.0</td>\n",
       "      <td>bedok north</td>\n",
       "      <td>bedok</td>\n",
       "      <td>east region</td>\n",
       "      <td>2250</td>\n",
       "    </tr>\n",
       "    <tr>\n",
       "      <th>2</th>\n",
       "      <td>2022-10</td>\n",
       "      <td>toa payoh</td>\n",
       "      <td>157</td>\n",
       "      <td>lorong 1 toa payoh</td>\n",
       "      <td>3-room</td>\n",
       "      <td>improved</td>\n",
       "      <td>67.0</td>\n",
       "      <td>yes</td>\n",
       "      <td>1971</td>\n",
       "      <td>1.332242</td>\n",
       "      <td>103.845643</td>\n",
       "      <td>0.0</td>\n",
       "      <td>toa payoh central</td>\n",
       "      <td>toa payoh</td>\n",
       "      <td>central region</td>\n",
       "      <td>1900</td>\n",
       "    </tr>\n",
       "    <tr>\n",
       "      <th>3</th>\n",
       "      <td>2021-08</td>\n",
       "      <td>pasir ris</td>\n",
       "      <td>250</td>\n",
       "      <td>Pasir Ris Street 21</td>\n",
       "      <td>executive</td>\n",
       "      <td>apartment</td>\n",
       "      <td>149.0</td>\n",
       "      <td>yes</td>\n",
       "      <td>1993</td>\n",
       "      <td>1.370239</td>\n",
       "      <td>103.962894</td>\n",
       "      <td>0.0</td>\n",
       "      <td>pasir ris drive</td>\n",
       "      <td>pasir ris</td>\n",
       "      <td>east region</td>\n",
       "      <td>2850</td>\n",
       "    </tr>\n",
       "    <tr>\n",
       "      <th>4</th>\n",
       "      <td>2022-11</td>\n",
       "      <td>kallang/whampoa</td>\n",
       "      <td>34</td>\n",
       "      <td>Whampoa West</td>\n",
       "      <td>3-room</td>\n",
       "      <td>improved</td>\n",
       "      <td>68.0</td>\n",
       "      <td>yes</td>\n",
       "      <td>1972</td>\n",
       "      <td>1.320502</td>\n",
       "      <td>103.863341</td>\n",
       "      <td>0.0</td>\n",
       "      <td>bendemeer</td>\n",
       "      <td>kallang</td>\n",
       "      <td>central region</td>\n",
       "      <td>2100</td>\n",
       "    </tr>\n",
       "  </tbody>\n",
       "</table>\n",
       "</div>"
      ],
      "text/plain": [
       "  rent_approval_date             town block            street_name  flat_type  \\\n",
       "0            2021-09      jurong east   257  Jurong East Street 24     3 room   \n",
       "1            2022-05            bedok   119       bedok north road     4-room   \n",
       "2            2022-10        toa payoh   157     lorong 1 toa payoh     3-room   \n",
       "3            2021-08        pasir ris   250    Pasir Ris Street 21  executive   \n",
       "4            2022-11  kallang/whampoa    34           Whampoa West     3-room   \n",
       "\n",
       "       flat_model  floor_area_sqm furnished  lease_commence_date  latitude  \\\n",
       "0  new generation            67.0       yes                 1983  1.344518   \n",
       "1  new generation            92.0       yes                 1978  1.330186   \n",
       "2        improved            67.0       yes                 1971  1.332242   \n",
       "3       apartment           149.0       yes                 1993  1.370239   \n",
       "4        improved            68.0       yes                 1972  1.320502   \n",
       "\n",
       "    longitude  elevation            subzone planning_area          region  \\\n",
       "0  103.738630        0.0         yuhua east   jurong east     west region   \n",
       "1  103.938717        0.0        bedok north         bedok     east region   \n",
       "2  103.845643        0.0  toa payoh central     toa payoh  central region   \n",
       "3  103.962894        0.0    pasir ris drive     pasir ris     east region   \n",
       "4  103.863341        0.0          bendemeer       kallang  central region   \n",
       "\n",
       "   monthly_rent  \n",
       "0          1600  \n",
       "1          2250  \n",
       "2          1900  \n",
       "3          2850  \n",
       "4          2100  "
      ]
     },
     "execution_count": 2,
     "metadata": {},
     "output_type": "execute_result"
    }
   ],
   "source": [
    "train_set = pd.read_csv('Datasets/train.csv')\n",
    "\n",
    "train_set.head()"
   ]
  },
  {
   "cell_type": "markdown",
   "id": "afe06902-651c-4468-9b7c-82d9fbe2c4c0",
   "metadata": {},
   "source": [
    "### data cleaning"
   ]
  },
  {
   "cell_type": "code",
   "execution_count": 3,
   "id": "6b328fbd-44d6-4978-8967-c1cd0615c14a",
   "metadata": {},
   "outputs": [],
   "source": [
    "# get copy\n",
    "\n",
    "train_set_cleaned = train_set.copy()"
   ]
  },
  {
   "cell_type": "code",
   "execution_count": 4,
   "id": "a2d61782-a0c4-4897-bc59-33671a98bc4b",
   "metadata": {
    "tags": []
   },
   "outputs": [],
   "source": [
    "# add two new attributes, split rent_approval_date into month, year\n",
    "\n",
    "train_set_cleaned[['rent_approval_year','rent_approval_month']] = train_set_cleaned['rent_approval_date'].str.split('-',expand=True)\n",
    "\n",
    "# train_set_cleaned['rent_approval_month'] = pd.to_datetime(train_set_cleaned['rent_approval_month'], format='%m').dt.month\n",
    "# train_set_cleaned['rent_approval_year'] = pd.to_datetime(train_set_cleaned['rent_approval_year'], format='%y').dt.year"
   ]
  },
  {
   "cell_type": "code",
   "execution_count": 5,
   "id": "cf2ddc1e-e4d9-4ef0-b2b7-cd3758a63195",
   "metadata": {
    "tags": []
   },
   "outputs": [],
   "source": [
    "# street name to lower case\n",
    "\n",
    "train_set_cleaned['street_name'] = train_set_cleaned['street_name'].apply(str.lower)"
   ]
  },
  {
   "cell_type": "code",
   "execution_count": 6,
   "id": "a8eaa082-6243-47f3-8f4a-d3b339ba7e3c",
   "metadata": {
    "tags": []
   },
   "outputs": [],
   "source": [
    "# replace blank space with hyphen in flat_type (e.g. '2 room' to '2-room')\n",
    "\n",
    "train_set_cleaned['flat_type'] = train_set_cleaned['flat_type'].apply(lambda x: x.replace(' ', '-'))"
   ]
  },
  {
   "cell_type": "code",
   "execution_count": 7,
   "id": "37995b30-e546-41db-82e7-47f0a07d1473",
   "metadata": {
    "tags": []
   },
   "outputs": [],
   "source": [
    "def date_filter_condition(x):\n",
    "    \n",
    "    if x < 1970:\n",
    "        return 'before 70s'\n",
    "    elif x >= 1970 and x < 1980:\n",
    "        return '70s'\n",
    "    elif x >= 1980 and x < 1990:\n",
    "        return '80s'\n",
    "    elif x >= 1990 and x < 2000:\n",
    "        return '90s'\n",
    "    elif x >= 2000 and x < 2010:\n",
    "        return '00s'\n",
    "    elif x >= 2010 and x < 2020:\n",
    "        return '10s'\n",
    "    else:\n",
    "        return 'others'\n",
    "\n",
    "# categorize lease commence date by decades    \n",
    "train_set_cleaned['lease_date_cat'] = train_set_cleaned['lease_commence_date'].apply(date_filter_condition)"
   ]
  },
  {
   "cell_type": "code",
   "execution_count": 8,
   "id": "9fbdd61c",
   "metadata": {},
   "outputs": [
    {
     "data": {
      "text/html": [
       "<div>\n",
       "<style scoped>\n",
       "    .dataframe tbody tr th:only-of-type {\n",
       "        vertical-align: middle;\n",
       "    }\n",
       "\n",
       "    .dataframe tbody tr th {\n",
       "        vertical-align: top;\n",
       "    }\n",
       "\n",
       "    .dataframe thead th {\n",
       "        text-align: right;\n",
       "    }\n",
       "</style>\n",
       "<table border=\"1\" class=\"dataframe\">\n",
       "  <thead>\n",
       "    <tr style=\"text-align: right;\">\n",
       "      <th></th>\n",
       "      <th>rent_approval_date</th>\n",
       "      <th>town</th>\n",
       "      <th>block</th>\n",
       "      <th>street_name</th>\n",
       "      <th>flat_type</th>\n",
       "      <th>flat_model</th>\n",
       "      <th>floor_area_sqm</th>\n",
       "      <th>furnished</th>\n",
       "      <th>lease_commence_date</th>\n",
       "      <th>latitude</th>\n",
       "      <th>longitude</th>\n",
       "      <th>elevation</th>\n",
       "      <th>subzone</th>\n",
       "      <th>planning_area</th>\n",
       "      <th>region</th>\n",
       "      <th>monthly_rent</th>\n",
       "      <th>rent_approval_year</th>\n",
       "      <th>rent_approval_month</th>\n",
       "      <th>lease_date_cat</th>\n",
       "    </tr>\n",
       "  </thead>\n",
       "  <tbody>\n",
       "    <tr>\n",
       "      <th>0</th>\n",
       "      <td>2021-09</td>\n",
       "      <td>jurong east</td>\n",
       "      <td>257</td>\n",
       "      <td>jurong east street 24</td>\n",
       "      <td>3-room</td>\n",
       "      <td>new generation</td>\n",
       "      <td>67.0</td>\n",
       "      <td>yes</td>\n",
       "      <td>1983</td>\n",
       "      <td>1.344518</td>\n",
       "      <td>103.738630</td>\n",
       "      <td>0.0</td>\n",
       "      <td>yuhua east</td>\n",
       "      <td>jurong east</td>\n",
       "      <td>west region</td>\n",
       "      <td>1600</td>\n",
       "      <td>2021</td>\n",
       "      <td>09</td>\n",
       "      <td>80s</td>\n",
       "    </tr>\n",
       "    <tr>\n",
       "      <th>1</th>\n",
       "      <td>2022-05</td>\n",
       "      <td>bedok</td>\n",
       "      <td>119</td>\n",
       "      <td>bedok north road</td>\n",
       "      <td>4-room</td>\n",
       "      <td>new generation</td>\n",
       "      <td>92.0</td>\n",
       "      <td>yes</td>\n",
       "      <td>1978</td>\n",
       "      <td>1.330186</td>\n",
       "      <td>103.938717</td>\n",
       "      <td>0.0</td>\n",
       "      <td>bedok north</td>\n",
       "      <td>bedok</td>\n",
       "      <td>east region</td>\n",
       "      <td>2250</td>\n",
       "      <td>2022</td>\n",
       "      <td>05</td>\n",
       "      <td>70s</td>\n",
       "    </tr>\n",
       "    <tr>\n",
       "      <th>2</th>\n",
       "      <td>2022-10</td>\n",
       "      <td>toa payoh</td>\n",
       "      <td>157</td>\n",
       "      <td>lorong 1 toa payoh</td>\n",
       "      <td>3-room</td>\n",
       "      <td>improved</td>\n",
       "      <td>67.0</td>\n",
       "      <td>yes</td>\n",
       "      <td>1971</td>\n",
       "      <td>1.332242</td>\n",
       "      <td>103.845643</td>\n",
       "      <td>0.0</td>\n",
       "      <td>toa payoh central</td>\n",
       "      <td>toa payoh</td>\n",
       "      <td>central region</td>\n",
       "      <td>1900</td>\n",
       "      <td>2022</td>\n",
       "      <td>10</td>\n",
       "      <td>70s</td>\n",
       "    </tr>\n",
       "    <tr>\n",
       "      <th>3</th>\n",
       "      <td>2021-08</td>\n",
       "      <td>pasir ris</td>\n",
       "      <td>250</td>\n",
       "      <td>pasir ris street 21</td>\n",
       "      <td>executive</td>\n",
       "      <td>apartment</td>\n",
       "      <td>149.0</td>\n",
       "      <td>yes</td>\n",
       "      <td>1993</td>\n",
       "      <td>1.370239</td>\n",
       "      <td>103.962894</td>\n",
       "      <td>0.0</td>\n",
       "      <td>pasir ris drive</td>\n",
       "      <td>pasir ris</td>\n",
       "      <td>east region</td>\n",
       "      <td>2850</td>\n",
       "      <td>2021</td>\n",
       "      <td>08</td>\n",
       "      <td>90s</td>\n",
       "    </tr>\n",
       "    <tr>\n",
       "      <th>4</th>\n",
       "      <td>2022-11</td>\n",
       "      <td>kallang/whampoa</td>\n",
       "      <td>34</td>\n",
       "      <td>whampoa west</td>\n",
       "      <td>3-room</td>\n",
       "      <td>improved</td>\n",
       "      <td>68.0</td>\n",
       "      <td>yes</td>\n",
       "      <td>1972</td>\n",
       "      <td>1.320502</td>\n",
       "      <td>103.863341</td>\n",
       "      <td>0.0</td>\n",
       "      <td>bendemeer</td>\n",
       "      <td>kallang</td>\n",
       "      <td>central region</td>\n",
       "      <td>2100</td>\n",
       "      <td>2022</td>\n",
       "      <td>11</td>\n",
       "      <td>70s</td>\n",
       "    </tr>\n",
       "    <tr>\n",
       "      <th>5</th>\n",
       "      <td>2023-04</td>\n",
       "      <td>bukit panjang</td>\n",
       "      <td>654</td>\n",
       "      <td>senja road</td>\n",
       "      <td>executive</td>\n",
       "      <td>premium apartment</td>\n",
       "      <td>130.0</td>\n",
       "      <td>yes</td>\n",
       "      <td>2001</td>\n",
       "      <td>1.387847</td>\n",
       "      <td>103.764249</td>\n",
       "      <td>0.0</td>\n",
       "      <td>saujana</td>\n",
       "      <td>bukit panjang</td>\n",
       "      <td>west region</td>\n",
       "      <td>2300</td>\n",
       "      <td>2023</td>\n",
       "      <td>04</td>\n",
       "      <td>00s</td>\n",
       "    </tr>\n",
       "    <tr>\n",
       "      <th>6</th>\n",
       "      <td>2021-01</td>\n",
       "      <td>sengkang</td>\n",
       "      <td>407b</td>\n",
       "      <td>fernvale road</td>\n",
       "      <td>5-room</td>\n",
       "      <td>premium apartment</td>\n",
       "      <td>110.0</td>\n",
       "      <td>yes</td>\n",
       "      <td>2005</td>\n",
       "      <td>1.388997</td>\n",
       "      <td>103.875148</td>\n",
       "      <td>0.0</td>\n",
       "      <td>fernvale</td>\n",
       "      <td>sengkang</td>\n",
       "      <td>north-east region</td>\n",
       "      <td>2100</td>\n",
       "      <td>2021</td>\n",
       "      <td>01</td>\n",
       "      <td>00s</td>\n",
       "    </tr>\n",
       "    <tr>\n",
       "      <th>7</th>\n",
       "      <td>2022-06</td>\n",
       "      <td>ang mo kio</td>\n",
       "      <td>223</td>\n",
       "      <td>ang mo kio avenue 1</td>\n",
       "      <td>3-room</td>\n",
       "      <td>new generation</td>\n",
       "      <td>67.0</td>\n",
       "      <td>yes</td>\n",
       "      <td>1978</td>\n",
       "      <td>1.366048</td>\n",
       "      <td>103.838123</td>\n",
       "      <td>0.0</td>\n",
       "      <td>shangri-la</td>\n",
       "      <td>ang mo kio</td>\n",
       "      <td>north-east region</td>\n",
       "      <td>2300</td>\n",
       "      <td>2022</td>\n",
       "      <td>06</td>\n",
       "      <td>70s</td>\n",
       "    </tr>\n",
       "    <tr>\n",
       "      <th>8</th>\n",
       "      <td>2021-10</td>\n",
       "      <td>bishan</td>\n",
       "      <td>149</td>\n",
       "      <td>bishan street 11</td>\n",
       "      <td>4-room</td>\n",
       "      <td>simplified</td>\n",
       "      <td>84.0</td>\n",
       "      <td>yes</td>\n",
       "      <td>1987</td>\n",
       "      <td>1.344279</td>\n",
       "      <td>103.855556</td>\n",
       "      <td>0.0</td>\n",
       "      <td>bishan east</td>\n",
       "      <td>bishan</td>\n",
       "      <td>central region</td>\n",
       "      <td>2100</td>\n",
       "      <td>2021</td>\n",
       "      <td>10</td>\n",
       "      <td>80s</td>\n",
       "    </tr>\n",
       "    <tr>\n",
       "      <th>9</th>\n",
       "      <td>2021-04</td>\n",
       "      <td>punggol</td>\n",
       "      <td>133</td>\n",
       "      <td>edgedale plains</td>\n",
       "      <td>5-room</td>\n",
       "      <td>premium apartment</td>\n",
       "      <td>112.0</td>\n",
       "      <td>yes</td>\n",
       "      <td>2003</td>\n",
       "      <td>1.392832</td>\n",
       "      <td>103.910620</td>\n",
       "      <td>0.0</td>\n",
       "      <td>punggol field</td>\n",
       "      <td>punggol</td>\n",
       "      <td>north-east region</td>\n",
       "      <td>2100</td>\n",
       "      <td>2021</td>\n",
       "      <td>04</td>\n",
       "      <td>00s</td>\n",
       "    </tr>\n",
       "  </tbody>\n",
       "</table>\n",
       "</div>"
      ],
      "text/plain": [
       "  rent_approval_date             town block            street_name  flat_type  \\\n",
       "0            2021-09      jurong east   257  jurong east street 24     3-room   \n",
       "1            2022-05            bedok   119       bedok north road     4-room   \n",
       "2            2022-10        toa payoh   157     lorong 1 toa payoh     3-room   \n",
       "3            2021-08        pasir ris   250    pasir ris street 21  executive   \n",
       "4            2022-11  kallang/whampoa    34           whampoa west     3-room   \n",
       "5            2023-04    bukit panjang   654             senja road  executive   \n",
       "6            2021-01         sengkang  407b          fernvale road     5-room   \n",
       "7            2022-06       ang mo kio   223    ang mo kio avenue 1     3-room   \n",
       "8            2021-10           bishan   149       bishan street 11     4-room   \n",
       "9            2021-04          punggol   133        edgedale plains     5-room   \n",
       "\n",
       "          flat_model  floor_area_sqm furnished  lease_commence_date  latitude  \\\n",
       "0     new generation            67.0       yes                 1983  1.344518   \n",
       "1     new generation            92.0       yes                 1978  1.330186   \n",
       "2           improved            67.0       yes                 1971  1.332242   \n",
       "3          apartment           149.0       yes                 1993  1.370239   \n",
       "4           improved            68.0       yes                 1972  1.320502   \n",
       "5  premium apartment           130.0       yes                 2001  1.387847   \n",
       "6  premium apartment           110.0       yes                 2005  1.388997   \n",
       "7     new generation            67.0       yes                 1978  1.366048   \n",
       "8         simplified            84.0       yes                 1987  1.344279   \n",
       "9  premium apartment           112.0       yes                 2003  1.392832   \n",
       "\n",
       "    longitude  elevation            subzone  planning_area             region  \\\n",
       "0  103.738630        0.0         yuhua east    jurong east        west region   \n",
       "1  103.938717        0.0        bedok north          bedok        east region   \n",
       "2  103.845643        0.0  toa payoh central      toa payoh     central region   \n",
       "3  103.962894        0.0    pasir ris drive      pasir ris        east region   \n",
       "4  103.863341        0.0          bendemeer        kallang     central region   \n",
       "5  103.764249        0.0            saujana  bukit panjang        west region   \n",
       "6  103.875148        0.0           fernvale       sengkang  north-east region   \n",
       "7  103.838123        0.0         shangri-la     ang mo kio  north-east region   \n",
       "8  103.855556        0.0        bishan east         bishan     central region   \n",
       "9  103.910620        0.0      punggol field        punggol  north-east region   \n",
       "\n",
       "   monthly_rent rent_approval_year rent_approval_month lease_date_cat  \n",
       "0          1600               2021                  09            80s  \n",
       "1          2250               2022                  05            70s  \n",
       "2          1900               2022                  10            70s  \n",
       "3          2850               2021                  08            90s  \n",
       "4          2100               2022                  11            70s  \n",
       "5          2300               2023                  04            00s  \n",
       "6          2100               2021                  01            00s  \n",
       "7          2300               2022                  06            70s  \n",
       "8          2100               2021                  10            80s  \n",
       "9          2100               2021                  04            00s  "
      ]
     },
     "execution_count": 8,
     "metadata": {},
     "output_type": "execute_result"
    }
   ],
   "source": [
    "train_set_cleaned.head(10)"
   ]
  },
  {
   "cell_type": "code",
   "execution_count": 9,
   "id": "e80af6ef",
   "metadata": {},
   "outputs": [
    {
     "data": {
      "text/plain": [
       "rent_approval_year\n",
       "2021    24909\n",
       "2022    21399\n",
       "2023    13692\n",
       "Name: count, dtype: int64"
      ]
     },
     "execution_count": 9,
     "metadata": {},
     "output_type": "execute_result"
    }
   ],
   "source": [
    "train_set_cleaned['rent_approval_year'].value_counts()"
   ]
  },
  {
   "cell_type": "markdown",
   "id": "58a7de33-543c-4155-8a21-7103efe70f5d",
   "metadata": {},
   "source": [
    "### encoding"
   ]
  },
  {
   "cell_type": "code",
   "execution_count": 10,
   "id": "b5e068a6-e2af-4ddf-9908-cfd1f9b87cb6",
   "metadata": {},
   "outputs": [],
   "source": [
    "# create a new dataframe\n",
    "encoded_train_set = train_set_cleaned[['monthly_rent']].copy()"
   ]
  },
  {
   "cell_type": "markdown",
   "id": "cac3fd3a-97f3-4456-b2ce-3c2b45ef57b5",
   "metadata": {},
   "source": [
    "#### spatial information"
   ]
  },
  {
   "cell_type": "code",
   "execution_count": 11,
   "id": "946f9678-647a-4064-9485-12125d45d96c",
   "metadata": {},
   "outputs": [],
   "source": [
    "# encode regions with the mean of target variable for each region\n",
    "\n",
    "region_encoder = TargetEncoder()\n",
    "encoded_train_set['region_encoded'] = region_encoder.fit_transform(train_set_cleaned['region'], train_set_cleaned['monthly_rent'])"
   ]
  },
  {
   "cell_type": "code",
   "execution_count": 12,
   "id": "4329dbd3-9235-4e61-bc7e-d809b0612b32",
   "metadata": {},
   "outputs": [],
   "source": [
    "# encode planning areas with target variable information\n",
    "\n",
    "planning_area_encoder = TargetEncoder()\n",
    "encoded_train_set['planning_area_encoded'] = planning_area_encoder.fit_transform(train_set_cleaned['planning_area'], train_set_cleaned['monthly_rent'])"
   ]
  },
  {
   "cell_type": "code",
   "execution_count": 13,
   "id": "d2741bd3-e151-42a0-b2a4-75b26da2933b",
   "metadata": {},
   "outputs": [],
   "source": [
    "# encode subzones with target variable information\n",
    "\n",
    "subzone_encoder = TargetEncoder()\n",
    "encoded_train_set['subzone_encoded'] = subzone_encoder.fit_transform(train_set_cleaned['subzone'], train_set_cleaned['monthly_rent'])"
   ]
  },
  {
   "cell_type": "code",
   "execution_count": 14,
   "id": "0d306b26-11b4-4caf-8168-fe71b6d19488",
   "metadata": {},
   "outputs": [],
   "source": [
    "# encode regions with target variable information\n",
    "\n",
    "street_encoder = TargetEncoder()\n",
    "encoded_train_set['street_encoded'] = street_encoder.fit_transform(train_set_cleaned['street_name'], train_set_cleaned['monthly_rent'])"
   ]
  },
  {
   "cell_type": "code",
   "execution_count": 15,
   "id": "d27f673b-ce2a-4a68-9fa7-f80ac4a884f9",
   "metadata": {},
   "outputs": [
    {
     "name": "stdout",
     "output_type": "stream",
     "text": [
      "The correlation between region and planning area is 0.579100\n",
      "The correlation between planning area and subzone is 0.669665\n",
      "The correlation between subzone and street is 0.828036\n"
     ]
    }
   ],
   "source": [
    "# spatial hierarchical correlation\n",
    "\n",
    "region_planning_corr = encoded_train_set['region_encoded'].corr(encoded_train_set['planning_area_encoded'])\n",
    "planning_subzone_corr = encoded_train_set['planning_area_encoded'].corr(encoded_train_set['subzone_encoded'])\n",
    "subzone_street_corr = encoded_train_set['subzone_encoded'].corr(encoded_train_set['street_encoded'])\n",
    "\n",
    "print(f'The correlation between region and planning area is {region_planning_corr:3f}')\n",
    "print(f'The correlation between planning area and subzone is {planning_subzone_corr:3f}')\n",
    "print(f'The correlation between subzone and street is {subzone_street_corr:3f}')"
   ]
  },
  {
   "cell_type": "code",
   "execution_count": 16,
   "id": "93acf80e-8d7e-4b65-9785-4ab7f743ae4a",
   "metadata": {},
   "outputs": [
    {
     "name": "stdout",
     "output_type": "stream",
     "text": [
      "Region and Monthly Rental correlation is 0.124776\n",
      "Planning Area and Monthly Rental correlation is 0.215462\n",
      "Subzone and Monthly Rental correlation is 0.320711\n",
      "Street and Monthly Rental correlation is 0.374731\n"
     ]
    }
   ],
   "source": [
    "# spatial information correlation with monthly rent\n",
    "\n",
    "region_rent_corr = encoded_train_set['region_encoded'].corr(encoded_train_set['monthly_rent'])\n",
    "planning_rent_corr = encoded_train_set['planning_area_encoded'].corr(encoded_train_set['monthly_rent'])\n",
    "subzone_rent_corr = encoded_train_set['subzone_encoded'].corr(encoded_train_set['monthly_rent'])\n",
    "street_rent_corr = encoded_train_set['street_encoded'].corr(encoded_train_set['monthly_rent'])\n",
    "\n",
    "print(f'Region and Monthly Rental correlation is {region_rent_corr:3f}')\n",
    "print(f'Planning Area and Monthly Rental correlation is {planning_rent_corr:3f}')\n",
    "print(f'Subzone and Monthly Rental correlation is {subzone_rent_corr:3f}')\n",
    "print(f'Street and Monthly Rental correlation is {street_rent_corr:3f}')"
   ]
  },
  {
   "cell_type": "markdown",
   "id": "5a49bbb0-94ab-4810-93dc-c91678e081d4",
   "metadata": {},
   "source": [
    "#### rent date & lease date"
   ]
  },
  {
   "cell_type": "code",
   "execution_count": 17,
   "id": "6d54aaa0-2368-4f8e-af41-eb9d82b6b59b",
   "metadata": {},
   "outputs": [
    {
     "name": "stdout",
     "output_type": "stream",
     "text": [
      "Rental Approval Date and Monthly Rental correlation is 0.546074\n"
     ]
    }
   ],
   "source": [
    "# rental approval date\n",
    "\n",
    "rental_encoder = TargetEncoder()\n",
    "encoded_train_set['rental_approval_date_encoded'] = rental_encoder.fit_transform(train_set_cleaned['rent_approval_date'].astype(str), train_set_cleaned['monthly_rent'])\n",
    "\n",
    "rental_date_rent_corr = encoded_train_set['rental_approval_date_encoded'].corr(encoded_train_set['monthly_rent'])\n",
    "print(f'Rental Approval Date and Monthly Rental correlation is {rental_date_rent_corr:3f}')"
   ]
  },
  {
   "cell_type": "code",
   "execution_count": 18,
   "id": "6005de5b-f3b7-488a-97f8-e5662a629443",
   "metadata": {},
   "outputs": [
    {
     "name": "stdout",
     "output_type": "stream",
     "text": [
      "Rental Approval Year and Monthly Rental correlation is 0.504737\n"
     ]
    }
   ],
   "source": [
    "# rental approval year\n",
    "\n",
    "rental_year_encoder = TargetEncoder()\n",
    "encoded_train_set['rental_approval_year_encoded'] = rental_year_encoder.fit_transform(train_set_cleaned['rent_approval_year'].astype(str), train_set_cleaned['monthly_rent'])\n",
    "\n",
    "rental_year_rent_corr = encoded_train_set['rental_approval_year_encoded'].corr(encoded_train_set['monthly_rent'])\n",
    "print(f'Rental Approval Year and Monthly Rental correlation is {rental_year_rent_corr:3f}')"
   ]
  },
  {
   "cell_type": "code",
   "execution_count": 19,
   "id": "1c413319-073e-4f7e-b804-f473368e12be",
   "metadata": {},
   "outputs": [
    {
     "name": "stdout",
     "output_type": "stream",
     "text": [
      "Rental Approval Month and Monthly Rental correlation is 0.106482\n"
     ]
    }
   ],
   "source": [
    "# rental approval month\n",
    "\n",
    "rental_month_encoder = TargetEncoder()\n",
    "encoded_train_set['rental_approval_month_encoded'] = rental_month_encoder.fit_transform(train_set_cleaned['rent_approval_month'].astype(str), train_set_cleaned['monthly_rent'])\n",
    "\n",
    "rental_month_rent_corr = encoded_train_set['rental_approval_month_encoded'].corr(encoded_train_set['monthly_rent'])\n",
    "print(f'Rental Approval Month and Monthly Rental correlation is {rental_month_rent_corr:3f}')"
   ]
  },
  {
   "cell_type": "code",
   "execution_count": 20,
   "id": "b30c104f-cfe0-4d6f-a75e-42b728e4d296",
   "metadata": {},
   "outputs": [
    {
     "name": "stdout",
     "output_type": "stream",
     "text": [
      "Lease Commence Date and Monthly Rental correlation is 0.223300\n"
     ]
    }
   ],
   "source": [
    "# lease commence year (in decade)\n",
    "\n",
    "lease_encoder = TargetEncoder()\n",
    "encoded_train_set['lease_commence_date_encoded'] = lease_encoder.fit_transform(train_set_cleaned['lease_date_cat'], train_set_cleaned['monthly_rent'])\n",
    "\n",
    "lease_date_rent_corr = encoded_train_set['lease_commence_date_encoded'].corr(encoded_train_set['monthly_rent'])\n",
    "print(f'Lease Commence Date and Monthly Rental correlation is {lease_date_rent_corr:3f}')"
   ]
  },
  {
   "cell_type": "markdown",
   "id": "fc432174-2430-46bc-9e5e-7a4906ea5bff",
   "metadata": {},
   "source": [
    "#### flat_type and flat_model"
   ]
  },
  {
   "cell_type": "code",
   "execution_count": 21,
   "id": "69f8a475-573d-4bc3-84f5-ef09d2ad62d6",
   "metadata": {},
   "outputs": [
    {
     "data": {
      "text/plain": [
       "flat_type\n",
       "4-room       21889\n",
       "3-room       18897\n",
       "5-room       14759\n",
       "executive     3528\n",
       "2-room         927\n",
       "Name: count, dtype: int64"
      ]
     },
     "execution_count": 21,
     "metadata": {},
     "output_type": "execute_result"
    }
   ],
   "source": [
    "train_set_cleaned['flat_type'].value_counts()"
   ]
  },
  {
   "cell_type": "code",
   "execution_count": 22,
   "id": "43452241-825c-4ad6-80ed-27889e055ad5",
   "metadata": {},
   "outputs": [
    {
     "name": "stdout",
     "output_type": "stream",
     "text": [
      "Flat Type and Monthly Rental correlation is 0.346146\n"
     ]
    }
   ],
   "source": [
    "# flat type\n",
    "\n",
    "flat_type_encoder = TargetEncoder()\n",
    "encoded_train_set['flat_type_encoded'] = flat_type_encoder.fit_transform(train_set_cleaned['flat_type'], train_set_cleaned['monthly_rent'])\n",
    "\n",
    "flat_type_rent_corr = encoded_train_set['flat_type_encoded'].corr(encoded_train_set['monthly_rent'])\n",
    "print(f'Flat Type and Monthly Rental correlation is {flat_type_rent_corr:3f}')"
   ]
  },
  {
   "cell_type": "code",
   "execution_count": 23,
   "id": "0e572e87-1059-4e88-a001-36335306ae29",
   "metadata": {},
   "outputs": [
    {
     "name": "stdout",
     "output_type": "stream",
     "text": [
      "Flat Model and Monthly Rental correlation is 0.236876\n"
     ]
    }
   ],
   "source": [
    "# flat model\n",
    "\n",
    "flat_model_encoder = TargetEncoder()\n",
    "encoded_train_set['flat_model_encoded'] = flat_model_encoder.fit_transform(train_set_cleaned['flat_model'], train_set_cleaned['monthly_rent'])\n",
    "\n",
    "flat_model_rent_corr = encoded_train_set['flat_model_encoded'].corr(encoded_train_set['monthly_rent'])\n",
    "print(f'Flat Model and Monthly Rental correlation is {flat_model_rent_corr:3f}')"
   ]
  },
  {
   "cell_type": "markdown",
   "id": "3c71ab3f-6f06-4a45-8948-330564fb3134",
   "metadata": {},
   "source": [
    "#### floor area"
   ]
  },
  {
   "cell_type": "code",
   "execution_count": 24,
   "id": "aaef5500-d5fa-4b4f-83bf-a3a11b9be1c1",
   "metadata": {},
   "outputs": [],
   "source": [
    "# floor area sqm\n",
    "encoded_train_set['floor_area_sqm'] = train_set_cleaned['floor_area_sqm'].copy()"
   ]
  },
  {
   "cell_type": "markdown",
   "id": "1f2a6e0d-7ae2-4cc5-b499-548a83fab005",
   "metadata": {},
   "source": [
    "### normalization"
   ]
  },
  {
   "cell_type": "code",
   "execution_count": 25,
   "id": "55dfe599-3d4b-4d53-8db7-4cce5a47ea45",
   "metadata": {},
   "outputs": [],
   "source": [
    "from sklearn.preprocessing import StandardScaler"
   ]
  },
  {
   "cell_type": "code",
   "execution_count": 26,
   "id": "a07f0df1-b1a7-4797-a5e7-77f63859b484",
   "metadata": {
    "tags": []
   },
   "outputs": [
    {
     "data": {
      "text/html": [
       "<div>\n",
       "<style scoped>\n",
       "    .dataframe tbody tr th:only-of-type {\n",
       "        vertical-align: middle;\n",
       "    }\n",
       "\n",
       "    .dataframe tbody tr th {\n",
       "        vertical-align: top;\n",
       "    }\n",
       "\n",
       "    .dataframe thead th {\n",
       "        text-align: right;\n",
       "    }\n",
       "</style>\n",
       "<table border=\"1\" class=\"dataframe\">\n",
       "  <thead>\n",
       "    <tr style=\"text-align: right;\">\n",
       "      <th></th>\n",
       "      <th>monthly_rent</th>\n",
       "      <th>region_encoded</th>\n",
       "      <th>planning_area_encoded</th>\n",
       "      <th>subzone_encoded</th>\n",
       "      <th>street_encoded</th>\n",
       "      <th>rental_approval_date_encoded</th>\n",
       "      <th>rental_approval_year_encoded</th>\n",
       "      <th>rental_approval_month_encoded</th>\n",
       "      <th>lease_commence_date_encoded</th>\n",
       "      <th>flat_type_encoded</th>\n",
       "      <th>flat_model_encoded</th>\n",
       "      <th>floor_area_sqm</th>\n",
       "    </tr>\n",
       "  </thead>\n",
       "  <tbody>\n",
       "    <tr>\n",
       "      <th>0</th>\n",
       "      <td>1600</td>\n",
       "      <td>2569.167537</td>\n",
       "      <td>2595.146199</td>\n",
       "      <td>2542.158516</td>\n",
       "      <td>2312.179832</td>\n",
       "      <td>2233.926780</td>\n",
       "      <td>2225.773817</td>\n",
       "      <td>2489.108495</td>\n",
       "      <td>2479.803864</td>\n",
       "      <td>2276.033233</td>\n",
       "      <td>2369.965462</td>\n",
       "      <td>67.0</td>\n",
       "    </tr>\n",
       "    <tr>\n",
       "      <th>1</th>\n",
       "      <td>2250</td>\n",
       "      <td>2570.667785</td>\n",
       "      <td>2438.227223</td>\n",
       "      <td>2360.371046</td>\n",
       "      <td>2404.212860</td>\n",
       "      <td>2517.128874</td>\n",
       "      <td>2651.014066</td>\n",
       "      <td>2618.130520</td>\n",
       "      <td>2421.705462</td>\n",
       "      <td>2692.359176</td>\n",
       "      <td>2369.965462</td>\n",
       "      <td>92.0</td>\n",
       "    </tr>\n",
       "    <tr>\n",
       "      <th>2</th>\n",
       "      <td>1900</td>\n",
       "      <td>2737.201353</td>\n",
       "      <td>2516.680515</td>\n",
       "      <td>2808.893871</td>\n",
       "      <td>2403.464419</td>\n",
       "      <td>2928.483245</td>\n",
       "      <td>2651.014066</td>\n",
       "      <td>2563.328013</td>\n",
       "      <td>2421.705462</td>\n",
       "      <td>2276.033233</td>\n",
       "      <td>2636.211052</td>\n",
       "      <td>67.0</td>\n",
       "    </tr>\n",
       "    <tr>\n",
       "      <th>3</th>\n",
       "      <td>2850</td>\n",
       "      <td>2570.667785</td>\n",
       "      <td>2686.857477</td>\n",
       "      <td>2610.338573</td>\n",
       "      <td>2757.834101</td>\n",
       "      <td>2249.901768</td>\n",
       "      <td>2225.773817</td>\n",
       "      <td>2470.895522</td>\n",
       "      <td>2700.899570</td>\n",
       "      <td>2892.857143</td>\n",
       "      <td>2878.725962</td>\n",
       "      <td>149.0</td>\n",
       "    </tr>\n",
       "    <tr>\n",
       "      <th>4</th>\n",
       "      <td>2100</td>\n",
       "      <td>2737.201353</td>\n",
       "      <td>2702.635659</td>\n",
       "      <td>2793.525180</td>\n",
       "      <td>2407.998266</td>\n",
       "      <td>2986.739659</td>\n",
       "      <td>2651.014066</td>\n",
       "      <td>2611.993243</td>\n",
       "      <td>2421.705462</td>\n",
       "      <td>2276.033233</td>\n",
       "      <td>2636.211052</td>\n",
       "      <td>68.0</td>\n",
       "    </tr>\n",
       "    <tr>\n",
       "      <th>...</th>\n",
       "      <td>...</td>\n",
       "      <td>...</td>\n",
       "      <td>...</td>\n",
       "      <td>...</td>\n",
       "      <td>...</td>\n",
       "      <td>...</td>\n",
       "      <td>...</td>\n",
       "      <td>...</td>\n",
       "      <td>...</td>\n",
       "      <td>...</td>\n",
       "      <td>...</td>\n",
       "      <td>...</td>\n",
       "    </tr>\n",
       "    <tr>\n",
       "      <th>59995</th>\n",
       "      <td>2200</td>\n",
       "      <td>2558.822710</td>\n",
       "      <td>2416.700057</td>\n",
       "      <td>2390.887097</td>\n",
       "      <td>2336.012658</td>\n",
       "      <td>2233.926780</td>\n",
       "      <td>2225.773817</td>\n",
       "      <td>2489.108495</td>\n",
       "      <td>2421.705462</td>\n",
       "      <td>2276.033233</td>\n",
       "      <td>2369.965462</td>\n",
       "      <td>67.0</td>\n",
       "    </tr>\n",
       "    <tr>\n",
       "      <th>59996</th>\n",
       "      <td>4100</td>\n",
       "      <td>2737.201353</td>\n",
       "      <td>2904.113924</td>\n",
       "      <td>2694.936709</td>\n",
       "      <td>2763.731680</td>\n",
       "      <td>3178.128128</td>\n",
       "      <td>3158.694858</td>\n",
       "      <td>2608.904470</td>\n",
       "      <td>2880.707364</td>\n",
       "      <td>2692.359176</td>\n",
       "      <td>2612.031305</td>\n",
       "      <td>83.0</td>\n",
       "    </tr>\n",
       "    <tr>\n",
       "      <th>59997</th>\n",
       "      <td>2250</td>\n",
       "      <td>2570.667785</td>\n",
       "      <td>2638.489123</td>\n",
       "      <td>2602.823315</td>\n",
       "      <td>2509.602223</td>\n",
       "      <td>2582.606383</td>\n",
       "      <td>2651.014066</td>\n",
       "      <td>2658.595055</td>\n",
       "      <td>2479.803864</td>\n",
       "      <td>2815.593875</td>\n",
       "      <td>2636.211052</td>\n",
       "      <td>122.0</td>\n",
       "    </tr>\n",
       "    <tr>\n",
       "      <th>59998</th>\n",
       "      <td>4700</td>\n",
       "      <td>2570.667785</td>\n",
       "      <td>2438.227223</td>\n",
       "      <td>2434.379786</td>\n",
       "      <td>2591.443246</td>\n",
       "      <td>3069.581639</td>\n",
       "      <td>3158.694858</td>\n",
       "      <td>2490.553580</td>\n",
       "      <td>2421.705462</td>\n",
       "      <td>2815.593875</td>\n",
       "      <td>2444.223986</td>\n",
       "      <td>123.0</td>\n",
       "    </tr>\n",
       "    <tr>\n",
       "      <th>59999</th>\n",
       "      <td>2850</td>\n",
       "      <td>2558.822710</td>\n",
       "      <td>2416.700057</td>\n",
       "      <td>2390.887097</td>\n",
       "      <td>2336.012658</td>\n",
       "      <td>3103.949406</td>\n",
       "      <td>3158.694858</td>\n",
       "      <td>2568.640029</td>\n",
       "      <td>2421.705462</td>\n",
       "      <td>2276.033233</td>\n",
       "      <td>2369.965462</td>\n",
       "      <td>67.0</td>\n",
       "    </tr>\n",
       "  </tbody>\n",
       "</table>\n",
       "<p>60000 rows × 12 columns</p>\n",
       "</div>"
      ],
      "text/plain": [
       "       monthly_rent  region_encoded  planning_area_encoded  subzone_encoded  \\\n",
       "0              1600     2569.167537            2595.146199      2542.158516   \n",
       "1              2250     2570.667785            2438.227223      2360.371046   \n",
       "2              1900     2737.201353            2516.680515      2808.893871   \n",
       "3              2850     2570.667785            2686.857477      2610.338573   \n",
       "4              2100     2737.201353            2702.635659      2793.525180   \n",
       "...             ...             ...                    ...              ...   \n",
       "59995          2200     2558.822710            2416.700057      2390.887097   \n",
       "59996          4100     2737.201353            2904.113924      2694.936709   \n",
       "59997          2250     2570.667785            2638.489123      2602.823315   \n",
       "59998          4700     2570.667785            2438.227223      2434.379786   \n",
       "59999          2850     2558.822710            2416.700057      2390.887097   \n",
       "\n",
       "       street_encoded  rental_approval_date_encoded  \\\n",
       "0         2312.179832                   2233.926780   \n",
       "1         2404.212860                   2517.128874   \n",
       "2         2403.464419                   2928.483245   \n",
       "3         2757.834101                   2249.901768   \n",
       "4         2407.998266                   2986.739659   \n",
       "...               ...                           ...   \n",
       "59995     2336.012658                   2233.926780   \n",
       "59996     2763.731680                   3178.128128   \n",
       "59997     2509.602223                   2582.606383   \n",
       "59998     2591.443246                   3069.581639   \n",
       "59999     2336.012658                   3103.949406   \n",
       "\n",
       "       rental_approval_year_encoded  rental_approval_month_encoded  \\\n",
       "0                       2225.773817                    2489.108495   \n",
       "1                       2651.014066                    2618.130520   \n",
       "2                       2651.014066                    2563.328013   \n",
       "3                       2225.773817                    2470.895522   \n",
       "4                       2651.014066                    2611.993243   \n",
       "...                             ...                            ...   \n",
       "59995                   2225.773817                    2489.108495   \n",
       "59996                   3158.694858                    2608.904470   \n",
       "59997                   2651.014066                    2658.595055   \n",
       "59998                   3158.694858                    2490.553580   \n",
       "59999                   3158.694858                    2568.640029   \n",
       "\n",
       "       lease_commence_date_encoded  flat_type_encoded  flat_model_encoded  \\\n",
       "0                      2479.803864        2276.033233         2369.965462   \n",
       "1                      2421.705462        2692.359176         2369.965462   \n",
       "2                      2421.705462        2276.033233         2636.211052   \n",
       "3                      2700.899570        2892.857143         2878.725962   \n",
       "4                      2421.705462        2276.033233         2636.211052   \n",
       "...                            ...                ...                 ...   \n",
       "59995                  2421.705462        2276.033233         2369.965462   \n",
       "59996                  2880.707364        2692.359176         2612.031305   \n",
       "59997                  2479.803864        2815.593875         2636.211052   \n",
       "59998                  2421.705462        2815.593875         2444.223986   \n",
       "59999                  2421.705462        2276.033233         2369.965462   \n",
       "\n",
       "       floor_area_sqm  \n",
       "0                67.0  \n",
       "1                92.0  \n",
       "2                67.0  \n",
       "3               149.0  \n",
       "4                68.0  \n",
       "...               ...  \n",
       "59995            67.0  \n",
       "59996            83.0  \n",
       "59997           122.0  \n",
       "59998           123.0  \n",
       "59999            67.0  \n",
       "\n",
       "[60000 rows x 12 columns]"
      ]
     },
     "execution_count": 26,
     "metadata": {},
     "output_type": "execute_result"
    }
   ],
   "source": [
    "encoded_train_set"
   ]
  },
  {
   "cell_type": "code",
   "execution_count": 27,
   "id": "aaa525ad-38b5-43ef-ba45-a15e5492e258",
   "metadata": {},
   "outputs": [],
   "source": [
    "# initialize the feature scaler\n",
    "scaler = StandardScaler()\n",
    "\n",
    "normalized_features = scaler.fit_transform(encoded_train_set.iloc[:,1:])"
   ]
  },
  {
   "cell_type": "code",
   "execution_count": 28,
   "id": "0a660ea7-b52a-4c2e-a703-7207d0aefff6",
   "metadata": {},
   "outputs": [
    {
     "data": {
      "text/html": [
       "<div>\n",
       "<style scoped>\n",
       "    .dataframe tbody tr th:only-of-type {\n",
       "        vertical-align: middle;\n",
       "    }\n",
       "\n",
       "    .dataframe tbody tr th {\n",
       "        vertical-align: top;\n",
       "    }\n",
       "\n",
       "    .dataframe thead th {\n",
       "        text-align: right;\n",
       "    }\n",
       "</style>\n",
       "<table border=\"1\" class=\"dataframe\">\n",
       "  <thead>\n",
       "    <tr style=\"text-align: right;\">\n",
       "      <th></th>\n",
       "      <th>0</th>\n",
       "      <th>1</th>\n",
       "      <th>2</th>\n",
       "      <th>3</th>\n",
       "      <th>4</th>\n",
       "      <th>5</th>\n",
       "      <th>6</th>\n",
       "      <th>7</th>\n",
       "      <th>8</th>\n",
       "      <th>9</th>\n",
       "      <th>10</th>\n",
       "    </tr>\n",
       "  </thead>\n",
       "  <tbody>\n",
       "    <tr>\n",
       "      <th>count</th>\n",
       "      <td>6.000000e+04</td>\n",
       "      <td>6.000000e+04</td>\n",
       "      <td>6.000000e+04</td>\n",
       "      <td>6.000000e+04</td>\n",
       "      <td>6.000000e+04</td>\n",
       "      <td>6.000000e+04</td>\n",
       "      <td>6.000000e+04</td>\n",
       "      <td>6.000000e+04</td>\n",
       "      <td>6.000000e+04</td>\n",
       "      <td>6.000000e+04</td>\n",
       "      <td>6.000000e+04</td>\n",
       "    </tr>\n",
       "    <tr>\n",
       "      <th>mean</th>\n",
       "      <td>3.644847e-15</td>\n",
       "      <td>3.031353e-15</td>\n",
       "      <td>1.777896e-15</td>\n",
       "      <td>-1.202238e-15</td>\n",
       "      <td>-1.717737e-16</td>\n",
       "      <td>-6.679102e-17</td>\n",
       "      <td>-2.394529e-16</td>\n",
       "      <td>2.234657e-15</td>\n",
       "      <td>1.636854e-15</td>\n",
       "      <td>-1.326346e-17</td>\n",
       "      <td>9.616012e-17</td>\n",
       "    </tr>\n",
       "    <tr>\n",
       "      <th>std</th>\n",
       "      <td>1.000008e+00</td>\n",
       "      <td>1.000008e+00</td>\n",
       "      <td>1.000008e+00</td>\n",
       "      <td>1.000008e+00</td>\n",
       "      <td>1.000008e+00</td>\n",
       "      <td>1.000008e+00</td>\n",
       "      <td>1.000008e+00</td>\n",
       "      <td>1.000008e+00</td>\n",
       "      <td>1.000008e+00</td>\n",
       "      <td>1.000008e+00</td>\n",
       "      <td>1.000008e+00</td>\n",
       "    </tr>\n",
       "    <tr>\n",
       "      <th>min</th>\n",
       "      <td>-1.566138e+00</td>\n",
       "      <td>-1.248074e+00</td>\n",
       "      <td>-1.997123e+00</td>\n",
       "      <td>-2.296490e+00</td>\n",
       "      <td>-1.136227e+00</td>\n",
       "      <td>-1.010297e+00</td>\n",
       "      <td>-1.568908e+00</td>\n",
       "      <td>-2.255897e+00</td>\n",
       "      <td>-2.991037e+00</td>\n",
       "      <td>-3.995729e+00</td>\n",
       "      <td>-2.511392e+00</td>\n",
       "    </tr>\n",
       "    <tr>\n",
       "      <th>25%</th>\n",
       "      <td>-3.531893e-01</td>\n",
       "      <td>-8.052347e-01</td>\n",
       "      <td>-6.691684e-01</td>\n",
       "      <td>-6.786320e-01</td>\n",
       "      <td>-8.720157e-01</td>\n",
       "      <td>-1.010297e+00</td>\n",
       "      <td>-6.184322e-01</td>\n",
       "      <td>-6.923440e-01</td>\n",
       "      <td>-1.270077e+00</td>\n",
       "      <td>-7.507854e-01</td>\n",
       "      <td>-8.919552e-01</td>\n",
       "    </tr>\n",
       "    <tr>\n",
       "      <th>50%</th>\n",
       "      <td>-2.372201e-01</td>\n",
       "      <td>3.131269e-02</td>\n",
       "      <td>-1.654897e-02</td>\n",
       "      <td>-1.316916e-01</td>\n",
       "      <td>-3.898313e-01</td>\n",
       "      <td>1.681796e-01</td>\n",
       "      <td>2.440221e-01</td>\n",
       "      <td>-6.923440e-01</td>\n",
       "      <td>4.123100e-01</td>\n",
       "      <td>1.323593e-01</td>\n",
       "      <td>-6.147460e-02</td>\n",
       "    </tr>\n",
       "    <tr>\n",
       "      <th>75%</th>\n",
       "      <td>-2.204018e-01</td>\n",
       "      <td>3.667341e-01</td>\n",
       "      <td>2.406733e-01</td>\n",
       "      <td>4.403614e-01</td>\n",
       "      <td>1.227626e+00</td>\n",
       "      <td>1.681796e-01</td>\n",
       "      <td>8.967736e-01</td>\n",
       "      <td>9.533255e-01</td>\n",
       "      <td>9.103054e-01</td>\n",
       "      <td>2.772886e-01</td>\n",
       "      <td>6.444339e-01</td>\n",
       "    </tr>\n",
       "    <tr>\n",
       "      <th>max</th>\n",
       "      <td>1.646499e+00</td>\n",
       "      <td>6.297960e+00</td>\n",
       "      <td>6.454196e+00</td>\n",
       "      <td>6.316627e+00</td>\n",
       "      <td>1.721150e+00</td>\n",
       "      <td>1.575125e+00</td>\n",
       "      <td>1.828760e+00</td>\n",
       "      <td>1.818984e+00</td>\n",
       "      <td>1.222529e+00</td>\n",
       "      <td>1.030540e+01</td>\n",
       "      <td>5.004457e+00</td>\n",
       "    </tr>\n",
       "  </tbody>\n",
       "</table>\n",
       "</div>"
      ],
      "text/plain": [
       "                 0             1             2             3             4   \\\n",
       "count  6.000000e+04  6.000000e+04  6.000000e+04  6.000000e+04  6.000000e+04   \n",
       "mean   3.644847e-15  3.031353e-15  1.777896e-15 -1.202238e-15 -1.717737e-16   \n",
       "std    1.000008e+00  1.000008e+00  1.000008e+00  1.000008e+00  1.000008e+00   \n",
       "min   -1.566138e+00 -1.248074e+00 -1.997123e+00 -2.296490e+00 -1.136227e+00   \n",
       "25%   -3.531893e-01 -8.052347e-01 -6.691684e-01 -6.786320e-01 -8.720157e-01   \n",
       "50%   -2.372201e-01  3.131269e-02 -1.654897e-02 -1.316916e-01 -3.898313e-01   \n",
       "75%   -2.204018e-01  3.667341e-01  2.406733e-01  4.403614e-01  1.227626e+00   \n",
       "max    1.646499e+00  6.297960e+00  6.454196e+00  6.316627e+00  1.721150e+00   \n",
       "\n",
       "                 5             6             7             8             9   \\\n",
       "count  6.000000e+04  6.000000e+04  6.000000e+04  6.000000e+04  6.000000e+04   \n",
       "mean  -6.679102e-17 -2.394529e-16  2.234657e-15  1.636854e-15 -1.326346e-17   \n",
       "std    1.000008e+00  1.000008e+00  1.000008e+00  1.000008e+00  1.000008e+00   \n",
       "min   -1.010297e+00 -1.568908e+00 -2.255897e+00 -2.991037e+00 -3.995729e+00   \n",
       "25%   -1.010297e+00 -6.184322e-01 -6.923440e-01 -1.270077e+00 -7.507854e-01   \n",
       "50%    1.681796e-01  2.440221e-01 -6.923440e-01  4.123100e-01  1.323593e-01   \n",
       "75%    1.681796e-01  8.967736e-01  9.533255e-01  9.103054e-01  2.772886e-01   \n",
       "max    1.575125e+00  1.828760e+00  1.818984e+00  1.222529e+00  1.030540e+01   \n",
       "\n",
       "                 10  \n",
       "count  6.000000e+04  \n",
       "mean   9.616012e-17  \n",
       "std    1.000008e+00  \n",
       "min   -2.511392e+00  \n",
       "25%   -8.919552e-01  \n",
       "50%   -6.147460e-02  \n",
       "75%    6.444339e-01  \n",
       "max    5.004457e+00  "
      ]
     },
     "execution_count": 28,
     "metadata": {},
     "output_type": "execute_result"
    }
   ],
   "source": [
    "df_describe = pd.DataFrame(normalized_features)\n",
    "df_describe.describe()"
   ]
  },
  {
   "cell_type": "code",
   "execution_count": 29,
   "id": "2a603b5d-204c-4c51-96c2-7d68c68ee9fb",
   "metadata": {},
   "outputs": [],
   "source": [
    "# normalize target variable\n",
    "y_scaler = StandardScaler()\n",
    "\n",
    "target_variable = y_scaler.fit_transform(encoded_train_set['monthly_rent'].to_numpy().reshape(-1, 1))\n",
    "target_variable = target_variable.reshape(-1)"
   ]
  },
  {
   "cell_type": "code",
   "execution_count": 30,
   "id": "0f704a15-9ae6-4e9c-8e0f-2cd0b36b658b",
   "metadata": {
    "tags": []
   },
   "outputs": [
    {
     "data": {
      "text/html": [
       "<div>\n",
       "<style scoped>\n",
       "    .dataframe tbody tr th:only-of-type {\n",
       "        vertical-align: middle;\n",
       "    }\n",
       "\n",
       "    .dataframe tbody tr th {\n",
       "        vertical-align: top;\n",
       "    }\n",
       "\n",
       "    .dataframe thead th {\n",
       "        text-align: right;\n",
       "    }\n",
       "</style>\n",
       "<table border=\"1\" class=\"dataframe\">\n",
       "  <thead>\n",
       "    <tr style=\"text-align: right;\">\n",
       "      <th></th>\n",
       "      <th>0</th>\n",
       "    </tr>\n",
       "  </thead>\n",
       "  <tbody>\n",
       "    <tr>\n",
       "      <th>count</th>\n",
       "      <td>6.000000e+04</td>\n",
       "    </tr>\n",
       "    <tr>\n",
       "      <th>mean</th>\n",
       "      <td>-5.826450e-17</td>\n",
       "    </tr>\n",
       "    <tr>\n",
       "      <th>std</th>\n",
       "      <td>1.000008e+00</td>\n",
       "    </tr>\n",
       "    <tr>\n",
       "      <th>min</th>\n",
       "      <td>-3.203684e+00</td>\n",
       "    </tr>\n",
       "    <tr>\n",
       "      <th>25%</th>\n",
       "      <td>-6.858655e-01</td>\n",
       "    </tr>\n",
       "    <tr>\n",
       "      <th>50%</th>\n",
       "      <td>-2.662290e-01</td>\n",
       "    </tr>\n",
       "    <tr>\n",
       "      <th>75%</th>\n",
       "      <td>5.730439e-01</td>\n",
       "    </tr>\n",
       "    <tr>\n",
       "      <th>max</th>\n",
       "      <td>6.098257e+00</td>\n",
       "    </tr>\n",
       "  </tbody>\n",
       "</table>\n",
       "</div>"
      ],
      "text/plain": [
       "                  0\n",
       "count  6.000000e+04\n",
       "mean  -5.826450e-17\n",
       "std    1.000008e+00\n",
       "min   -3.203684e+00\n",
       "25%   -6.858655e-01\n",
       "50%   -2.662290e-01\n",
       "75%    5.730439e-01\n",
       "max    6.098257e+00"
      ]
     },
     "execution_count": 30,
     "metadata": {},
     "output_type": "execute_result"
    }
   ],
   "source": [
    "df_describe = pd.DataFrame(target_variable)\n",
    "df_describe.describe()"
   ]
  },
  {
   "cell_type": "markdown",
   "id": "09537277-509a-4ace-a40d-1de8fd977628",
   "metadata": {
    "tags": []
   },
   "source": [
    "### training"
   ]
  },
  {
   "cell_type": "code",
   "execution_count": 31,
   "id": "36f6cee8-30bc-4bd6-9c90-fb0f26e7851b",
   "metadata": {},
   "outputs": [],
   "source": [
    "from sklearn.linear_model import LassoCV\n",
    "from sklearn.model_selection import KFold, cross_val_score\n",
    "from sklearn.metrics import mean_squared_error\n",
    "from sklearn.ensemble import GradientBoostingRegressor"
   ]
  },
  {
   "cell_type": "markdown",
   "id": "79333038-5417-4fa2-a8e3-5df94d66fe79",
   "metadata": {},
   "source": [
    "#### lasso regression model"
   ]
  },
  {
   "cell_type": "code",
   "execution_count": 32,
   "id": "6aeaadb8-4513-4be6-a180-79c4755a1082",
   "metadata": {},
   "outputs": [
    {
     "data": {
      "text/html": [
       "<style>#sk-container-id-1 {color: black;}#sk-container-id-1 pre{padding: 0;}#sk-container-id-1 div.sk-toggleable {background-color: white;}#sk-container-id-1 label.sk-toggleable__label {cursor: pointer;display: block;width: 100%;margin-bottom: 0;padding: 0.3em;box-sizing: border-box;text-align: center;}#sk-container-id-1 label.sk-toggleable__label-arrow:before {content: \"▸\";float: left;margin-right: 0.25em;color: #696969;}#sk-container-id-1 label.sk-toggleable__label-arrow:hover:before {color: black;}#sk-container-id-1 div.sk-estimator:hover label.sk-toggleable__label-arrow:before {color: black;}#sk-container-id-1 div.sk-toggleable__content {max-height: 0;max-width: 0;overflow: hidden;text-align: left;background-color: #f0f8ff;}#sk-container-id-1 div.sk-toggleable__content pre {margin: 0.2em;color: black;border-radius: 0.25em;background-color: #f0f8ff;}#sk-container-id-1 input.sk-toggleable__control:checked~div.sk-toggleable__content {max-height: 200px;max-width: 100%;overflow: auto;}#sk-container-id-1 input.sk-toggleable__control:checked~label.sk-toggleable__label-arrow:before {content: \"▾\";}#sk-container-id-1 div.sk-estimator input.sk-toggleable__control:checked~label.sk-toggleable__label {background-color: #d4ebff;}#sk-container-id-1 div.sk-label input.sk-toggleable__control:checked~label.sk-toggleable__label {background-color: #d4ebff;}#sk-container-id-1 input.sk-hidden--visually {border: 0;clip: rect(1px 1px 1px 1px);clip: rect(1px, 1px, 1px, 1px);height: 1px;margin: -1px;overflow: hidden;padding: 0;position: absolute;width: 1px;}#sk-container-id-1 div.sk-estimator {font-family: monospace;background-color: #f0f8ff;border: 1px dotted black;border-radius: 0.25em;box-sizing: border-box;margin-bottom: 0.5em;}#sk-container-id-1 div.sk-estimator:hover {background-color: #d4ebff;}#sk-container-id-1 div.sk-parallel-item::after {content: \"\";width: 100%;border-bottom: 1px solid gray;flex-grow: 1;}#sk-container-id-1 div.sk-label:hover label.sk-toggleable__label {background-color: #d4ebff;}#sk-container-id-1 div.sk-serial::before {content: \"\";position: absolute;border-left: 1px solid gray;box-sizing: border-box;top: 0;bottom: 0;left: 50%;z-index: 0;}#sk-container-id-1 div.sk-serial {display: flex;flex-direction: column;align-items: center;background-color: white;padding-right: 0.2em;padding-left: 0.2em;position: relative;}#sk-container-id-1 div.sk-item {position: relative;z-index: 1;}#sk-container-id-1 div.sk-parallel {display: flex;align-items: stretch;justify-content: center;background-color: white;position: relative;}#sk-container-id-1 div.sk-item::before, #sk-container-id-1 div.sk-parallel-item::before {content: \"\";position: absolute;border-left: 1px solid gray;box-sizing: border-box;top: 0;bottom: 0;left: 50%;z-index: -1;}#sk-container-id-1 div.sk-parallel-item {display: flex;flex-direction: column;z-index: 1;position: relative;background-color: white;}#sk-container-id-1 div.sk-parallel-item:first-child::after {align-self: flex-end;width: 50%;}#sk-container-id-1 div.sk-parallel-item:last-child::after {align-self: flex-start;width: 50%;}#sk-container-id-1 div.sk-parallel-item:only-child::after {width: 0;}#sk-container-id-1 div.sk-dashed-wrapped {border: 1px dashed gray;margin: 0 0.4em 0.5em 0.4em;box-sizing: border-box;padding-bottom: 0.4em;background-color: white;}#sk-container-id-1 div.sk-label label {font-family: monospace;font-weight: bold;display: inline-block;line-height: 1.2em;}#sk-container-id-1 div.sk-label-container {text-align: center;}#sk-container-id-1 div.sk-container {/* jupyter's `normalize.less` sets `[hidden] { display: none; }` but bootstrap.min.css set `[hidden] { display: none !important; }` so we also need the `!important` here to be able to override the default hidden behavior on the sphinx rendered scikit-learn.org. See: https://github.com/scikit-learn/scikit-learn/issues/21755 */display: inline-block !important;position: relative;}#sk-container-id-1 div.sk-text-repr-fallback {display: none;}</style><div id=\"sk-container-id-1\" class=\"sk-top-container\"><div class=\"sk-text-repr-fallback\"><pre>LassoCV(cv=KFold(n_splits=5, random_state=42, shuffle=True), random_state=42)</pre><b>In a Jupyter environment, please rerun this cell to show the HTML representation or trust the notebook. <br />On GitHub, the HTML representation is unable to render, please try loading this page with nbviewer.org.</b></div><div class=\"sk-container\" hidden><div class=\"sk-item\"><div class=\"sk-estimator sk-toggleable\"><input class=\"sk-toggleable__control sk-hidden--visually\" id=\"sk-estimator-id-1\" type=\"checkbox\" checked><label for=\"sk-estimator-id-1\" class=\"sk-toggleable__label sk-toggleable__label-arrow\">LassoCV</label><div class=\"sk-toggleable__content\"><pre>LassoCV(cv=KFold(n_splits=5, random_state=42, shuffle=True), random_state=42)</pre></div></div></div></div></div>"
      ],
      "text/plain": [
       "LassoCV(cv=KFold(n_splits=5, random_state=42, shuffle=True), random_state=42)"
      ]
     },
     "execution_count": 32,
     "metadata": {},
     "output_type": "execute_result"
    }
   ],
   "source": [
    "kfold = KFold(n_splits=5, shuffle=True, random_state=42)\n",
    "\n",
    "# Lasso Regression with cross-validation\n",
    "lasso = LassoCV(cv=kfold, random_state=42)\n",
    "lasso.fit(normalized_features, target_variable)"
   ]
  },
  {
   "cell_type": "code",
   "execution_count": 33,
   "id": "7f3d2a79-14fe-40cb-92d5-90a7970433cb",
   "metadata": {},
   "outputs": [
    {
     "name": "stdout",
     "output_type": "stream",
     "text": [
      "Optimal alpha: 0.0022045081649800934\n",
      "Mean cross-validated score of the best estimator: 0.5026472684759563\n"
     ]
    }
   ],
   "source": [
    "# evaluate the model\n",
    "\n",
    "print(\"Optimal alpha:\", lasso.alpha_)\n",
    "print(\"Mean cross-validated score of the best estimator:\", lasso.score(normalized_features, target_variable))"
   ]
  },
  {
   "cell_type": "code",
   "execution_count": 34,
   "id": "599349fd-83cd-4ef1-8d20-ebc2ea123333",
   "metadata": {},
   "outputs": [
    {
     "name": "stdout",
     "output_type": "stream",
     "text": [
      "Lasso Regression Mean Squared Error: 0.4973527315240436\n",
      "Model Coefficients: \n",
      "[ 1.07341824e-01  8.02923488e-04  3.84111326e-02  1.94728342e-01\n",
      "  5.31511063e-01  1.09286102e-02 -2.66962319e-04 -0.00000000e+00\n",
      "  2.56129575e-01  0.00000000e+00  5.47936350e-02]\n"
     ]
    }
   ],
   "source": [
    "# making predictions \n",
    "y_pred = lasso.predict(normalized_features)\n",
    "\n",
    "# evaluating the model\n",
    "mse = mean_squared_error(target_variable, y_pred)\n",
    "print(f\"Lasso Regression Mean Squared Error: {mse}\")\n",
    "print(f\"Model Coefficients: \\n{lasso.coef_}\")"
   ]
  },
  {
   "cell_type": "markdown",
   "id": "e74264d7-3340-4828-9341-9c0e0a09eaed",
   "metadata": {},
   "source": [
    "#### graident boosting tree"
   ]
  },
  {
   "cell_type": "code",
   "execution_count": 35,
   "id": "3714aba0-ba8c-456d-86d9-bee3b24a9590",
   "metadata": {},
   "outputs": [
    {
     "data": {
      "text/html": [
       "<style>#sk-container-id-2 {color: black;}#sk-container-id-2 pre{padding: 0;}#sk-container-id-2 div.sk-toggleable {background-color: white;}#sk-container-id-2 label.sk-toggleable__label {cursor: pointer;display: block;width: 100%;margin-bottom: 0;padding: 0.3em;box-sizing: border-box;text-align: center;}#sk-container-id-2 label.sk-toggleable__label-arrow:before {content: \"▸\";float: left;margin-right: 0.25em;color: #696969;}#sk-container-id-2 label.sk-toggleable__label-arrow:hover:before {color: black;}#sk-container-id-2 div.sk-estimator:hover label.sk-toggleable__label-arrow:before {color: black;}#sk-container-id-2 div.sk-toggleable__content {max-height: 0;max-width: 0;overflow: hidden;text-align: left;background-color: #f0f8ff;}#sk-container-id-2 div.sk-toggleable__content pre {margin: 0.2em;color: black;border-radius: 0.25em;background-color: #f0f8ff;}#sk-container-id-2 input.sk-toggleable__control:checked~div.sk-toggleable__content {max-height: 200px;max-width: 100%;overflow: auto;}#sk-container-id-2 input.sk-toggleable__control:checked~label.sk-toggleable__label-arrow:before {content: \"▾\";}#sk-container-id-2 div.sk-estimator input.sk-toggleable__control:checked~label.sk-toggleable__label {background-color: #d4ebff;}#sk-container-id-2 div.sk-label input.sk-toggleable__control:checked~label.sk-toggleable__label {background-color: #d4ebff;}#sk-container-id-2 input.sk-hidden--visually {border: 0;clip: rect(1px 1px 1px 1px);clip: rect(1px, 1px, 1px, 1px);height: 1px;margin: -1px;overflow: hidden;padding: 0;position: absolute;width: 1px;}#sk-container-id-2 div.sk-estimator {font-family: monospace;background-color: #f0f8ff;border: 1px dotted black;border-radius: 0.25em;box-sizing: border-box;margin-bottom: 0.5em;}#sk-container-id-2 div.sk-estimator:hover {background-color: #d4ebff;}#sk-container-id-2 div.sk-parallel-item::after {content: \"\";width: 100%;border-bottom: 1px solid gray;flex-grow: 1;}#sk-container-id-2 div.sk-label:hover label.sk-toggleable__label {background-color: #d4ebff;}#sk-container-id-2 div.sk-serial::before {content: \"\";position: absolute;border-left: 1px solid gray;box-sizing: border-box;top: 0;bottom: 0;left: 50%;z-index: 0;}#sk-container-id-2 div.sk-serial {display: flex;flex-direction: column;align-items: center;background-color: white;padding-right: 0.2em;padding-left: 0.2em;position: relative;}#sk-container-id-2 div.sk-item {position: relative;z-index: 1;}#sk-container-id-2 div.sk-parallel {display: flex;align-items: stretch;justify-content: center;background-color: white;position: relative;}#sk-container-id-2 div.sk-item::before, #sk-container-id-2 div.sk-parallel-item::before {content: \"\";position: absolute;border-left: 1px solid gray;box-sizing: border-box;top: 0;bottom: 0;left: 50%;z-index: -1;}#sk-container-id-2 div.sk-parallel-item {display: flex;flex-direction: column;z-index: 1;position: relative;background-color: white;}#sk-container-id-2 div.sk-parallel-item:first-child::after {align-self: flex-end;width: 50%;}#sk-container-id-2 div.sk-parallel-item:last-child::after {align-self: flex-start;width: 50%;}#sk-container-id-2 div.sk-parallel-item:only-child::after {width: 0;}#sk-container-id-2 div.sk-dashed-wrapped {border: 1px dashed gray;margin: 0 0.4em 0.5em 0.4em;box-sizing: border-box;padding-bottom: 0.4em;background-color: white;}#sk-container-id-2 div.sk-label label {font-family: monospace;font-weight: bold;display: inline-block;line-height: 1.2em;}#sk-container-id-2 div.sk-label-container {text-align: center;}#sk-container-id-2 div.sk-container {/* jupyter's `normalize.less` sets `[hidden] { display: none; }` but bootstrap.min.css set `[hidden] { display: none !important; }` so we also need the `!important` here to be able to override the default hidden behavior on the sphinx rendered scikit-learn.org. See: https://github.com/scikit-learn/scikit-learn/issues/21755 */display: inline-block !important;position: relative;}#sk-container-id-2 div.sk-text-repr-fallback {display: none;}</style><div id=\"sk-container-id-2\" class=\"sk-top-container\"><div class=\"sk-text-repr-fallback\"><pre>GradientBoostingRegressor(random_state=42)</pre><b>In a Jupyter environment, please rerun this cell to show the HTML representation or trust the notebook. <br />On GitHub, the HTML representation is unable to render, please try loading this page with nbviewer.org.</b></div><div class=\"sk-container\" hidden><div class=\"sk-item\"><div class=\"sk-estimator sk-toggleable\"><input class=\"sk-toggleable__control sk-hidden--visually\" id=\"sk-estimator-id-2\" type=\"checkbox\" checked><label for=\"sk-estimator-id-2\" class=\"sk-toggleable__label sk-toggleable__label-arrow\">GradientBoostingRegressor</label><div class=\"sk-toggleable__content\"><pre>GradientBoostingRegressor(random_state=42)</pre></div></div></div></div></div>"
      ],
      "text/plain": [
       "GradientBoostingRegressor(random_state=42)"
      ]
     },
     "execution_count": 35,
     "metadata": {},
     "output_type": "execute_result"
    }
   ],
   "source": [
    "gbr = GradientBoostingRegressor(n_estimators=100, learning_rate=0.1, max_depth=3, random_state=42)\n",
    "\n",
    "# implement gradient boosting tree with cross validation\n",
    "cv = KFold(n_splits=5, shuffle=True, random_state=42)\n",
    "cross_val_scores = cross_val_score(gbr, normalized_features, target_variable, cv=cv, scoring='neg_mean_squared_error')\n",
    "\n",
    "gbr.fit(normalized_features, target_variable)"
   ]
  },
  {
   "cell_type": "code",
   "execution_count": 36,
   "id": "069fa136-e894-437c-89a7-d8d9641d97fe",
   "metadata": {},
   "outputs": [
    {
     "name": "stdout",
     "output_type": "stream",
     "text": [
      "Gradient Boosting Regressor Mean Squared Error: 0.46812061212081335\n"
     ]
    }
   ],
   "source": [
    "mean_mse = np.mean(-cross_val_scores)\n",
    "print(f\"Gradient Boosting Regressor Mean Squared Error: {mean_mse}\")"
   ]
  },
  {
   "cell_type": "code",
   "execution_count": 37,
   "id": "840d2177-a3ed-4327-86fd-8297ebcd998d",
   "metadata": {},
   "outputs": [
    {
     "name": "stdout",
     "output_type": "stream",
     "text": [
      "Mean cross-validated score of the best regressor: 0.5393054798182728\n"
     ]
    }
   ],
   "source": [
    "print(\"Mean cross-validated score of the best regressor:\", gbr.score(normalized_features, target_variable))"
   ]
  },
  {
   "cell_type": "markdown",
   "id": "4974cb20-ec00-4f97-beaa-7bce0aee2e77",
   "metadata": {},
   "source": [
    "### test set evaluation"
   ]
  },
  {
   "cell_type": "code",
   "execution_count": 38,
   "id": "4f5043ac-f608-4f0a-8694-0b28c9f7c082",
   "metadata": {},
   "outputs": [
    {
     "data": {
      "text/html": [
       "<div>\n",
       "<style scoped>\n",
       "    .dataframe tbody tr th:only-of-type {\n",
       "        vertical-align: middle;\n",
       "    }\n",
       "\n",
       "    .dataframe tbody tr th {\n",
       "        vertical-align: top;\n",
       "    }\n",
       "\n",
       "    .dataframe thead th {\n",
       "        text-align: right;\n",
       "    }\n",
       "</style>\n",
       "<table border=\"1\" class=\"dataframe\">\n",
       "  <thead>\n",
       "    <tr style=\"text-align: right;\">\n",
       "      <th></th>\n",
       "      <th>rent_approval_date</th>\n",
       "      <th>town</th>\n",
       "      <th>block</th>\n",
       "      <th>street_name</th>\n",
       "      <th>flat_type</th>\n",
       "      <th>flat_model</th>\n",
       "      <th>floor_area_sqm</th>\n",
       "      <th>furnished</th>\n",
       "      <th>lease_commence_date</th>\n",
       "      <th>latitude</th>\n",
       "      <th>longitude</th>\n",
       "      <th>elevation</th>\n",
       "      <th>subzone</th>\n",
       "      <th>planning_area</th>\n",
       "      <th>region</th>\n",
       "    </tr>\n",
       "  </thead>\n",
       "  <tbody>\n",
       "    <tr>\n",
       "      <th>0</th>\n",
       "      <td>2023-01</td>\n",
       "      <td>hougang</td>\n",
       "      <td>245</td>\n",
       "      <td>hougang street 22</td>\n",
       "      <td>5-room</td>\n",
       "      <td>improved</td>\n",
       "      <td>121.0</td>\n",
       "      <td>yes</td>\n",
       "      <td>1984</td>\n",
       "      <td>1.358411</td>\n",
       "      <td>103.891722</td>\n",
       "      <td>0.0</td>\n",
       "      <td>lorong ah soo</td>\n",
       "      <td>hougang</td>\n",
       "      <td>north-east region</td>\n",
       "    </tr>\n",
       "    <tr>\n",
       "      <th>1</th>\n",
       "      <td>2022-09</td>\n",
       "      <td>sembawang</td>\n",
       "      <td>316</td>\n",
       "      <td>sembawang vista</td>\n",
       "      <td>4-room</td>\n",
       "      <td>model a</td>\n",
       "      <td>100.0</td>\n",
       "      <td>yes</td>\n",
       "      <td>1999</td>\n",
       "      <td>1.446343</td>\n",
       "      <td>103.820817</td>\n",
       "      <td>0.0</td>\n",
       "      <td>sembawang central</td>\n",
       "      <td>sembawang</td>\n",
       "      <td>north region</td>\n",
       "    </tr>\n",
       "    <tr>\n",
       "      <th>2</th>\n",
       "      <td>2023-07</td>\n",
       "      <td>clementi</td>\n",
       "      <td>708</td>\n",
       "      <td>Clementi West Street 2</td>\n",
       "      <td>4-room</td>\n",
       "      <td>new generation</td>\n",
       "      <td>91.0</td>\n",
       "      <td>yes</td>\n",
       "      <td>1980</td>\n",
       "      <td>1.305719</td>\n",
       "      <td>103.762168</td>\n",
       "      <td>0.0</td>\n",
       "      <td>clementi west</td>\n",
       "      <td>clementi</td>\n",
       "      <td>west region</td>\n",
       "    </tr>\n",
       "    <tr>\n",
       "      <th>3</th>\n",
       "      <td>2021-08</td>\n",
       "      <td>jurong east</td>\n",
       "      <td>351</td>\n",
       "      <td>Jurong East Street 31</td>\n",
       "      <td>3 room</td>\n",
       "      <td>model a</td>\n",
       "      <td>74.0</td>\n",
       "      <td>yes</td>\n",
       "      <td>1986</td>\n",
       "      <td>1.344832</td>\n",
       "      <td>103.730778</td>\n",
       "      <td>0.0</td>\n",
       "      <td>yuhua west</td>\n",
       "      <td>jurong east</td>\n",
       "      <td>west region</td>\n",
       "    </tr>\n",
       "    <tr>\n",
       "      <th>4</th>\n",
       "      <td>2022-03</td>\n",
       "      <td>jurong east</td>\n",
       "      <td>305</td>\n",
       "      <td>jurong east street 32</td>\n",
       "      <td>5-room</td>\n",
       "      <td>improved</td>\n",
       "      <td>121.0</td>\n",
       "      <td>yes</td>\n",
       "      <td>1983</td>\n",
       "      <td>1.345437</td>\n",
       "      <td>103.735241</td>\n",
       "      <td>0.0</td>\n",
       "      <td>yuhua west</td>\n",
       "      <td>jurong east</td>\n",
       "      <td>west region</td>\n",
       "    </tr>\n",
       "  </tbody>\n",
       "</table>\n",
       "</div>"
      ],
      "text/plain": [
       "  rent_approval_date         town block             street_name flat_type  \\\n",
       "0            2023-01      hougang   245       hougang street 22    5-room   \n",
       "1            2022-09    sembawang   316         sembawang vista    4-room   \n",
       "2            2023-07     clementi   708  Clementi West Street 2    4-room   \n",
       "3            2021-08  jurong east   351   Jurong East Street 31    3 room   \n",
       "4            2022-03  jurong east   305   jurong east street 32    5-room   \n",
       "\n",
       "       flat_model  floor_area_sqm furnished  lease_commence_date  latitude  \\\n",
       "0        improved           121.0       yes                 1984  1.358411   \n",
       "1         model a           100.0       yes                 1999  1.446343   \n",
       "2  new generation            91.0       yes                 1980  1.305719   \n",
       "3         model a            74.0       yes                 1986  1.344832   \n",
       "4        improved           121.0       yes                 1983  1.345437   \n",
       "\n",
       "    longitude  elevation            subzone planning_area             region  \n",
       "0  103.891722        0.0      lorong ah soo       hougang  north-east region  \n",
       "1  103.820817        0.0  sembawang central     sembawang       north region  \n",
       "2  103.762168        0.0      clementi west      clementi        west region  \n",
       "3  103.730778        0.0         yuhua west   jurong east        west region  \n",
       "4  103.735241        0.0         yuhua west   jurong east        west region  "
      ]
     },
     "execution_count": 38,
     "metadata": {},
     "output_type": "execute_result"
    }
   ],
   "source": [
    "test_set = pd.read_csv('Datasets/test.csv')\n",
    "\n",
    "test_set.head()"
   ]
  },
  {
   "cell_type": "code",
   "execution_count": 39,
   "id": "9c95b255-c3d9-486f-9666-acf2d7589120",
   "metadata": {},
   "outputs": [
    {
     "data": {
      "text/plain": [
       "0"
      ]
     },
     "execution_count": 39,
     "metadata": {},
     "output_type": "execute_result"
    }
   ],
   "source": [
    "(test_set.isna().sum(axis=1) > 0).sum()"
   ]
  },
  {
   "cell_type": "code",
   "execution_count": 40,
   "id": "47cbc4eb-d63c-4fed-aaec-65c6d19e42aa",
   "metadata": {},
   "outputs": [],
   "source": [
    "# data preparation\n",
    "\n",
    "test_set[['rent_approval_year','rent_approval_month']] = test_set['rent_approval_date'].str.split('-',expand=True)\n",
    "\n",
    "test_set['rent_approval_date'] = test_set['rent_approval_date'].astype('Period[M]')\n",
    "\n",
    "# street name to lower case\n",
    "test_set['street_name'] = test_set['street_name'].apply(str.lower)\n",
    "\n",
    "# replace blank space with hyphen in flat_type (e.g. '2 room' to '2-room')\n",
    "test_set['flat_type'] = test_set['flat_type'].apply(lambda x: x.replace(' ', '-'))\n",
    "\n",
    "# categorize lease commence date by decades (remember to date_filter_condition function above first)\n",
    "test_set['lease_date_cat'] = test_set['lease_commence_date'].apply(date_filter_condition)"
   ]
  },
  {
   "cell_type": "code",
   "execution_count": 41,
   "id": "cfae0cce-ad23-4d21-ac93-a0c9b48c393d",
   "metadata": {},
   "outputs": [],
   "source": [
    "# encoding test set\n",
    "\n",
    "encoded_test_set = pd.DataFrame(index=test_set.index)\n",
    "\n",
    "encoded_test_set['region_encoded'] = region_encoder.transform(test_set['region'])\n",
    "encoded_test_set['planning_area_encoded'] = planning_area_encoder.transform(test_set['planning_area'])\n",
    "encoded_test_set['subzone_encoded'] = subzone_encoder.transform(test_set['subzone'])\n",
    "encoded_test_set['street_encoded'] = street_encoder.transform(test_set['street_name'])\n",
    "\n",
    "encoded_test_set['rental_approval_date_encoded'] = rental_encoder.transform(test_set['rent_approval_date'])\n",
    "encoded_test_set['rental_approval_year_encoded'] = rental_year_encoder.transform(test_set['rent_approval_year'])\n",
    "encoded_test_set['rental_approval_month_encoded'] = rental_month_encoder.transform(test_set['rent_approval_month'])\n",
    "\n",
    "encoded_test_set['lease_commence_date_encoded'] = lease_encoder.transform(test_set['lease_date_cat'])\n",
    "\n",
    "encoded_test_set['flat_type_encoded'] = flat_type_encoder.transform(test_set['flat_type'])\n",
    "encoded_test_set['flat_model_encoded'] = flat_model_encoder.transform(test_set['flat_model'])\n",
    "\n",
    "encoded_test_set['floor_area_sqm'] = test_set['floor_area_sqm'].copy()\n",
    "\n"
   ]
  },
  {
   "cell_type": "code",
   "execution_count": 42,
   "id": "e2c92cda-9231-442e-ad9e-10d064e54c47",
   "metadata": {
    "collapsed": true,
    "jupyter": {
     "outputs_hidden": true
    },
    "tags": []
   },
   "outputs": [
    {
     "data": {
      "text/html": [
       "<div>\n",
       "<style scoped>\n",
       "    .dataframe tbody tr th:only-of-type {\n",
       "        vertical-align: middle;\n",
       "    }\n",
       "\n",
       "    .dataframe tbody tr th {\n",
       "        vertical-align: top;\n",
       "    }\n",
       "\n",
       "    .dataframe thead th {\n",
       "        text-align: right;\n",
       "    }\n",
       "</style>\n",
       "<table border=\"1\" class=\"dataframe\">\n",
       "  <thead>\n",
       "    <tr style=\"text-align: right;\">\n",
       "      <th></th>\n",
       "      <th>region_encoded</th>\n",
       "      <th>planning_area_encoded</th>\n",
       "      <th>subzone_encoded</th>\n",
       "      <th>street_encoded</th>\n",
       "      <th>rental_approval_date_encoded</th>\n",
       "      <th>rental_approval_year_encoded</th>\n",
       "      <th>rental_approval_month_encoded</th>\n",
       "      <th>lease_commence_date_encoded</th>\n",
       "      <th>flat_type_encoded</th>\n",
       "      <th>flat_model_encoded</th>\n",
       "      <th>floor_area_sqm</th>\n",
       "    </tr>\n",
       "  </thead>\n",
       "  <tbody>\n",
       "    <tr>\n",
       "      <th>0</th>\n",
       "      <td>2558.822710</td>\n",
       "      <td>2503.252886</td>\n",
       "      <td>2427.604167</td>\n",
       "      <td>2348.993316</td>\n",
       "      <td>2590.328333</td>\n",
       "      <td>3158.694858</td>\n",
       "      <td>2490.553580</td>\n",
       "      <td>2479.803864</td>\n",
       "      <td>2815.593875</td>\n",
       "      <td>2636.211052</td>\n",
       "      <td>121.0</td>\n",
       "    </tr>\n",
       "    <tr>\n",
       "      <th>1</th>\n",
       "      <td>2450.623806</td>\n",
       "      <td>2540.491010</td>\n",
       "      <td>2592.332790</td>\n",
       "      <td>2640.043972</td>\n",
       "      <td>2590.328333</td>\n",
       "      <td>2651.014066</td>\n",
       "      <td>2489.108495</td>\n",
       "      <td>2700.899570</td>\n",
       "      <td>2692.359176</td>\n",
       "      <td>2612.031305</td>\n",
       "      <td>100.0</td>\n",
       "    </tr>\n",
       "    <tr>\n",
       "      <th>2</th>\n",
       "      <td>2569.167537</td>\n",
       "      <td>2646.808979</td>\n",
       "      <td>2395.588235</td>\n",
       "      <td>2532.195122</td>\n",
       "      <td>2590.328333</td>\n",
       "      <td>3158.694858</td>\n",
       "      <td>2729.542350</td>\n",
       "      <td>2479.803864</td>\n",
       "      <td>2692.359176</td>\n",
       "      <td>2369.965462</td>\n",
       "      <td>91.0</td>\n",
       "    </tr>\n",
       "    <tr>\n",
       "      <th>3</th>\n",
       "      <td>2569.167537</td>\n",
       "      <td>2595.146199</td>\n",
       "      <td>2400.150150</td>\n",
       "      <td>2780.896042</td>\n",
       "      <td>2590.328333</td>\n",
       "      <td>2225.773817</td>\n",
       "      <td>2470.895522</td>\n",
       "      <td>2479.803864</td>\n",
       "      <td>2276.033233</td>\n",
       "      <td>2612.031305</td>\n",
       "      <td>74.0</td>\n",
       "    </tr>\n",
       "    <tr>\n",
       "      <th>4</th>\n",
       "      <td>2569.167537</td>\n",
       "      <td>2595.146199</td>\n",
       "      <td>2400.150150</td>\n",
       "      <td>2268.564360</td>\n",
       "      <td>2590.328333</td>\n",
       "      <td>2651.014066</td>\n",
       "      <td>2543.250298</td>\n",
       "      <td>2479.803864</td>\n",
       "      <td>2815.593875</td>\n",
       "      <td>2636.211052</td>\n",
       "      <td>121.0</td>\n",
       "    </tr>\n",
       "    <tr>\n",
       "      <th>5</th>\n",
       "      <td>2569.167537</td>\n",
       "      <td>2646.808979</td>\n",
       "      <td>2395.588235</td>\n",
       "      <td>2229.881779</td>\n",
       "      <td>2590.328333</td>\n",
       "      <td>2651.014066</td>\n",
       "      <td>2490.553580</td>\n",
       "      <td>2479.803864</td>\n",
       "      <td>2276.033233</td>\n",
       "      <td>2369.965462</td>\n",
       "      <td>67.0</td>\n",
       "    </tr>\n",
       "    <tr>\n",
       "      <th>6</th>\n",
       "      <td>2558.822710</td>\n",
       "      <td>2665.555556</td>\n",
       "      <td>2654.294479</td>\n",
       "      <td>2590.503432</td>\n",
       "      <td>2590.328333</td>\n",
       "      <td>2225.773817</td>\n",
       "      <td>2618.130520</td>\n",
       "      <td>2742.515391</td>\n",
       "      <td>2815.593875</td>\n",
       "      <td>2709.678998</td>\n",
       "      <td>110.0</td>\n",
       "    </tr>\n",
       "    <tr>\n",
       "      <th>7</th>\n",
       "      <td>2570.667785</td>\n",
       "      <td>2638.489123</td>\n",
       "      <td>2602.085865</td>\n",
       "      <td>3081.579221</td>\n",
       "      <td>2590.328333</td>\n",
       "      <td>2651.014066</td>\n",
       "      <td>2470.895522</td>\n",
       "      <td>2742.515391</td>\n",
       "      <td>2815.593875</td>\n",
       "      <td>3150.404313</td>\n",
       "      <td>108.0</td>\n",
       "    </tr>\n",
       "    <tr>\n",
       "      <th>8</th>\n",
       "      <td>2569.167537</td>\n",
       "      <td>2640.890551</td>\n",
       "      <td>2873.930481</td>\n",
       "      <td>2820.173278</td>\n",
       "      <td>2590.328333</td>\n",
       "      <td>2225.773817</td>\n",
       "      <td>2680.680614</td>\n",
       "      <td>2742.515391</td>\n",
       "      <td>2892.857143</td>\n",
       "      <td>2709.678998</td>\n",
       "      <td>133.0</td>\n",
       "    </tr>\n",
       "    <tr>\n",
       "      <th>9</th>\n",
       "      <td>2737.201353</td>\n",
       "      <td>2585.947712</td>\n",
       "      <td>2585.947712</td>\n",
       "      <td>2480.479822</td>\n",
       "      <td>2590.328333</td>\n",
       "      <td>3158.694858</td>\n",
       "      <td>2729.542350</td>\n",
       "      <td>2421.705462</td>\n",
       "      <td>2815.593875</td>\n",
       "      <td>2444.223986</td>\n",
       "      <td>120.0</td>\n",
       "    </tr>\n",
       "  </tbody>\n",
       "</table>\n",
       "</div>"
      ],
      "text/plain": [
       "   region_encoded  planning_area_encoded  subzone_encoded  street_encoded  \\\n",
       "0     2558.822710            2503.252886      2427.604167     2348.993316   \n",
       "1     2450.623806            2540.491010      2592.332790     2640.043972   \n",
       "2     2569.167537            2646.808979      2395.588235     2532.195122   \n",
       "3     2569.167537            2595.146199      2400.150150     2780.896042   \n",
       "4     2569.167537            2595.146199      2400.150150     2268.564360   \n",
       "5     2569.167537            2646.808979      2395.588235     2229.881779   \n",
       "6     2558.822710            2665.555556      2654.294479     2590.503432   \n",
       "7     2570.667785            2638.489123      2602.085865     3081.579221   \n",
       "8     2569.167537            2640.890551      2873.930481     2820.173278   \n",
       "9     2737.201353            2585.947712      2585.947712     2480.479822   \n",
       "\n",
       "   rental_approval_date_encoded  rental_approval_year_encoded  \\\n",
       "0                   2590.328333                   3158.694858   \n",
       "1                   2590.328333                   2651.014066   \n",
       "2                   2590.328333                   3158.694858   \n",
       "3                   2590.328333                   2225.773817   \n",
       "4                   2590.328333                   2651.014066   \n",
       "5                   2590.328333                   2651.014066   \n",
       "6                   2590.328333                   2225.773817   \n",
       "7                   2590.328333                   2651.014066   \n",
       "8                   2590.328333                   2225.773817   \n",
       "9                   2590.328333                   3158.694858   \n",
       "\n",
       "   rental_approval_month_encoded  lease_commence_date_encoded  \\\n",
       "0                    2490.553580                  2479.803864   \n",
       "1                    2489.108495                  2700.899570   \n",
       "2                    2729.542350                  2479.803864   \n",
       "3                    2470.895522                  2479.803864   \n",
       "4                    2543.250298                  2479.803864   \n",
       "5                    2490.553580                  2479.803864   \n",
       "6                    2618.130520                  2742.515391   \n",
       "7                    2470.895522                  2742.515391   \n",
       "8                    2680.680614                  2742.515391   \n",
       "9                    2729.542350                  2421.705462   \n",
       "\n",
       "   flat_type_encoded  flat_model_encoded  floor_area_sqm  \n",
       "0        2815.593875         2636.211052           121.0  \n",
       "1        2692.359176         2612.031305           100.0  \n",
       "2        2692.359176         2369.965462            91.0  \n",
       "3        2276.033233         2612.031305            74.0  \n",
       "4        2815.593875         2636.211052           121.0  \n",
       "5        2276.033233         2369.965462            67.0  \n",
       "6        2815.593875         2709.678998           110.0  \n",
       "7        2815.593875         3150.404313           108.0  \n",
       "8        2892.857143         2709.678998           133.0  \n",
       "9        2815.593875         2444.223986           120.0  "
      ]
     },
     "execution_count": 42,
     "metadata": {},
     "output_type": "execute_result"
    }
   ],
   "source": [
    "encoded_test_set.head(10)"
   ]
  },
  {
   "cell_type": "code",
   "execution_count": 43,
   "id": "8ddac3ed-9930-4098-97d1-25ba29169063",
   "metadata": {},
   "outputs": [],
   "source": [
    "# normalization\n",
    "\n",
    "normalized_test_features = scaler.transform(encoded_test_set)"
   ]
  },
  {
   "cell_type": "code",
   "execution_count": 44,
   "id": "3ec4750f-b245-4f8f-9eb1-3d251e7dc1e9",
   "metadata": {},
   "outputs": [],
   "source": [
    "# lasso regressor prediction\n",
    "lasso_y_pred = lasso.predict(normalized_test_features).reshape(-1, 1)\n",
    "lasso_y_pred = y_scaler.inverse_transform(lasso_y_pred)"
   ]
  },
  {
   "cell_type": "code",
   "execution_count": 45,
   "id": "f0d9f201-8ff1-4f0b-b4c2-f3a41e26221d",
   "metadata": {},
   "outputs": [
    {
     "data": {
      "text/plain": [
       "array([[2638.07941832],\n",
       "       [2584.61883667],\n",
       "       [2601.29352993],\n",
       "       [2379.70944645],\n",
       "       [2589.78253261],\n",
       "       [2081.74073879],\n",
       "       [2756.97425016],\n",
       "       [3030.36795825],\n",
       "       [3009.71426825],\n",
       "       [2879.12616047],\n",
       "       [2494.58355694],\n",
       "       [2329.07311285],\n",
       "       [2537.64397099],\n",
       "       [2757.65927939],\n",
       "       [2645.87395555],\n",
       "       [2684.60741198],\n",
       "       [2237.91952287],\n",
       "       [2989.70775342],\n",
       "       [2765.80046726],\n",
       "       [2648.36433851]])"
      ]
     },
     "execution_count": 45,
     "metadata": {},
     "output_type": "execute_result"
    }
   ],
   "source": [
    "lasso_y_pred[:20]"
   ]
  },
  {
   "cell_type": "code",
   "execution_count": 46,
   "id": "ef477287-0513-4881-b166-bab6c52ff437",
   "metadata": {},
   "outputs": [],
   "source": [
    "# XGBoost prediction\n",
    "gbr_y_pred = gbr.predict(normalized_test_features).reshape(-1, 1)\n",
    "gbr_y_pred = y_scaler.inverse_transform(gbr_y_pred)"
   ]
  },
  {
   "cell_type": "code",
   "execution_count": 47,
   "id": "a61b8bbe-e28f-480f-98c2-d9cbd078d45f",
   "metadata": {},
   "outputs": [
    {
     "data": {
      "text/plain": [
       "array([[2623.72026836],\n",
       "       [2591.650405  ],\n",
       "       [2619.88358809],\n",
       "       [2299.96589769],\n",
       "       [2618.31453875],\n",
       "       [2240.84711411],\n",
       "       [2632.62192082],\n",
       "       [3024.28558682],\n",
       "       [2883.93607308],\n",
       "       [2947.91970038],\n",
       "       [2433.53263796],\n",
       "       [2244.79164793],\n",
       "       [2736.96339214],\n",
       "       [2660.4886048 ],\n",
       "       [2606.38332563],\n",
       "       [2575.21268777],\n",
       "       [2228.43972603],\n",
       "       [3075.60306771],\n",
       "       [2737.43612658],\n",
       "       [2632.43488934],\n",
       "       [2185.68289684],\n",
       "       [2417.72984217],\n",
       "       [2674.25231862],\n",
       "       [2427.79251577],\n",
       "       [2448.82243865],\n",
       "       [2315.37280209],\n",
       "       [2810.64536438],\n",
       "       [2624.33752873],\n",
       "       [2449.50436559],\n",
       "       [2675.58103808]])"
      ]
     },
     "execution_count": 47,
     "metadata": {},
     "output_type": "execute_result"
    }
   ],
   "source": [
    "gbr_y_pred[:30]"
   ]
  },
  {
   "cell_type": "markdown",
   "id": "05015645",
   "metadata": {},
   "source": [
    "### XGBoost Regression"
   ]
  },
  {
   "cell_type": "code",
   "execution_count": 50,
   "id": "77415af0",
   "metadata": {},
   "outputs": [],
   "source": [
    "import xgboost as xgb\n",
    "from xgboost import XGBRegressor\n",
    "from sklearn.model_selection import train_test_split\n",
    "from sklearn.metrics import mean_squared_error, r2_score, mean_absolute_percentage_error\n",
    "from sklearn.model_selection import RepeatedKFold\n",
    "from sklearn.model_selection import cross_val_score"
   ]
  },
  {
   "cell_type": "code",
   "execution_count": 51,
   "id": "3178ad05",
   "metadata": {},
   "outputs": [],
   "source": [
    "X, y = normalized_features, target_variable"
   ]
  },
  {
   "cell_type": "code",
   "execution_count": 52,
   "id": "542281a0",
   "metadata": {},
   "outputs": [],
   "source": [
    "# Split the data\n",
    "X_train, X_test, y_train, y_test = train_test_split(X, y, random_state=1)"
   ]
  },
  {
   "cell_type": "code",
   "execution_count": 53,
   "id": "dea7c1a4",
   "metadata": {},
   "outputs": [
    {
     "name": "stdout",
     "output_type": "stream",
     "text": [
      "Number of training samples in DMatrix: 45000\n",
      "Number of features in Dmatrix: 11\n"
     ]
    }
   ],
   "source": [
    "# Create regression matrices\n",
    "dtrain_reg = xgb.DMatrix(X_train, y_train, enable_categorical=True)\n",
    "dtest_reg = xgb.DMatrix(X_test, y_test, enable_categorical=True)\n",
    "\n",
    "#Printing basic information about the DMatrix\n",
    "print(\"Number of training samples in DMatrix:\", dtrain_reg.num_row())\n",
    "print(\"Number of features in Dmatrix:\", dtrain_reg.num_col())"
   ]
  },
  {
   "cell_type": "code",
   "execution_count": 54,
   "id": "e9c737ea",
   "metadata": {},
   "outputs": [],
   "source": [
    "# Define hyperparameters\n",
    "params = {\n",
    "    \"objective\": \"reg:squarederror\",\n",
    "}\n",
    "\n",
    "n = 100\n",
    "model = xgb.train(\n",
    "   params=params,\n",
    "   dtrain=dtrain_reg,\n",
    "   num_boost_round=n,\n",
    ")"
   ]
  },
  {
   "cell_type": "code",
   "execution_count": 55,
   "id": "678e0ef8",
   "metadata": {},
   "outputs": [
    {
     "name": "stdout",
     "output_type": "stream",
     "text": [
      "{'f0': 6.989086151123047, 'f1': 5.954370975494385, 'f2': 3.0978076457977295, 'f3': 5.976417541503906, 'f4': 21.886674880981445, 'f5': 6.861771106719971, 'f6': 1.217803955078125, 'f7': 5.4947638511657715, 'f8': 81.03535461425781, 'f9': 3.1352717876434326, 'f10': 3.252474069595337}\n"
     ]
    }
   ],
   "source": [
    "feature_score = model.get_score(importance_type=\"gain\")\n",
    "print(feature_score)"
   ]
  },
  {
   "cell_type": "code",
   "execution_count": 56,
   "id": "d860b80f",
   "metadata": {},
   "outputs": [],
   "source": [
    "preds = model.predict(dtest_reg)"
   ]
  },
  {
   "cell_type": "code",
   "execution_count": 57,
   "id": "574afd88",
   "metadata": {},
   "outputs": [
    {
     "name": "stdout",
     "output_type": "stream",
     "text": [
      "RMSE of the base model: 0.686\n",
      "R2 score of the base model: 0.528\n"
     ]
    }
   ],
   "source": [
    "# compute and print accuracy score\n",
    "\n",
    "rmse = mean_squared_error(y_test, preds, squared=False)\n",
    "r2 = r2_score(y_test, preds)\n",
    "\n",
    "print(f\"RMSE of the base model: {rmse:.3f}\")\n",
    "print(f\"R2 score of the base model: {r2:.3f}\")"
   ]
  },
  {
   "cell_type": "markdown",
   "id": "39fd9ea6",
   "metadata": {},
   "source": [
    "#### Early stopping\n",
    "We can test our model at each step and see if adding a new tree/round improves performance. To do so, we define a test dataset and a metric that is used to assess performance at each round. If performance haven’t improved for N rounds (N is defined by the variable early_stopping_round), we stop the training and keep the best number of boosting rounds."
   ]
  },
  {
   "cell_type": "code",
   "execution_count": 58,
   "id": "c9205885",
   "metadata": {},
   "outputs": [
    {
     "name": "stdout",
     "output_type": "stream",
     "text": [
      "[0]\tvalidation-rmse:0.86118\n",
      "[2]\tvalidation-rmse:0.73987\n",
      "[4]\tvalidation-rmse:0.70222\n",
      "[6]\tvalidation-rmse:0.68987\n",
      "[8]\tvalidation-rmse:0.68512\n",
      "[10]\tvalidation-rmse:0.68233\n",
      "[12]\tvalidation-rmse:0.68113\n",
      "[14]\tvalidation-rmse:0.68025\n",
      "[16]\tvalidation-rmse:0.67937\n",
      "[18]\tvalidation-rmse:0.67916\n",
      "[20]\tvalidation-rmse:0.67904\n",
      "[22]\tvalidation-rmse:0.67893\n",
      "[24]\tvalidation-rmse:0.67852\n",
      "[26]\tvalidation-rmse:0.67863\n",
      "[28]\tvalidation-rmse:0.67855\n",
      "[30]\tvalidation-rmse:0.67877\n",
      "[32]\tvalidation-rmse:0.67887\n"
     ]
    }
   ],
   "source": [
    "params = {\n",
    "    \"objective\": \"reg:squarederror\",\n",
    "}\n",
    "n = 100\n",
    "\n",
    "# evals = [(dtest_reg, \"validation\"), (dtrain_reg, \"train\")]\n",
    "evals = [(dtest_reg, \"validation\")]\n",
    "\n",
    "model = xgb.train(\n",
    "   params=params,\n",
    "   dtrain=dtrain_reg,\n",
    "   num_boost_round=n,\n",
    "   evals=evals,\n",
    "   verbose_eval=2, # Every ten rounds\n",
    "   early_stopping_rounds=10\n",
    ")"
   ]
  },
  {
   "cell_type": "markdown",
   "id": "2fd3351a",
   "metadata": {},
   "source": [
    "#### XGBoost Cross Validation"
   ]
  },
  {
   "cell_type": "code",
   "execution_count": 59,
   "id": "3a84cb95",
   "metadata": {},
   "outputs": [],
   "source": [
    "params = {\n",
    "    \"objective\": \"reg:squarederror\",\n",
    "}\n",
    "n = 100\n",
    "\n",
    "results = xgb.cv(\n",
    "   params, \n",
    "   dtrain_reg,\n",
    "   num_boost_round=n,\n",
    "   seed=42,\n",
    "   nfold=5,\n",
    "   metrics={'rmse'},\n",
    "   early_stopping_rounds=20\n",
    ")"
   ]
  },
  {
   "cell_type": "code",
   "execution_count": 60,
   "id": "4522d927",
   "metadata": {},
   "outputs": [
    {
     "name": "stdout",
     "output_type": "stream",
     "text": [
      "0.6844837021090517\n"
     ]
    }
   ],
   "source": [
    "best_rmse = results['test-rmse-mean'].min()\n",
    "print(best_rmse)"
   ]
  },
  {
   "cell_type": "code",
   "execution_count": 61,
   "id": "ba1e0b0c",
   "metadata": {},
   "outputs": [
    {
     "data": {
      "text/html": [
       "<div>\n",
       "<style scoped>\n",
       "    .dataframe tbody tr th:only-of-type {\n",
       "        vertical-align: middle;\n",
       "    }\n",
       "\n",
       "    .dataframe tbody tr th {\n",
       "        vertical-align: top;\n",
       "    }\n",
       "\n",
       "    .dataframe thead th {\n",
       "        text-align: right;\n",
       "    }\n",
       "</style>\n",
       "<table border=\"1\" class=\"dataframe\">\n",
       "  <thead>\n",
       "    <tr style=\"text-align: right;\">\n",
       "      <th></th>\n",
       "      <th>train-rmse-mean</th>\n",
       "      <th>train-rmse-std</th>\n",
       "      <th>test-rmse-mean</th>\n",
       "      <th>test-rmse-std</th>\n",
       "    </tr>\n",
       "  </thead>\n",
       "  <tbody>\n",
       "    <tr>\n",
       "      <th>0</th>\n",
       "      <td>0.862514</td>\n",
       "      <td>0.000357</td>\n",
       "      <td>0.864458</td>\n",
       "      <td>0.002161</td>\n",
       "    </tr>\n",
       "    <tr>\n",
       "      <th>1</th>\n",
       "      <td>0.782984</td>\n",
       "      <td>0.000722</td>\n",
       "      <td>0.787350</td>\n",
       "      <td>0.000660</td>\n",
       "    </tr>\n",
       "    <tr>\n",
       "      <th>2</th>\n",
       "      <td>0.737122</td>\n",
       "      <td>0.001128</td>\n",
       "      <td>0.743983</td>\n",
       "      <td>0.001622</td>\n",
       "    </tr>\n",
       "    <tr>\n",
       "      <th>3</th>\n",
       "      <td>0.711005</td>\n",
       "      <td>0.001167</td>\n",
       "      <td>0.720058</td>\n",
       "      <td>0.002688</td>\n",
       "    </tr>\n",
       "    <tr>\n",
       "      <th>4</th>\n",
       "      <td>0.695496</td>\n",
       "      <td>0.001333</td>\n",
       "      <td>0.706681</td>\n",
       "      <td>0.003354</td>\n",
       "    </tr>\n",
       "  </tbody>\n",
       "</table>\n",
       "</div>"
      ],
      "text/plain": [
       "   train-rmse-mean  train-rmse-std  test-rmse-mean  test-rmse-std\n",
       "0         0.862514        0.000357        0.864458       0.002161\n",
       "1         0.782984        0.000722        0.787350       0.000660\n",
       "2         0.737122        0.001128        0.743983       0.001622\n",
       "3         0.711005        0.001167        0.720058       0.002688\n",
       "4         0.695496        0.001333        0.706681       0.003354"
      ]
     },
     "execution_count": 61,
     "metadata": {},
     "output_type": "execute_result"
    }
   ],
   "source": [
    "results.head()"
   ]
  },
  {
   "cell_type": "markdown",
   "id": "b5898071",
   "metadata": {},
   "source": [
    "#### Optimize XGBoost Model using GridSearch\n",
    "GridSearch is a method used for hyperparameter tuning where one specifies a subset of possible values for each hyperparameter of interest. The method then exhaustively tries out all possible combinations of these hyperparameters to find the combination that produces the best model performance, according to some metric."
   ]
  },
  {
   "cell_type": "markdown",
   "id": "8ffb68ef",
   "metadata": {},
   "source": [
    "##### max_depth & min_child_weight"
   ]
  },
  {
   "cell_type": "code",
   "execution_count": 62,
   "id": "d307552e",
   "metadata": {},
   "outputs": [],
   "source": [
    "gridsearch_params = [\n",
    "    (max_depth, min_child_weight)\n",
    "    for max_depth in range(9,12)\n",
    "    for min_child_weight in range(5,8)\n",
    "]\n",
    "num_boost_round = 100"
   ]
  },
  {
   "cell_type": "code",
   "execution_count": 63,
   "id": "f169cc1a",
   "metadata": {},
   "outputs": [
    {
     "name": "stdout",
     "output_type": "stream",
     "text": [
      "CV with max_depth=9, min_child_weight=5\n",
      "\tRMSE 0.6927293037534273 for 8 rounds\n",
      "CV with max_depth=9, min_child_weight=6\n",
      "\tRMSE 0.6916230761624717 for 9 rounds\n",
      "CV with max_depth=9, min_child_weight=7\n",
      "\tRMSE 0.6910707226028732 for 9 rounds\n",
      "CV with max_depth=10, min_child_weight=5\n",
      "\tRMSE 0.6963424400096958 for 7 rounds\n",
      "CV with max_depth=10, min_child_weight=6\n",
      "\tRMSE 0.6948687976994675 for 7 rounds\n",
      "CV with max_depth=10, min_child_weight=7\n",
      "\tRMSE 0.6946273839050069 for 7 rounds\n",
      "CV with max_depth=11, min_child_weight=5\n",
      "\tRMSE 0.7010052418879651 for 7 rounds\n",
      "CV with max_depth=11, min_child_weight=6\n",
      "\tRMSE 0.6997439778497698 for 7 rounds\n",
      "CV with max_depth=11, min_child_weight=7\n",
      "\tRMSE 0.6992920837608504 for 7 rounds\n",
      "Best params: 9, 7, RMSE: 0.6910707226028732\n"
     ]
    }
   ],
   "source": [
    "# Define initial best params and MAE\n",
    "min_rmse = float(\"Inf\")\n",
    "best_params = None\n",
    "for max_depth, min_child_weight in gridsearch_params:\n",
    "    print(\"CV with max_depth={}, min_child_weight={}\".format(\n",
    "                             max_depth,\n",
    "                             min_child_weight))\n",
    "    # Update our parameters\n",
    "    params['max_depth'] = max_depth\n",
    "    params['min_child_weight'] = min_child_weight\n",
    "    # Run CV\n",
    "    cv_results = xgb.cv(\n",
    "        params,\n",
    "        dtrain_reg,\n",
    "        num_boost_round=num_boost_round,\n",
    "        seed=42,\n",
    "        nfold=5,\n",
    "        metrics={'rmse'},\n",
    "        early_stopping_rounds=10\n",
    "    )\n",
    "    # Update best MAE\n",
    "    mean_rmse = cv_results['test-rmse-mean'].min()\n",
    "    boost_rounds = cv_results['test-rmse-mean'].argmin()\n",
    "    print(\"\\tRMSE {} for {} rounds\".format(mean_rmse, boost_rounds))\n",
    "    if mean_rmse < min_rmse:\n",
    "        min_rmse = mean_rmse\n",
    "        best_params = (max_depth,min_child_weight)\n",
    "print(\"Best params: {}, {}, RMSE: {}\".format(best_params[0], best_params[1], min_rmse))\n"
   ]
  },
  {
   "cell_type": "code",
   "execution_count": 64,
   "id": "bcd81dac",
   "metadata": {},
   "outputs": [],
   "source": [
    "params['max_depth'] = 9\n",
    "params['min_child_weight'] = 7"
   ]
  },
  {
   "cell_type": "markdown",
   "id": "b2bf22d7",
   "metadata": {},
   "source": [
    "##### gamma"
   ]
  },
  {
   "cell_type": "code",
   "execution_count": 65,
   "id": "326bf75e",
   "metadata": {},
   "outputs": [
    {
     "name": "stdout",
     "output_type": "stream",
     "text": [
      "CV with gamma=0.1\n",
      "\tRMSE 0.6908500081705464 for 8 rounds\n",
      "\n",
      "CV with gamma=0.2\n",
      "\tRMSE 0.6918208686994228 for 9 rounds\n",
      "\n",
      "CV with gamma=0.3\n",
      "\tRMSE 0.6914086801394561 for 9 rounds\n",
      "\n",
      "CV with gamma=0.4\n",
      "\tRMSE 0.6907230320070361 for 8 rounds\n",
      "\n",
      "CV with gamma=0.5\n",
      "\tRMSE 0.6907623126965649 for 8 rounds\n",
      "\n",
      "CV with gamma=0.6\n",
      "\tRMSE 0.6908753673131326 for 8 rounds\n",
      "\n",
      "Best params: 0.4, rmse: 0.6907230320070361\n"
     ]
    }
   ],
   "source": [
    "min_rmse = float(\"Inf\")\n",
    "best_params = None\n",
    "for gamma in [0.1, 0.2, 0.3, 0.4, 0.5, 0.6]:\n",
    "    print(\"CV with gamma={}\".format(gamma))\n",
    "    # We update our parameters\n",
    "    params['gamma'] = gamma\n",
    "    # Run and time CV\n",
    "    cv_results = xgb.cv(\n",
    "        params,\n",
    "        dtrain_reg,\n",
    "        num_boost_round=num_boost_round,\n",
    "        seed=42,\n",
    "        nfold=5,\n",
    "        metrics=['rmse'],\n",
    "        early_stopping_rounds=10\n",
    "    )\n",
    "    # Update best score\n",
    "    mean_rmse = cv_results['test-rmse-mean'].min()\n",
    "    boost_rounds = cv_results['test-rmse-mean'].argmin()\n",
    "    print(\"\\tRMSE {} for {} rounds\\n\".format(mean_rmse, boost_rounds))\n",
    "    if mean_rmse < min_rmse:\n",
    "        min_rmse = mean_rmse\n",
    "        best_params = gamma\n",
    "print(\"Best params: {}, rmse: {}\".format(best_params, min_rmse))"
   ]
  },
  {
   "cell_type": "code",
   "execution_count": 66,
   "id": "808463fb",
   "metadata": {},
   "outputs": [],
   "source": [
    "params['gamma'] = 0.4"
   ]
  },
  {
   "cell_type": "markdown",
   "id": "c883a848",
   "metadata": {},
   "source": [
    "##### subsample & colsample"
   ]
  },
  {
   "cell_type": "code",
   "execution_count": 67,
   "id": "617d79c0",
   "metadata": {},
   "outputs": [],
   "source": [
    "gridsearch_params = [\n",
    "    (subsample, colsample)\n",
    "    for subsample in [i/10. for i in range(7,11)]\n",
    "    for colsample in [i/10. for i in range(7,11)]\n",
    "]"
   ]
  },
  {
   "cell_type": "code",
   "execution_count": 68,
   "id": "a9ab7eea",
   "metadata": {},
   "outputs": [
    {
     "name": "stdout",
     "output_type": "stream",
     "text": [
      "CV with subsample=1.0, colsample=1.0\n",
      "\tRMSE 0.6907230320070361 for 8 rounds\n",
      "CV with subsample=1.0, colsample=0.9\n",
      "\tRMSE 0.6907092141852995 for 9 rounds\n",
      "CV with subsample=1.0, colsample=0.8\n",
      "\tRMSE 0.6902243087619436 for 9 rounds\n",
      "CV with subsample=1.0, colsample=0.7\n",
      "\tRMSE 0.6890205327365949 for 11 rounds\n",
      "CV with subsample=0.9, colsample=1.0\n",
      "\tRMSE 0.6915455246339459 for 10 rounds\n",
      "CV with subsample=0.9, colsample=0.9\n",
      "\tRMSE 0.691085922808293 for 9 rounds\n",
      "CV with subsample=0.9, colsample=0.8\n",
      "\tRMSE 0.6899423317047082 for 9 rounds\n",
      "CV with subsample=0.9, colsample=0.7\n",
      "\tRMSE 0.6900960576520607 for 10 rounds\n",
      "CV with subsample=0.8, colsample=1.0\n",
      "\tRMSE 0.6924958960204927 for 8 rounds\n",
      "CV with subsample=0.8, colsample=0.9\n",
      "\tRMSE 0.6912269553003347 for 10 rounds\n",
      "CV with subsample=0.8, colsample=0.8\n",
      "\tRMSE 0.6915278019112321 for 10 rounds\n",
      "CV with subsample=0.8, colsample=0.7\n",
      "\tRMSE 0.6907504782446079 for 11 rounds\n",
      "CV with subsample=0.7, colsample=1.0\n",
      "\tRMSE 0.6929313870514051 for 8 rounds\n",
      "CV with subsample=0.7, colsample=0.9\n",
      "\tRMSE 0.6916564296295076 for 11 rounds\n",
      "CV with subsample=0.7, colsample=0.8\n",
      "\tRMSE 0.6921275020303977 for 9 rounds\n",
      "CV with subsample=0.7, colsample=0.7\n",
      "\tRMSE 0.6902717094380243 for 11 rounds\n",
      "Best params: 1.0, 0.7, rmse: 0.6890205327365949\n"
     ]
    }
   ],
   "source": [
    "min_rmse = float(\"Inf\")\n",
    "best_params = None\n",
    "# We start by the largest values and go down to the smallest\n",
    "for subsample, colsample in reversed(gridsearch_params):\n",
    "    print(\"CV with subsample={}, colsample={}\".format(\n",
    "                             subsample,\n",
    "                             colsample))\n",
    "    # We update our parameters\n",
    "    params['subsample'] = subsample\n",
    "    params['colsample_bytree'] = colsample\n",
    "    # Run CV\n",
    "    cv_results = xgb.cv(\n",
    "        params,\n",
    "        dtrain_reg,\n",
    "        num_boost_round=num_boost_round,\n",
    "        seed=42,\n",
    "        nfold=5,\n",
    "        metrics={'rmse'},\n",
    "        early_stopping_rounds=10\n",
    "    )\n",
    "    # Update best score\n",
    "    mean_rmse = cv_results['test-rmse-mean'].min()\n",
    "    boost_rounds = cv_results['test-rmse-mean'].argmin()\n",
    "    print(\"\\tRMSE {} for {} rounds\".format(mean_rmse, boost_rounds))\n",
    "    if mean_rmse < min_rmse:\n",
    "        min_rmse = mean_rmse\n",
    "        best_params = (subsample,colsample)\n",
    "print(\"Best params: {}, {}, rmse: {}\".format(best_params[0], best_params[1], min_rmse))"
   ]
  },
  {
   "cell_type": "code",
   "execution_count": 69,
   "id": "2b846914",
   "metadata": {},
   "outputs": [],
   "source": [
    "params['subsample'] = .8\n",
    "params['colsample_bytree'] = .7"
   ]
  },
  {
   "cell_type": "markdown",
   "id": "d7123fb8",
   "metadata": {},
   "source": [
    "##### alpha & lumbda"
   ]
  },
  {
   "cell_type": "code",
   "execution_count": 70,
   "id": "93e749d4",
   "metadata": {},
   "outputs": [],
   "source": [
    "gridsearch_params = {\n",
    "    'reg_alpha': [0.05, 0.1, 1, 2, 3]\n",
    "}"
   ]
  },
  {
   "cell_type": "code",
   "execution_count": 71,
   "id": "d4893645",
   "metadata": {},
   "outputs": [
    {
     "name": "stdout",
     "output_type": "stream",
     "text": [
      "CV with reg_alpha=0.05\n",
      "\tRMSE 0.6905332135275477 for 13 rounds\n",
      "CV with reg_alpha=0.1\n",
      "\tRMSE 0.6909033438502294 for 12 rounds\n",
      "CV with reg_alpha=1\n",
      "\tRMSE 0.6890524341088993 for 13 rounds\n",
      "CV with reg_alpha=2\n",
      "\tRMSE 0.687924667074656 for 13 rounds\n",
      "CV with reg_alpha=3\n",
      "\tRMSE 0.6868598971363127 for 15 rounds\n",
      "Best params: 3, rmse: 0.6868598971363127\n"
     ]
    }
   ],
   "source": [
    "min_rmse = float(\"Inf\")\n",
    "best_params = None\n",
    "# We start by the largest values and go down to the smallest\n",
    "for reg_alpha in gridsearch_params['reg_alpha']:\n",
    "        print(\"CV with reg_alpha={}\".format(\n",
    "                                 reg_alpha))\n",
    "        # We update our parameters\n",
    "        params['reg_alpha'] = reg_alpha\n",
    "        # Run CV\n",
    "        cv_results = xgb.cv(\n",
    "            params,\n",
    "            dtrain_reg,\n",
    "            num_boost_round=num_boost_round,\n",
    "            seed=42,\n",
    "            nfold=5,\n",
    "            metrics={'rmse'},\n",
    "            early_stopping_rounds=10\n",
    "        )\n",
    "        # Update best score\n",
    "        mean_rmse = cv_results['test-rmse-mean'].min()\n",
    "        boost_rounds = cv_results['test-rmse-mean'].argmin()\n",
    "        print(\"\\tRMSE {} for {} rounds\".format(mean_rmse, boost_rounds))\n",
    "        if mean_rmse < min_rmse:\n",
    "            min_rmse = mean_rmse\n",
    "            best_params = reg_alpha\n",
    "print(\"Best params: {}, rmse: {}\".format(best_params, min_rmse))"
   ]
  },
  {
   "cell_type": "code",
   "execution_count": 72,
   "id": "7674f5e3",
   "metadata": {},
   "outputs": [],
   "source": [
    "params['alpha'] = 3"
   ]
  },
  {
   "cell_type": "code",
   "execution_count": 73,
   "id": "81b624d6",
   "metadata": {},
   "outputs": [
    {
     "name": "stdout",
     "output_type": "stream",
     "text": [
      "CPU times: total: 0 ns\n",
      "Wall time: 0 ns\n",
      "CV with eta=0.3\n",
      "CPU times: total: 0 ns\n",
      "Wall time: 0 ns\n",
      "\tRMSE 0.6868598971363127 for 15 rounds\n",
      "\n",
      "CV with eta=0.2\n",
      "CPU times: total: 0 ns\n",
      "Wall time: 0 ns\n",
      "\tRMSE 0.6858406253177308 for 24 rounds\n",
      "\n",
      "CV with eta=0.1\n",
      "CPU times: total: 0 ns\n",
      "Wall time: 0 ns\n",
      "\tRMSE 0.6833021449627252 for 48 rounds\n",
      "\n",
      "CV with eta=0.05\n",
      "CPU times: total: 0 ns\n",
      "Wall time: 0 ns\n",
      "\tRMSE 0.6830404850638035 for 99 rounds\n",
      "\n",
      "CV with eta=0.01\n",
      "CPU times: total: 0 ns\n",
      "Wall time: 0 ns\n",
      "\tRMSE 0.7533193028419659 for 99 rounds\n",
      "\n",
      "CV with eta=0.005\n",
      "CPU times: total: 0 ns\n",
      "Wall time: 0 ns\n",
      "\tRMSE 0.8348466494663433 for 99 rounds\n",
      "\n",
      "Best params: 0.05, rmse: 0.6830404850638035\n"
     ]
    }
   ],
   "source": [
    "%time\n",
    "\n",
    "min_rmse = float(\"Inf\")\n",
    "best_params = None\n",
    "for eta in [.3, .2, .1, .05, .01, .005]:\n",
    "    print(\"CV with eta={}\".format(eta))\n",
    "    # We update our parameters\n",
    "    params['eta'] = eta\n",
    "    # Run and time CV\n",
    "    %time \n",
    "    cv_results = xgb.cv(\n",
    "        params,\n",
    "        dtrain_reg,\n",
    "        num_boost_round=num_boost_round,\n",
    "        seed=42,\n",
    "        nfold=5,\n",
    "        metrics=['rmse'],\n",
    "        early_stopping_rounds=10\n",
    "    )\n",
    "    # Update best score\n",
    "    mean_rmse = cv_results['test-rmse-mean'].min()\n",
    "    boost_rounds = cv_results['test-rmse-mean'].argmin()\n",
    "    print(\"\\tRMSE {} for {} rounds\\n\".format(mean_rmse, boost_rounds))\n",
    "    if mean_rmse < min_rmse:\n",
    "        min_rmse = mean_rmse\n",
    "        best_params = eta\n",
    "print(\"Best params: {}, rmse: {}\".format(best_params, min_rmse))"
   ]
  },
  {
   "cell_type": "code",
   "execution_count": 74,
   "id": "fd02d565",
   "metadata": {},
   "outputs": [],
   "source": [
    "params['eta'] = .05"
   ]
  },
  {
   "cell_type": "code",
   "execution_count": 75,
   "id": "a4f0a4de",
   "metadata": {},
   "outputs": [
    {
     "data": {
      "text/plain": [
       "{'objective': 'reg:squarederror',\n",
       " 'max_depth': 9,\n",
       " 'min_child_weight': 7,\n",
       " 'gamma': 0.4,\n",
       " 'subsample': 0.8,\n",
       " 'colsample_bytree': 0.7,\n",
       " 'reg_alpha': 3,\n",
       " 'alpha': 3,\n",
       " 'eta': 0.05}"
      ]
     },
     "execution_count": 75,
     "metadata": {},
     "output_type": "execute_result"
    }
   ],
   "source": [
    "params"
   ]
  },
  {
   "cell_type": "code",
   "execution_count": 76,
   "id": "31838a78",
   "metadata": {},
   "outputs": [
    {
     "name": "stdout",
     "output_type": "stream",
     "text": [
      "[0]\tTest-rmse:0.97382\n",
      "[1]\tTest-rmse:0.95221\n",
      "[2]\tTest-rmse:0.93068\n",
      "[3]\tTest-rmse:0.92129\n",
      "[4]\tTest-rmse:0.91268\n",
      "[5]\tTest-rmse:0.90490\n",
      "[6]\tTest-rmse:0.88681\n",
      "[7]\tTest-rmse:0.87225\n",
      "[8]\tTest-rmse:0.85668\n",
      "[9]\tTest-rmse:0.84367\n",
      "[10]\tTest-rmse:0.83037\n",
      "[11]\tTest-rmse:0.81848\n",
      "[12]\tTest-rmse:0.80691\n",
      "[13]\tTest-rmse:0.80230\n",
      "[14]\tTest-rmse:0.79285\n",
      "[15]\tTest-rmse:0.78348\n",
      "[16]\tTest-rmse:0.77463\n",
      "[17]\tTest-rmse:0.76640\n",
      "[18]\tTest-rmse:0.75910\n",
      "[19]\tTest-rmse:0.75339\n",
      "[20]\tTest-rmse:0.75052\n",
      "[21]\tTest-rmse:0.74785\n",
      "[22]\tTest-rmse:0.74255\n",
      "[23]\tTest-rmse:0.73708\n",
      "[24]\tTest-rmse:0.73258\n",
      "[25]\tTest-rmse:0.72840\n",
      "[26]\tTest-rmse:0.72422\n",
      "[27]\tTest-rmse:0.72064\n",
      "[28]\tTest-rmse:0.71781\n",
      "[29]\tTest-rmse:0.71430\n",
      "[30]\tTest-rmse:0.71128\n",
      "[31]\tTest-rmse:0.70837\n",
      "[32]\tTest-rmse:0.70571\n",
      "[33]\tTest-rmse:0.70358\n",
      "[34]\tTest-rmse:0.70255\n",
      "[35]\tTest-rmse:0.70070\n",
      "[36]\tTest-rmse:0.69877\n",
      "[37]\tTest-rmse:0.69723\n",
      "[38]\tTest-rmse:0.69553\n",
      "[39]\tTest-rmse:0.69403\n",
      "[40]\tTest-rmse:0.69277\n",
      "[41]\tTest-rmse:0.69157\n",
      "[42]\tTest-rmse:0.69038\n",
      "[43]\tTest-rmse:0.68979\n",
      "[44]\tTest-rmse:0.68882\n",
      "[45]\tTest-rmse:0.68798\n",
      "[46]\tTest-rmse:0.68730\n",
      "[47]\tTest-rmse:0.68642\n",
      "[48]\tTest-rmse:0.68574\n",
      "[49]\tTest-rmse:0.68514\n",
      "[50]\tTest-rmse:0.68473\n",
      "[51]\tTest-rmse:0.68421\n",
      "[52]\tTest-rmse:0.68365\n",
      "[53]\tTest-rmse:0.68321\n",
      "[54]\tTest-rmse:0.68273\n",
      "[55]\tTest-rmse:0.68250\n",
      "[56]\tTest-rmse:0.68211\n",
      "[57]\tTest-rmse:0.68175\n",
      "[58]\tTest-rmse:0.68158\n",
      "[59]\tTest-rmse:0.68145\n",
      "[60]\tTest-rmse:0.68120\n",
      "[61]\tTest-rmse:0.68103\n",
      "[62]\tTest-rmse:0.68080\n",
      "[63]\tTest-rmse:0.68058\n",
      "[64]\tTest-rmse:0.68037\n",
      "[65]\tTest-rmse:0.68015\n",
      "[66]\tTest-rmse:0.68005\n",
      "[67]\tTest-rmse:0.68000\n",
      "[68]\tTest-rmse:0.67989\n",
      "[69]\tTest-rmse:0.67964\n",
      "[70]\tTest-rmse:0.67961\n",
      "[71]\tTest-rmse:0.67948\n",
      "[72]\tTest-rmse:0.67935\n",
      "[73]\tTest-rmse:0.67925\n",
      "[74]\tTest-rmse:0.67917\n",
      "[75]\tTest-rmse:0.67912\n",
      "[76]\tTest-rmse:0.67904\n",
      "[77]\tTest-rmse:0.67901\n",
      "[78]\tTest-rmse:0.67900\n",
      "[79]\tTest-rmse:0.67894\n",
      "[80]\tTest-rmse:0.67893\n",
      "[81]\tTest-rmse:0.67889\n",
      "[82]\tTest-rmse:0.67884\n",
      "[83]\tTest-rmse:0.67880\n",
      "[84]\tTest-rmse:0.67877\n",
      "[85]\tTest-rmse:0.67879\n",
      "[86]\tTest-rmse:0.67877\n",
      "[87]\tTest-rmse:0.67876\n",
      "[88]\tTest-rmse:0.67880\n",
      "[89]\tTest-rmse:0.67874\n",
      "[90]\tTest-rmse:0.67869\n",
      "[91]\tTest-rmse:0.67861\n",
      "[92]\tTest-rmse:0.67863\n",
      "[93]\tTest-rmse:0.67862\n",
      "[94]\tTest-rmse:0.67860\n",
      "[95]\tTest-rmse:0.67863\n",
      "[96]\tTest-rmse:0.67857\n",
      "[97]\tTest-rmse:0.67862\n",
      "[98]\tTest-rmse:0.67856\n",
      "[99]\tTest-rmse:0.67852\n"
     ]
    }
   ],
   "source": [
    "model = xgb.train(\n",
    "    params,\n",
    "    dtrain_reg,\n",
    "    num_boost_round=num_boost_round,\n",
    "    evals=[(dtest_reg, \"Test\")],\n",
    "    early_stopping_rounds=10\n",
    ")"
   ]
  },
  {
   "cell_type": "code",
   "execution_count": 77,
   "id": "95207279",
   "metadata": {},
   "outputs": [
    {
     "name": "stdout",
     "output_type": "stream",
     "text": [
      "Best RMSE: 0.679 in 100 rounds\n"
     ]
    }
   ],
   "source": [
    "print(\"Best RMSE: {:.3f} in {} rounds\".format(model.best_score, model.best_iteration+1))"
   ]
  },
  {
   "cell_type": "markdown",
   "id": "310db5ed",
   "metadata": {},
   "source": [
    "#### Saving the best model"
   ]
  },
  {
   "cell_type": "code",
   "execution_count": 78,
   "id": "55c95d8d",
   "metadata": {},
   "outputs": [
    {
     "name": "stdout",
     "output_type": "stream",
     "text": [
      "[0]\tTest-rmse:0.97382\n",
      "[1]\tTest-rmse:0.95221\n",
      "[2]\tTest-rmse:0.93068\n",
      "[3]\tTest-rmse:0.92129\n",
      "[4]\tTest-rmse:0.91268\n",
      "[5]\tTest-rmse:0.90490\n",
      "[6]\tTest-rmse:0.88681\n",
      "[7]\tTest-rmse:0.87225\n",
      "[8]\tTest-rmse:0.85668\n",
      "[9]\tTest-rmse:0.84367\n",
      "[10]\tTest-rmse:0.83037\n",
      "[11]\tTest-rmse:0.81848\n",
      "[12]\tTest-rmse:0.80691\n",
      "[13]\tTest-rmse:0.80230\n",
      "[14]\tTest-rmse:0.79285\n",
      "[15]\tTest-rmse:0.78348\n",
      "[16]\tTest-rmse:0.77463\n",
      "[17]\tTest-rmse:0.76640\n",
      "[18]\tTest-rmse:0.75910\n",
      "[19]\tTest-rmse:0.75339\n",
      "[20]\tTest-rmse:0.75052\n",
      "[21]\tTest-rmse:0.74785\n",
      "[22]\tTest-rmse:0.74255\n",
      "[23]\tTest-rmse:0.73708\n",
      "[24]\tTest-rmse:0.73258\n",
      "[25]\tTest-rmse:0.72840\n",
      "[26]\tTest-rmse:0.72422\n",
      "[27]\tTest-rmse:0.72064\n",
      "[28]\tTest-rmse:0.71781\n",
      "[29]\tTest-rmse:0.71430\n",
      "[30]\tTest-rmse:0.71128\n",
      "[31]\tTest-rmse:0.70837\n",
      "[32]\tTest-rmse:0.70571\n",
      "[33]\tTest-rmse:0.70358\n",
      "[34]\tTest-rmse:0.70255\n",
      "[35]\tTest-rmse:0.70070\n",
      "[36]\tTest-rmse:0.69877\n",
      "[37]\tTest-rmse:0.69723\n",
      "[38]\tTest-rmse:0.69553\n",
      "[39]\tTest-rmse:0.69403\n",
      "[40]\tTest-rmse:0.69277\n",
      "[41]\tTest-rmse:0.69157\n",
      "[42]\tTest-rmse:0.69038\n",
      "[43]\tTest-rmse:0.68979\n",
      "[44]\tTest-rmse:0.68882\n",
      "[45]\tTest-rmse:0.68798\n",
      "[46]\tTest-rmse:0.68730\n",
      "[47]\tTest-rmse:0.68642\n",
      "[48]\tTest-rmse:0.68574\n",
      "[49]\tTest-rmse:0.68514\n",
      "[50]\tTest-rmse:0.68473\n",
      "[51]\tTest-rmse:0.68421\n",
      "[52]\tTest-rmse:0.68365\n",
      "[53]\tTest-rmse:0.68321\n",
      "[54]\tTest-rmse:0.68273\n",
      "[55]\tTest-rmse:0.68250\n",
      "[56]\tTest-rmse:0.68211\n",
      "[57]\tTest-rmse:0.68175\n",
      "[58]\tTest-rmse:0.68158\n",
      "[59]\tTest-rmse:0.68145\n",
      "[60]\tTest-rmse:0.68120\n",
      "[61]\tTest-rmse:0.68103\n",
      "[62]\tTest-rmse:0.68080\n",
      "[63]\tTest-rmse:0.68058\n",
      "[64]\tTest-rmse:0.68037\n",
      "[65]\tTest-rmse:0.68015\n",
      "[66]\tTest-rmse:0.68005\n",
      "[67]\tTest-rmse:0.68000\n",
      "[68]\tTest-rmse:0.67989\n",
      "[69]\tTest-rmse:0.67964\n",
      "[70]\tTest-rmse:0.67961\n",
      "[71]\tTest-rmse:0.67948\n",
      "[72]\tTest-rmse:0.67935\n",
      "[73]\tTest-rmse:0.67925\n",
      "[74]\tTest-rmse:0.67917\n",
      "[75]\tTest-rmse:0.67912\n",
      "[76]\tTest-rmse:0.67904\n",
      "[77]\tTest-rmse:0.67901\n",
      "[78]\tTest-rmse:0.67900\n",
      "[79]\tTest-rmse:0.67894\n",
      "[80]\tTest-rmse:0.67893\n",
      "[81]\tTest-rmse:0.67889\n",
      "[82]\tTest-rmse:0.67884\n",
      "[83]\tTest-rmse:0.67880\n",
      "[84]\tTest-rmse:0.67877\n",
      "[85]\tTest-rmse:0.67879\n",
      "[86]\tTest-rmse:0.67877\n",
      "[87]\tTest-rmse:0.67876\n",
      "[88]\tTest-rmse:0.67880\n",
      "[89]\tTest-rmse:0.67874\n",
      "[90]\tTest-rmse:0.67869\n",
      "[91]\tTest-rmse:0.67861\n",
      "[92]\tTest-rmse:0.67863\n",
      "[93]\tTest-rmse:0.67862\n",
      "[94]\tTest-rmse:0.67860\n",
      "[95]\tTest-rmse:0.67863\n",
      "[96]\tTest-rmse:0.67857\n",
      "[97]\tTest-rmse:0.67862\n",
      "[98]\tTest-rmse:0.67856\n",
      "[99]\tTest-rmse:0.67852\n"
     ]
    }
   ],
   "source": [
    "num_boost_round = model.best_iteration + 1\n",
    "best_model = xgb.train(\n",
    "    params,\n",
    "    dtrain_reg,\n",
    "    num_boost_round=num_boost_round,\n",
    "    evals=[(dtest_reg, \"Test\")]\n",
    ")"
   ]
  },
  {
   "cell_type": "code",
   "execution_count": 79,
   "id": "949cb4ee",
   "metadata": {},
   "outputs": [],
   "source": [
    "preds = best_model.predict(dtest_reg)"
   ]
  },
  {
   "cell_type": "code",
   "execution_count": 80,
   "id": "96963a26",
   "metadata": {},
   "outputs": [
    {
     "name": "stdout",
     "output_type": "stream",
     "text": [
      "RMSE of the base model: 0.679\n",
      "R2 score of the base model: 0.538\n"
     ]
    }
   ],
   "source": [
    "# compute and print accuracy score\n",
    "\n",
    "rmse = mean_squared_error(y_test, preds, squared=False)\n",
    "r2 = r2_score(y_test, preds)\n",
    "mape = mean_absolute_percentage_error(y_test, preds)\n",
    "\n",
    "print(f\"RMSE of the base model: {rmse:.3f}\")\n",
    "print(f\"R2 score of the base model: {r2:.3f}\")"
   ]
  }
 ],
 "metadata": {
  "kernelspec": {
   "display_name": "Python 3 (ipykernel)",
   "language": "python",
   "name": "python3"
  },
  "language_info": {
   "codemirror_mode": {
    "name": "ipython",
    "version": 3
   },
   "file_extension": ".py",
   "mimetype": "text/x-python",
   "name": "python",
   "nbconvert_exporter": "python",
   "pygments_lexer": "ipython3",
   "version": "3.8.10"
  }
 },
 "nbformat": 4,
 "nbformat_minor": 5
}
