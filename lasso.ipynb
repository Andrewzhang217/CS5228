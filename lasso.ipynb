{
 "cells": [
  {
   "cell_type": "code",
   "execution_count": 399,
   "metadata": {},
   "outputs": [],
   "source": [
    "import numpy as np\n",
    "import pandas as pd\n",
    "import matplotlib.pyplot as plt\n",
    "import seaborn as sns\n",
    "from category_encoders import TargetEncoder\n",
    "import warnings\n",
    "\n",
    "warnings.filterwarnings(\"ignore\", message=\"is_categorical_dtype is deprecated\", category=FutureWarning)\n"
   ]
  },
  {
   "cell_type": "code",
   "execution_count": 400,
   "metadata": {},
   "outputs": [
    {
     "data": {
      "text/html": [
       "<div>\n",
       "<style scoped>\n",
       "    .dataframe tbody tr th:only-of-type {\n",
       "        vertical-align: middle;\n",
       "    }\n",
       "\n",
       "    .dataframe tbody tr th {\n",
       "        vertical-align: top;\n",
       "    }\n",
       "\n",
       "    .dataframe thead th {\n",
       "        text-align: right;\n",
       "    }\n",
       "</style>\n",
       "<table border=\"1\" class=\"dataframe\">\n",
       "  <thead>\n",
       "    <tr style=\"text-align: right;\">\n",
       "      <th></th>\n",
       "      <th>rent_approval_date</th>\n",
       "      <th>town</th>\n",
       "      <th>block</th>\n",
       "      <th>street_name</th>\n",
       "      <th>flat_type</th>\n",
       "      <th>flat_model</th>\n",
       "      <th>floor_area_sqm</th>\n",
       "      <th>furnished</th>\n",
       "      <th>lease_commence_date</th>\n",
       "      <th>latitude</th>\n",
       "      <th>longitude</th>\n",
       "      <th>elevation</th>\n",
       "      <th>subzone</th>\n",
       "      <th>planning_area</th>\n",
       "      <th>region</th>\n",
       "      <th>monthly_rent</th>\n",
       "    </tr>\n",
       "  </thead>\n",
       "  <tbody>\n",
       "    <tr>\n",
       "      <th>0</th>\n",
       "      <td>2021-09</td>\n",
       "      <td>jurong east</td>\n",
       "      <td>257</td>\n",
       "      <td>Jurong East Street 24</td>\n",
       "      <td>3 room</td>\n",
       "      <td>new generation</td>\n",
       "      <td>67.0</td>\n",
       "      <td>yes</td>\n",
       "      <td>1983</td>\n",
       "      <td>1.344518</td>\n",
       "      <td>103.738630</td>\n",
       "      <td>0.0</td>\n",
       "      <td>yuhua east</td>\n",
       "      <td>jurong east</td>\n",
       "      <td>west region</td>\n",
       "      <td>1600</td>\n",
       "    </tr>\n",
       "    <tr>\n",
       "      <th>1</th>\n",
       "      <td>2022-05</td>\n",
       "      <td>bedok</td>\n",
       "      <td>119</td>\n",
       "      <td>bedok north road</td>\n",
       "      <td>4-room</td>\n",
       "      <td>new generation</td>\n",
       "      <td>92.0</td>\n",
       "      <td>yes</td>\n",
       "      <td>1978</td>\n",
       "      <td>1.330186</td>\n",
       "      <td>103.938717</td>\n",
       "      <td>0.0</td>\n",
       "      <td>bedok north</td>\n",
       "      <td>bedok</td>\n",
       "      <td>east region</td>\n",
       "      <td>2250</td>\n",
       "    </tr>\n",
       "    <tr>\n",
       "      <th>2</th>\n",
       "      <td>2022-10</td>\n",
       "      <td>toa payoh</td>\n",
       "      <td>157</td>\n",
       "      <td>lorong 1 toa payoh</td>\n",
       "      <td>3-room</td>\n",
       "      <td>improved</td>\n",
       "      <td>67.0</td>\n",
       "      <td>yes</td>\n",
       "      <td>1971</td>\n",
       "      <td>1.332242</td>\n",
       "      <td>103.845643</td>\n",
       "      <td>0.0</td>\n",
       "      <td>toa payoh central</td>\n",
       "      <td>toa payoh</td>\n",
       "      <td>central region</td>\n",
       "      <td>1900</td>\n",
       "    </tr>\n",
       "    <tr>\n",
       "      <th>3</th>\n",
       "      <td>2021-08</td>\n",
       "      <td>pasir ris</td>\n",
       "      <td>250</td>\n",
       "      <td>Pasir Ris Street 21</td>\n",
       "      <td>executive</td>\n",
       "      <td>apartment</td>\n",
       "      <td>149.0</td>\n",
       "      <td>yes</td>\n",
       "      <td>1993</td>\n",
       "      <td>1.370239</td>\n",
       "      <td>103.962894</td>\n",
       "      <td>0.0</td>\n",
       "      <td>pasir ris drive</td>\n",
       "      <td>pasir ris</td>\n",
       "      <td>east region</td>\n",
       "      <td>2850</td>\n",
       "    </tr>\n",
       "    <tr>\n",
       "      <th>4</th>\n",
       "      <td>2022-11</td>\n",
       "      <td>kallang/whampoa</td>\n",
       "      <td>34</td>\n",
       "      <td>Whampoa West</td>\n",
       "      <td>3-room</td>\n",
       "      <td>improved</td>\n",
       "      <td>68.0</td>\n",
       "      <td>yes</td>\n",
       "      <td>1972</td>\n",
       "      <td>1.320502</td>\n",
       "      <td>103.863341</td>\n",
       "      <td>0.0</td>\n",
       "      <td>bendemeer</td>\n",
       "      <td>kallang</td>\n",
       "      <td>central region</td>\n",
       "      <td>2100</td>\n",
       "    </tr>\n",
       "  </tbody>\n",
       "</table>\n",
       "</div>"
      ],
      "text/plain": [
       "  rent_approval_date             town block            street_name  flat_type  \\\n",
       "0            2021-09      jurong east   257  Jurong East Street 24     3 room   \n",
       "1            2022-05            bedok   119       bedok north road     4-room   \n",
       "2            2022-10        toa payoh   157     lorong 1 toa payoh     3-room   \n",
       "3            2021-08        pasir ris   250    Pasir Ris Street 21  executive   \n",
       "4            2022-11  kallang/whampoa    34           Whampoa West     3-room   \n",
       "\n",
       "       flat_model  floor_area_sqm furnished  lease_commence_date  latitude  \\\n",
       "0  new generation            67.0       yes                 1983  1.344518   \n",
       "1  new generation            92.0       yes                 1978  1.330186   \n",
       "2        improved            67.0       yes                 1971  1.332242   \n",
       "3       apartment           149.0       yes                 1993  1.370239   \n",
       "4        improved            68.0       yes                 1972  1.320502   \n",
       "\n",
       "    longitude  elevation            subzone planning_area          region  \\\n",
       "0  103.738630        0.0         yuhua east   jurong east     west region   \n",
       "1  103.938717        0.0        bedok north         bedok     east region   \n",
       "2  103.845643        0.0  toa payoh central     toa payoh  central region   \n",
       "3  103.962894        0.0    pasir ris drive     pasir ris     east region   \n",
       "4  103.863341        0.0          bendemeer       kallang  central region   \n",
       "\n",
       "   monthly_rent  \n",
       "0          1600  \n",
       "1          2250  \n",
       "2          1900  \n",
       "3          2850  \n",
       "4          2100  "
      ]
     },
     "execution_count": 400,
     "metadata": {},
     "output_type": "execute_result"
    }
   ],
   "source": [
    "train_set = pd.read_csv('Datasets/train.csv')\n",
    "\n",
    "train_set.head()"
   ]
  },
  {
   "cell_type": "markdown",
   "metadata": {},
   "source": [
    "### data cleaning"
   ]
  },
  {
   "cell_type": "code",
   "execution_count": 401,
   "metadata": {},
   "outputs": [],
   "source": [
    "# get copy\n",
    "\n",
    "train_set_cleaned = train_set.copy()"
   ]
  },
  {
   "cell_type": "code",
   "execution_count": 402,
   "metadata": {},
   "outputs": [],
   "source": [
    "# add two new attributes, split rent_approval_date into month, year\n",
    "\n",
    "train_set_cleaned[['rent_approval_year','rent_approval_month']] = train_set_cleaned['rent_approval_date'].str.split('-',expand=True)\n",
    "\n",
    "# train_set_cleaned['rent_approval_month'] = pd.to_datetime(train_set_cleaned['rent_approval_month'], format='%m').dt.month\n",
    "# train_set_cleaned['rent_approval_year'] = pd.to_datetime(train_set_cleaned['rent_approval_year'], format='%y').dt.year"
   ]
  },
  {
   "cell_type": "code",
   "execution_count": 403,
   "metadata": {},
   "outputs": [],
   "source": [
    "# street name to lower case\n",
    "\n",
    "train_set_cleaned['street_name'] = train_set_cleaned['street_name'].apply(str.lower)"
   ]
  },
  {
   "cell_type": "code",
   "execution_count": 404,
   "metadata": {},
   "outputs": [],
   "source": [
    "# replace blank space with hyphen in flat_type (e.g. '2 room' to '2-room')\n",
    "\n",
    "train_set_cleaned['flat_type'] = train_set_cleaned['flat_type'].apply(lambda x: x.replace(' ', '-'))"
   ]
  },
  {
   "cell_type": "code",
   "execution_count": 405,
   "metadata": {},
   "outputs": [
    {
     "data": {
      "text/html": [
       "<div>\n",
       "<style scoped>\n",
       "    .dataframe tbody tr th:only-of-type {\n",
       "        vertical-align: middle;\n",
       "    }\n",
       "\n",
       "    .dataframe tbody tr th {\n",
       "        vertical-align: top;\n",
       "    }\n",
       "\n",
       "    .dataframe thead th {\n",
       "        text-align: right;\n",
       "    }\n",
       "</style>\n",
       "<table border=\"1\" class=\"dataframe\">\n",
       "  <thead>\n",
       "    <tr style=\"text-align: right;\">\n",
       "      <th></th>\n",
       "      <th>rent_approval_date</th>\n",
       "      <th>town</th>\n",
       "      <th>block</th>\n",
       "      <th>street_name</th>\n",
       "      <th>flat_type</th>\n",
       "      <th>flat_model</th>\n",
       "      <th>floor_area_sqm</th>\n",
       "      <th>furnished</th>\n",
       "      <th>lease_commence_date</th>\n",
       "      <th>latitude</th>\n",
       "      <th>longitude</th>\n",
       "      <th>elevation</th>\n",
       "      <th>subzone</th>\n",
       "      <th>planning_area</th>\n",
       "      <th>region</th>\n",
       "      <th>monthly_rent</th>\n",
       "      <th>rent_approval_year</th>\n",
       "      <th>rent_approval_month</th>\n",
       "    </tr>\n",
       "  </thead>\n",
       "  <tbody>\n",
       "    <tr>\n",
       "      <th>0</th>\n",
       "      <td>2021-09</td>\n",
       "      <td>jurong east</td>\n",
       "      <td>257</td>\n",
       "      <td>jurong east street 24</td>\n",
       "      <td>3-room</td>\n",
       "      <td>new generation</td>\n",
       "      <td>67.0</td>\n",
       "      <td>yes</td>\n",
       "      <td>1983</td>\n",
       "      <td>1.344518</td>\n",
       "      <td>103.738630</td>\n",
       "      <td>0.0</td>\n",
       "      <td>yuhua east</td>\n",
       "      <td>jurong east</td>\n",
       "      <td>west region</td>\n",
       "      <td>1600</td>\n",
       "      <td>2021</td>\n",
       "      <td>09</td>\n",
       "    </tr>\n",
       "    <tr>\n",
       "      <th>1</th>\n",
       "      <td>2022-05</td>\n",
       "      <td>bedok</td>\n",
       "      <td>119</td>\n",
       "      <td>bedok north road</td>\n",
       "      <td>4-room</td>\n",
       "      <td>new generation</td>\n",
       "      <td>92.0</td>\n",
       "      <td>yes</td>\n",
       "      <td>1978</td>\n",
       "      <td>1.330186</td>\n",
       "      <td>103.938717</td>\n",
       "      <td>0.0</td>\n",
       "      <td>bedok north</td>\n",
       "      <td>bedok</td>\n",
       "      <td>east region</td>\n",
       "      <td>2250</td>\n",
       "      <td>2022</td>\n",
       "      <td>05</td>\n",
       "    </tr>\n",
       "    <tr>\n",
       "      <th>2</th>\n",
       "      <td>2022-10</td>\n",
       "      <td>toa payoh</td>\n",
       "      <td>157</td>\n",
       "      <td>lorong 1 toa payoh</td>\n",
       "      <td>3-room</td>\n",
       "      <td>improved</td>\n",
       "      <td>67.0</td>\n",
       "      <td>yes</td>\n",
       "      <td>1971</td>\n",
       "      <td>1.332242</td>\n",
       "      <td>103.845643</td>\n",
       "      <td>0.0</td>\n",
       "      <td>toa payoh central</td>\n",
       "      <td>toa payoh</td>\n",
       "      <td>central region</td>\n",
       "      <td>1900</td>\n",
       "      <td>2022</td>\n",
       "      <td>10</td>\n",
       "    </tr>\n",
       "    <tr>\n",
       "      <th>3</th>\n",
       "      <td>2021-08</td>\n",
       "      <td>pasir ris</td>\n",
       "      <td>250</td>\n",
       "      <td>pasir ris street 21</td>\n",
       "      <td>executive</td>\n",
       "      <td>apartment</td>\n",
       "      <td>149.0</td>\n",
       "      <td>yes</td>\n",
       "      <td>1993</td>\n",
       "      <td>1.370239</td>\n",
       "      <td>103.962894</td>\n",
       "      <td>0.0</td>\n",
       "      <td>pasir ris drive</td>\n",
       "      <td>pasir ris</td>\n",
       "      <td>east region</td>\n",
       "      <td>2850</td>\n",
       "      <td>2021</td>\n",
       "      <td>08</td>\n",
       "    </tr>\n",
       "    <tr>\n",
       "      <th>4</th>\n",
       "      <td>2022-11</td>\n",
       "      <td>kallang/whampoa</td>\n",
       "      <td>34</td>\n",
       "      <td>whampoa west</td>\n",
       "      <td>3-room</td>\n",
       "      <td>improved</td>\n",
       "      <td>68.0</td>\n",
       "      <td>yes</td>\n",
       "      <td>1972</td>\n",
       "      <td>1.320502</td>\n",
       "      <td>103.863341</td>\n",
       "      <td>0.0</td>\n",
       "      <td>bendemeer</td>\n",
       "      <td>kallang</td>\n",
       "      <td>central region</td>\n",
       "      <td>2100</td>\n",
       "      <td>2022</td>\n",
       "      <td>11</td>\n",
       "    </tr>\n",
       "    <tr>\n",
       "      <th>5</th>\n",
       "      <td>2023-04</td>\n",
       "      <td>bukit panjang</td>\n",
       "      <td>654</td>\n",
       "      <td>senja road</td>\n",
       "      <td>executive</td>\n",
       "      <td>premium apartment</td>\n",
       "      <td>130.0</td>\n",
       "      <td>yes</td>\n",
       "      <td>2001</td>\n",
       "      <td>1.387847</td>\n",
       "      <td>103.764249</td>\n",
       "      <td>0.0</td>\n",
       "      <td>saujana</td>\n",
       "      <td>bukit panjang</td>\n",
       "      <td>west region</td>\n",
       "      <td>2300</td>\n",
       "      <td>2023</td>\n",
       "      <td>04</td>\n",
       "    </tr>\n",
       "    <tr>\n",
       "      <th>6</th>\n",
       "      <td>2021-01</td>\n",
       "      <td>sengkang</td>\n",
       "      <td>407b</td>\n",
       "      <td>fernvale road</td>\n",
       "      <td>5-room</td>\n",
       "      <td>premium apartment</td>\n",
       "      <td>110.0</td>\n",
       "      <td>yes</td>\n",
       "      <td>2005</td>\n",
       "      <td>1.388997</td>\n",
       "      <td>103.875148</td>\n",
       "      <td>0.0</td>\n",
       "      <td>fernvale</td>\n",
       "      <td>sengkang</td>\n",
       "      <td>north-east region</td>\n",
       "      <td>2100</td>\n",
       "      <td>2021</td>\n",
       "      <td>01</td>\n",
       "    </tr>\n",
       "    <tr>\n",
       "      <th>7</th>\n",
       "      <td>2022-06</td>\n",
       "      <td>ang mo kio</td>\n",
       "      <td>223</td>\n",
       "      <td>ang mo kio avenue 1</td>\n",
       "      <td>3-room</td>\n",
       "      <td>new generation</td>\n",
       "      <td>67.0</td>\n",
       "      <td>yes</td>\n",
       "      <td>1978</td>\n",
       "      <td>1.366048</td>\n",
       "      <td>103.838123</td>\n",
       "      <td>0.0</td>\n",
       "      <td>shangri-la</td>\n",
       "      <td>ang mo kio</td>\n",
       "      <td>north-east region</td>\n",
       "      <td>2300</td>\n",
       "      <td>2022</td>\n",
       "      <td>06</td>\n",
       "    </tr>\n",
       "    <tr>\n",
       "      <th>8</th>\n",
       "      <td>2021-10</td>\n",
       "      <td>bishan</td>\n",
       "      <td>149</td>\n",
       "      <td>bishan street 11</td>\n",
       "      <td>4-room</td>\n",
       "      <td>simplified</td>\n",
       "      <td>84.0</td>\n",
       "      <td>yes</td>\n",
       "      <td>1987</td>\n",
       "      <td>1.344279</td>\n",
       "      <td>103.855556</td>\n",
       "      <td>0.0</td>\n",
       "      <td>bishan east</td>\n",
       "      <td>bishan</td>\n",
       "      <td>central region</td>\n",
       "      <td>2100</td>\n",
       "      <td>2021</td>\n",
       "      <td>10</td>\n",
       "    </tr>\n",
       "    <tr>\n",
       "      <th>9</th>\n",
       "      <td>2021-04</td>\n",
       "      <td>punggol</td>\n",
       "      <td>133</td>\n",
       "      <td>edgedale plains</td>\n",
       "      <td>5-room</td>\n",
       "      <td>premium apartment</td>\n",
       "      <td>112.0</td>\n",
       "      <td>yes</td>\n",
       "      <td>2003</td>\n",
       "      <td>1.392832</td>\n",
       "      <td>103.910620</td>\n",
       "      <td>0.0</td>\n",
       "      <td>punggol field</td>\n",
       "      <td>punggol</td>\n",
       "      <td>north-east region</td>\n",
       "      <td>2100</td>\n",
       "      <td>2021</td>\n",
       "      <td>04</td>\n",
       "    </tr>\n",
       "  </tbody>\n",
       "</table>\n",
       "</div>"
      ],
      "text/plain": [
       "  rent_approval_date             town block            street_name  flat_type  \\\n",
       "0            2021-09      jurong east   257  jurong east street 24     3-room   \n",
       "1            2022-05            bedok   119       bedok north road     4-room   \n",
       "2            2022-10        toa payoh   157     lorong 1 toa payoh     3-room   \n",
       "3            2021-08        pasir ris   250    pasir ris street 21  executive   \n",
       "4            2022-11  kallang/whampoa    34           whampoa west     3-room   \n",
       "5            2023-04    bukit panjang   654             senja road  executive   \n",
       "6            2021-01         sengkang  407b          fernvale road     5-room   \n",
       "7            2022-06       ang mo kio   223    ang mo kio avenue 1     3-room   \n",
       "8            2021-10           bishan   149       bishan street 11     4-room   \n",
       "9            2021-04          punggol   133        edgedale plains     5-room   \n",
       "\n",
       "          flat_model  floor_area_sqm furnished  lease_commence_date  latitude  \\\n",
       "0     new generation            67.0       yes                 1983  1.344518   \n",
       "1     new generation            92.0       yes                 1978  1.330186   \n",
       "2           improved            67.0       yes                 1971  1.332242   \n",
       "3          apartment           149.0       yes                 1993  1.370239   \n",
       "4           improved            68.0       yes                 1972  1.320502   \n",
       "5  premium apartment           130.0       yes                 2001  1.387847   \n",
       "6  premium apartment           110.0       yes                 2005  1.388997   \n",
       "7     new generation            67.0       yes                 1978  1.366048   \n",
       "8         simplified            84.0       yes                 1987  1.344279   \n",
       "9  premium apartment           112.0       yes                 2003  1.392832   \n",
       "\n",
       "    longitude  elevation            subzone  planning_area             region  \\\n",
       "0  103.738630        0.0         yuhua east    jurong east        west region   \n",
       "1  103.938717        0.0        bedok north          bedok        east region   \n",
       "2  103.845643        0.0  toa payoh central      toa payoh     central region   \n",
       "3  103.962894        0.0    pasir ris drive      pasir ris        east region   \n",
       "4  103.863341        0.0          bendemeer        kallang     central region   \n",
       "5  103.764249        0.0            saujana  bukit panjang        west region   \n",
       "6  103.875148        0.0           fernvale       sengkang  north-east region   \n",
       "7  103.838123        0.0         shangri-la     ang mo kio  north-east region   \n",
       "8  103.855556        0.0        bishan east         bishan     central region   \n",
       "9  103.910620        0.0      punggol field        punggol  north-east region   \n",
       "\n",
       "   monthly_rent rent_approval_year rent_approval_month  \n",
       "0          1600               2021                  09  \n",
       "1          2250               2022                  05  \n",
       "2          1900               2022                  10  \n",
       "3          2850               2021                  08  \n",
       "4          2100               2022                  11  \n",
       "5          2300               2023                  04  \n",
       "6          2100               2021                  01  \n",
       "7          2300               2022                  06  \n",
       "8          2100               2021                  10  \n",
       "9          2100               2021                  04  "
      ]
     },
     "execution_count": 405,
     "metadata": {},
     "output_type": "execute_result"
    }
   ],
   "source": [
    "train_set_cleaned.head(10)"
   ]
  },
  {
   "cell_type": "code",
   "execution_count": 406,
   "metadata": {},
   "outputs": [
    {
     "data": {
      "text/plain": [
       "rent_approval_year\n",
       "2021    24909\n",
       "2022    21399\n",
       "2023    13692\n",
       "Name: count, dtype: int64"
      ]
     },
     "execution_count": 406,
     "metadata": {},
     "output_type": "execute_result"
    }
   ],
   "source": [
    "train_set_cleaned['rent_approval_year'].value_counts()"
   ]
  },
  {
   "cell_type": "markdown",
   "metadata": {},
   "source": [
    "### auxiliary data"
   ]
  },
  {
   "cell_type": "markdown",
   "metadata": {},
   "source": [
    "### encoding"
   ]
  },
  {
   "cell_type": "code",
   "execution_count": 407,
   "metadata": {},
   "outputs": [],
   "source": [
    "# create a new dataframe\n",
    "encoded_train_set = train_set_cleaned[['monthly_rent']].copy()"
   ]
  },
  {
   "cell_type": "markdown",
   "metadata": {},
   "source": [
    "#### spatial information"
   ]
  },
  {
   "cell_type": "code",
   "execution_count": 408,
   "metadata": {},
   "outputs": [],
   "source": [
    "## encode block (with street name) with target variable information\n",
    "\n",
    "block_encoder = TargetEncoder()\n",
    "encoded_train_set['block_encoded'] = block_encoder.fit_transform(train_set_cleaned['street_name']+train_set_cleaned['block'], train_set_cleaned['monthly_rent'])\n",
    "\n",
    "block_date_encoder = TargetEncoder()\n",
    "encoded_train_set['block_date_encoded'] = block_date_encoder.fit_transform(train_set_cleaned['block'] + train_set_cleaned['rent_approval_date'], train_set_cleaned['monthly_rent'])"
   ]
  },
  {
   "cell_type": "markdown",
   "metadata": {},
   "source": [
    "#### rent date & lease date"
   ]
  },
  {
   "cell_type": "code",
   "execution_count": 409,
   "metadata": {},
   "outputs": [
    {
     "name": "stdout",
     "output_type": "stream",
     "text": [
      "Rental Approval Date and Monthly Rental correlation is 0.546074\n"
     ]
    }
   ],
   "source": [
    "# rental approval date\n",
    "\n",
    "rental_encoder = TargetEncoder()\n",
    "encoded_train_set['rental_approval_date_encoded'] = rental_encoder.fit_transform(train_set_cleaned['rent_approval_date'].astype(str), train_set_cleaned['monthly_rent'])\n",
    "\n",
    "rental_date_rent_corr = encoded_train_set['rental_approval_date_encoded'].corr(encoded_train_set['monthly_rent'])\n",
    "print(f'Rental Approval Date and Monthly Rental correlation is {rental_date_rent_corr:3f}')"
   ]
  },
  {
   "cell_type": "code",
   "execution_count": 410,
   "metadata": {},
   "outputs": [
    {
     "name": "stdout",
     "output_type": "stream",
     "text": [
      "Warning: No categorical columns found. Calling 'transform' will only return input data.\n"
     ]
    }
   ],
   "source": [
    "# lease commence year (in decade)\n",
    "\n",
    "lease_encoder = TargetEncoder()\n",
    "encoded_train_set['lease_commence_date_encoded'] = lease_encoder.fit_transform(train_set_cleaned['lease_commence_date'], train_set_cleaned['monthly_rent'])\n",
    "\n",
    "# type_by_lease_date = TargetEncoder()\n",
    "# encoded_train_set['type_by_lease_date'] = type_by_lease_date.fit_transform(train_set_cleaned['lease_date_cat']+train_set_cleaned['flat_type'], train_set_cleaned['monthly_rent'])"
   ]
  },
  {
   "cell_type": "code",
   "execution_count": 411,
   "metadata": {},
   "outputs": [
    {
     "name": "stdout",
     "output_type": "stream",
     "text": [
      "Flat Type by Rental Date and Monthly Rental correlation is 0.655330\n"
     ]
    }
   ],
   "source": [
    "# rental date + type (NOT good for GBR)\n",
    "\n",
    "type_by_date = TargetEncoder()\n",
    "encoded_train_set['type_by_date_encoded'] = type_by_date.fit_transform(train_set_cleaned['rent_approval_date']+train_set_cleaned['flat_type'], train_set_cleaned['monthly_rent'])\n",
    "\n",
    "type_by_date_rent_corr = encoded_train_set['type_by_date_encoded'].corr(encoded_train_set['monthly_rent'])\n",
    "print(f'Flat Type by Rental Date and Monthly Rental correlation is {type_by_date_rent_corr:3f}')"
   ]
  },
  {
   "cell_type": "markdown",
   "metadata": {},
   "source": [
    "#### flat_type and flat_model"
   ]
  },
  {
   "cell_type": "code",
   "execution_count": 412,
   "metadata": {},
   "outputs": [
    {
     "data": {
      "text/plain": [
       "flat_type\n",
       "4-room       21889\n",
       "3-room       18897\n",
       "5-room       14759\n",
       "executive     3528\n",
       "2-room         927\n",
       "Name: count, dtype: int64"
      ]
     },
     "execution_count": 412,
     "metadata": {},
     "output_type": "execute_result"
    }
   ],
   "source": [
    "train_set_cleaned['flat_type'].value_counts()"
   ]
  },
  {
   "cell_type": "code",
   "execution_count": 413,
   "metadata": {},
   "outputs": [],
   "source": [
    "# flat type\n",
    "\n",
    "encoded_train_set_copy = encoded_train_set.copy()\n",
    "encoded_train_set_copy['flat_type'] = train_set_cleaned['flat_type']\n",
    "encoded_train_set = pd.get_dummies(encoded_train_set_copy, columns=['flat_type'])\n"
   ]
  },
  {
   "cell_type": "code",
   "execution_count": 414,
   "metadata": {},
   "outputs": [
    {
     "name": "stdout",
     "output_type": "stream",
     "text": [
      "Flat Model and Monthly Rental correlation is 0.236876\n"
     ]
    }
   ],
   "source": [
    "# flat model\n",
    "\n",
    "flat_model_encoder = TargetEncoder()\n",
    "encoded_train_set['flat_model_encoded'] = flat_model_encoder.fit_transform(train_set_cleaned['flat_model'], train_set_cleaned['monthly_rent'])\n",
    "\n",
    "flat_model_rent_corr = encoded_train_set['flat_model_encoded'].corr(encoded_train_set['monthly_rent'])\n",
    "print(f'Flat Model and Monthly Rental correlation is {flat_model_rent_corr:3f}')\n",
    "\n",
    "# encoded_train_set_copy = encoded_train_set.copy()\n",
    "# encoded_train_set_copy['flat_model'] = train_set_cleaned['flat_model']\n",
    "# encoded_train_set = pd.get_dummies(encoded_train_set_copy, columns=['flat_model'])"
   ]
  },
  {
   "cell_type": "code",
   "execution_count": 415,
   "metadata": {},
   "outputs": [],
   "source": [
    "# ## street + type\n",
    "\n",
    "type_by_subzone = TargetEncoder()\n",
    "encoded_train_set['type_by_subzone_encoded'] = type_by_subzone.fit_transform(train_set_cleaned['subzone']+train_set_cleaned['flat_type'], train_set_cleaned['monthly_rent'])"
   ]
  },
  {
   "cell_type": "markdown",
   "metadata": {},
   "source": [
    "#### floor area"
   ]
  },
  {
   "cell_type": "code",
   "execution_count": 416,
   "metadata": {},
   "outputs": [
    {
     "name": "stdout",
     "output_type": "stream",
     "text": [
      "Floor Area in Sqm and Monthly Rental correlation is 0.306466\n"
     ]
    }
   ],
   "source": [
    "# floor area sqm\n",
    "\n",
    "# round to the nearest 10s\n",
    "# train_set_cleaned['floor_area_sqm'] = train_set_cleaned['floor_area_sqm'].round(-1).astype(int)\n",
    "\n",
    "encoded_train_set['floor_area_sqm'] = train_set_cleaned['floor_area_sqm'].copy()\n",
    "\n",
    "floor_area_sqm_corr = encoded_train_set['floor_area_sqm'].corr(encoded_train_set['monthly_rent'])\n",
    "print(f'Floor Area in Sqm and Monthly Rental correlation is {floor_area_sqm_corr:3f}')"
   ]
  },
  {
   "cell_type": "code",
   "execution_count": 417,
   "metadata": {},
   "outputs": [
    {
     "data": {
      "image/png": "[encoded data removed]",
      "text/plain": [
       "<Figure size 1000x800 with 2 Axes>"
      ]
     },
     "metadata": {},
     "output_type": "display_data"
    }
   ],
   "source": [
    "corr = encoded_train_set.corr()\n",
    "\n",
    "# Set up the matplotlib figure\n",
    "plt.figure(figsize=(10, 8))\n",
    "\n",
    "# Generate a heatmap\n",
    "sns.heatmap(corr, annot=True, cmap='coolwarm')\n",
    "\n",
    "# Show the plot\n",
    "plt.show()"
   ]
  },
  {
   "cell_type": "markdown",
   "metadata": {},
   "source": [
    "### normalization"
   ]
  },
  {
   "cell_type": "code",
   "execution_count": 418,
   "metadata": {},
   "outputs": [],
   "source": [
    "from sklearn.preprocessing import StandardScaler"
   ]
  },
  {
   "cell_type": "code",
   "execution_count": 419,
   "metadata": {},
   "outputs": [
    {
     "data": {
      "text/plain": [
       "Index(['monthly_rent', 'block_encoded', 'block_date_encoded',\n",
       "       'rental_approval_date_encoded', 'lease_commence_date_encoded',\n",
       "       'type_by_date_encoded', 'flat_type_2-room', 'flat_type_3-room',\n",
       "       'flat_type_4-room', 'flat_type_5-room', 'flat_type_executive',\n",
       "       'flat_model_encoded', 'type_by_subzone_encoded', 'floor_area_sqm'],\n",
       "      dtype='object')"
      ]
     },
     "execution_count": 419,
     "metadata": {},
     "output_type": "execute_result"
    }
   ],
   "source": [
    "encoded_train_set\n",
    "encoded_train_set.columns"
   ]
  },
  {
   "cell_type": "code",
   "execution_count": 420,
   "metadata": {},
   "outputs": [],
   "source": [
    "# initialize the feature scaler\n",
    "scaler = StandardScaler()\n",
    "\n",
    "normalized_features = scaler.fit_transform(encoded_train_set.iloc[:,1:])"
   ]
  },
  {
   "cell_type": "code",
   "execution_count": 421,
   "metadata": {},
   "outputs": [
    {
     "data": {
      "text/html": [
       "<div>\n",
       "<style scoped>\n",
       "    .dataframe tbody tr th:only-of-type {\n",
       "        vertical-align: middle;\n",
       "    }\n",
       "\n",
       "    .dataframe tbody tr th {\n",
       "        vertical-align: top;\n",
       "    }\n",
       "\n",
       "    .dataframe thead th {\n",
       "        text-align: right;\n",
       "    }\n",
       "</style>\n",
       "<table border=\"1\" class=\"dataframe\">\n",
       "  <thead>\n",
       "    <tr style=\"text-align: right;\">\n",
       "      <th></th>\n",
       "      <th>0</th>\n",
       "      <th>1</th>\n",
       "      <th>2</th>\n",
       "      <th>3</th>\n",
       "      <th>4</th>\n",
       "      <th>5</th>\n",
       "      <th>6</th>\n",
       "      <th>7</th>\n",
       "      <th>8</th>\n",
       "      <th>9</th>\n",
       "      <th>10</th>\n",
       "      <th>11</th>\n",
       "      <th>12</th>\n",
       "    </tr>\n",
       "  </thead>\n",
       "  <tbody>\n",
       "    <tr>\n",
       "      <th>count</th>\n",
       "      <td>6.000000e+04</td>\n",
       "      <td>6.000000e+04</td>\n",
       "      <td>6.000000e+04</td>\n",
       "      <td>6.000000e+04</td>\n",
       "      <td>6.000000e+04</td>\n",
       "      <td>6.000000e+04</td>\n",
       "      <td>6.000000e+04</td>\n",
       "      <td>6.000000e+04</td>\n",
       "      <td>6.000000e+04</td>\n",
       "      <td>6.000000e+04</td>\n",
       "      <td>6.000000e+04</td>\n",
       "      <td>6.000000e+04</td>\n",
       "      <td>6.000000e+04</td>\n",
       "    </tr>\n",
       "    <tr>\n",
       "      <th>mean</th>\n",
       "      <td>2.274684e-15</td>\n",
       "      <td>-5.610327e-15</td>\n",
       "      <td>-1.717737e-16</td>\n",
       "      <td>3.295971e-15</td>\n",
       "      <td>6.059745e-16</td>\n",
       "      <td>1.379637e-17</td>\n",
       "      <td>-1.297925e-16</td>\n",
       "      <td>4.523789e-17</td>\n",
       "      <td>-3.215206e-17</td>\n",
       "      <td>2.984279e-17</td>\n",
       "      <td>-1.326346e-17</td>\n",
       "      <td>3.119283e-16</td>\n",
       "      <td>9.616012e-17</td>\n",
       "    </tr>\n",
       "    <tr>\n",
       "      <th>std</th>\n",
       "      <td>1.000008e+00</td>\n",
       "      <td>1.000008e+00</td>\n",
       "      <td>1.000008e+00</td>\n",
       "      <td>1.000008e+00</td>\n",
       "      <td>1.000008e+00</td>\n",
       "      <td>1.000008e+00</td>\n",
       "      <td>1.000008e+00</td>\n",
       "      <td>1.000008e+00</td>\n",
       "      <td>1.000008e+00</td>\n",
       "      <td>1.000008e+00</td>\n",
       "      <td>1.000008e+00</td>\n",
       "      <td>1.000008e+00</td>\n",
       "      <td>1.000008e+00</td>\n",
       "    </tr>\n",
       "    <tr>\n",
       "      <th>min</th>\n",
       "      <td>-4.021880e+00</td>\n",
       "      <td>-3.281799e+00</td>\n",
       "      <td>-1.136227e+00</td>\n",
       "      <td>-2.048899e+00</td>\n",
       "      <td>-1.887184e+00</td>\n",
       "      <td>-1.252695e-01</td>\n",
       "      <td>-6.780468e-01</td>\n",
       "      <td>-7.578579e-01</td>\n",
       "      <td>-5.711660e-01</td>\n",
       "      <td>-2.499469e-01</td>\n",
       "      <td>-3.995729e+00</td>\n",
       "      <td>-3.128820e+00</td>\n",
       "      <td>-2.511392e+00</td>\n",
       "    </tr>\n",
       "    <tr>\n",
       "      <th>25%</th>\n",
       "      <td>-5.535625e-01</td>\n",
       "      <td>-7.328763e-01</td>\n",
       "      <td>-8.720157e-01</td>\n",
       "      <td>-8.134499e-01</td>\n",
       "      <td>-6.784907e-01</td>\n",
       "      <td>-1.252695e-01</td>\n",
       "      <td>-6.780468e-01</td>\n",
       "      <td>-7.578579e-01</td>\n",
       "      <td>-5.711660e-01</td>\n",
       "      <td>-2.499469e-01</td>\n",
       "      <td>-7.507854e-01</td>\n",
       "      <td>-7.186945e-01</td>\n",
       "      <td>-8.919552e-01</td>\n",
       "    </tr>\n",
       "    <tr>\n",
       "      <th>50%</th>\n",
       "      <td>-5.096325e-02</td>\n",
       "      <td>-2.389601e-01</td>\n",
       "      <td>-3.898313e-01</td>\n",
       "      <td>-2.369070e-01</td>\n",
       "      <td>-2.476472e-01</td>\n",
       "      <td>-1.252695e-01</td>\n",
       "      <td>-6.780468e-01</td>\n",
       "      <td>-7.578579e-01</td>\n",
       "      <td>-5.711660e-01</td>\n",
       "      <td>-2.499469e-01</td>\n",
       "      <td>1.323593e-01</td>\n",
       "      <td>-2.165164e-02</td>\n",
       "      <td>-6.147460e-02</td>\n",
       "    </tr>\n",
       "    <tr>\n",
       "      <th>75%</th>\n",
       "      <td>4.530094e-01</td>\n",
       "      <td>6.203927e-01</td>\n",
       "      <td>1.227626e+00</td>\n",
       "      <td>7.514523e-01</td>\n",
       "      <td>6.145215e-01</td>\n",
       "      <td>-1.252695e-01</td>\n",
       "      <td>1.474824e+00</td>\n",
       "      <td>1.319509e+00</td>\n",
       "      <td>-5.711660e-01</td>\n",
       "      <td>-2.499469e-01</td>\n",
       "      <td>2.772886e-01</td>\n",
       "      <td>5.285742e-01</td>\n",
       "      <td>6.444339e-01</td>\n",
       "    </tr>\n",
       "    <tr>\n",
       "      <th>max</th>\n",
       "      <td>9.372359e+00</td>\n",
       "      <td>6.307832e+00</td>\n",
       "      <td>1.721150e+00</td>\n",
       "      <td>2.316355e+00</td>\n",
       "      <td>2.589183e+00</td>\n",
       "      <td>7.982789e+00</td>\n",
       "      <td>1.474824e+00</td>\n",
       "      <td>1.319509e+00</td>\n",
       "      <td>1.750804e+00</td>\n",
       "      <td>4.000850e+00</td>\n",
       "      <td>1.030540e+01</td>\n",
       "      <td>5.340409e+00</td>\n",
       "      <td>5.004457e+00</td>\n",
       "    </tr>\n",
       "  </tbody>\n",
       "</table>\n",
       "</div>"
      ],
      "text/plain": [
       "                 0             1             2             3             4   \\\n",
       "count  6.000000e+04  6.000000e+04  6.000000e+04  6.000000e+04  6.000000e+04   \n",
       "mean   2.274684e-15 -5.610327e-15 -1.717737e-16  3.295971e-15  6.059745e-16   \n",
       "std    1.000008e+00  1.000008e+00  1.000008e+00  1.000008e+00  1.000008e+00   \n",
       "min   -4.021880e+00 -3.281799e+00 -1.136227e+00 -2.048899e+00 -1.887184e+00   \n",
       "25%   -5.535625e-01 -7.328763e-01 -8.720157e-01 -8.134499e-01 -6.784907e-01   \n",
       "50%   -5.096325e-02 -2.389601e-01 -3.898313e-01 -2.369070e-01 -2.476472e-01   \n",
       "75%    4.530094e-01  6.203927e-01  1.227626e+00  7.514523e-01  6.145215e-01   \n",
       "max    9.372359e+00  6.307832e+00  1.721150e+00  2.316355e+00  2.589183e+00   \n",
       "\n",
       "                 5             6             7             8             9   \\\n",
       "count  6.000000e+04  6.000000e+04  6.000000e+04  6.000000e+04  6.000000e+04   \n",
       "mean   1.379637e-17 -1.297925e-16  4.523789e-17 -3.215206e-17  2.984279e-17   \n",
       "std    1.000008e+00  1.000008e+00  1.000008e+00  1.000008e+00  1.000008e+00   \n",
       "min   -1.252695e-01 -6.780468e-01 -7.578579e-01 -5.711660e-01 -2.499469e-01   \n",
       "25%   -1.252695e-01 -6.780468e-01 -7.578579e-01 -5.711660e-01 -2.499469e-01   \n",
       "50%   -1.252695e-01 -6.780468e-01 -7.578579e-01 -5.711660e-01 -2.499469e-01   \n",
       "75%   -1.252695e-01  1.474824e+00  1.319509e+00 -5.711660e-01 -2.499469e-01   \n",
       "max    7.982789e+00  1.474824e+00  1.319509e+00  1.750804e+00  4.000850e+00   \n",
       "\n",
       "                 10            11            12  \n",
       "count  6.000000e+04  6.000000e+04  6.000000e+04  \n",
       "mean  -1.326346e-17  3.119283e-16  9.616012e-17  \n",
       "std    1.000008e+00  1.000008e+00  1.000008e+00  \n",
       "min   -3.995729e+00 -3.128820e+00 -2.511392e+00  \n",
       "25%   -7.507854e-01 -7.186945e-01 -8.919552e-01  \n",
       "50%    1.323593e-01 -2.165164e-02 -6.147460e-02  \n",
       "75%    2.772886e-01  5.285742e-01  6.444339e-01  \n",
       "max    1.030540e+01  5.340409e+00  5.004457e+00  "
      ]
     },
     "execution_count": 421,
     "metadata": {},
     "output_type": "execute_result"
    }
   ],
   "source": [
    "df_describe = pd.DataFrame(normalized_features)\n",
    "df_describe.describe()"
   ]
  },
  {
   "cell_type": "code",
   "execution_count": 422,
   "metadata": {},
   "outputs": [],
   "source": [
    "# normalize target variable\n",
    "y_scaler = StandardScaler()\n",
    "\n",
    "target_variable = y_scaler.fit_transform(encoded_train_set['monthly_rent'].to_numpy().reshape(-1, 1))\n",
    "target_variable = target_variable.reshape(-1)"
   ]
  },
  {
   "cell_type": "code",
   "execution_count": 423,
   "metadata": {},
   "outputs": [
    {
     "data": {
      "text/html": [
       "<div>\n",
       "<style scoped>\n",
       "    .dataframe tbody tr th:only-of-type {\n",
       "        vertical-align: middle;\n",
       "    }\n",
       "\n",
       "    .dataframe tbody tr th {\n",
       "        vertical-align: top;\n",
       "    }\n",
       "\n",
       "    .dataframe thead th {\n",
       "        text-align: right;\n",
       "    }\n",
       "</style>\n",
       "<table border=\"1\" class=\"dataframe\">\n",
       "  <thead>\n",
       "    <tr style=\"text-align: right;\">\n",
       "      <th></th>\n",
       "      <th>0</th>\n",
       "    </tr>\n",
       "  </thead>\n",
       "  <tbody>\n",
       "    <tr>\n",
       "      <th>count</th>\n",
       "      <td>6.000000e+04</td>\n",
       "    </tr>\n",
       "    <tr>\n",
       "      <th>mean</th>\n",
       "      <td>-5.826450e-17</td>\n",
       "    </tr>\n",
       "    <tr>\n",
       "      <th>std</th>\n",
       "      <td>1.000008e+00</td>\n",
       "    </tr>\n",
       "    <tr>\n",
       "      <th>min</th>\n",
       "      <td>-3.203684e+00</td>\n",
       "    </tr>\n",
       "    <tr>\n",
       "      <th>25%</th>\n",
       "      <td>-6.858655e-01</td>\n",
       "    </tr>\n",
       "    <tr>\n",
       "      <th>50%</th>\n",
       "      <td>-2.662290e-01</td>\n",
       "    </tr>\n",
       "    <tr>\n",
       "      <th>75%</th>\n",
       "      <td>5.730439e-01</td>\n",
       "    </tr>\n",
       "    <tr>\n",
       "      <th>max</th>\n",
       "      <td>6.098257e+00</td>\n",
       "    </tr>\n",
       "  </tbody>\n",
       "</table>\n",
       "</div>"
      ],
      "text/plain": [
       "                  0\n",
       "count  6.000000e+04\n",
       "mean  -5.826450e-17\n",
       "std    1.000008e+00\n",
       "min   -3.203684e+00\n",
       "25%   -6.858655e-01\n",
       "50%   -2.662290e-01\n",
       "75%    5.730439e-01\n",
       "max    6.098257e+00"
      ]
     },
     "execution_count": 423,
     "metadata": {},
     "output_type": "execute_result"
    }
   ],
   "source": [
    "df_describe = pd.DataFrame(target_variable)\n",
    "df_describe.describe()"
   ]
  },
  {
   "cell_type": "markdown",
   "metadata": {},
   "source": [
    "#### Feature Importance"
   ]
  },
  {
   "cell_type": "code",
   "execution_count": 424,
   "metadata": {},
   "outputs": [],
   "source": [
    "from sklearn.linear_model import Lasso"
   ]
  },
  {
   "cell_type": "code",
   "execution_count": 425,
   "metadata": {},
   "outputs": [
    {
     "data": {
      "text/html": [
       "<style>#sk-container-id-19 {color: black;}#sk-container-id-19 pre{padding: 0;}#sk-container-id-19 div.sk-toggleable {background-color: white;}#sk-container-id-19 label.sk-toggleable__label {cursor: pointer;display: block;width: 100%;margin-bottom: 0;padding: 0.3em;box-sizing: border-box;text-align: center;}#sk-container-id-19 label.sk-toggleable__label-arrow:before {content: \"▸\";float: left;margin-right: 0.25em;color: #696969;}#sk-container-id-19 label.sk-toggleable__label-arrow:hover:before {color: black;}#sk-container-id-19 div.sk-estimator:hover label.sk-toggleable__label-arrow:before {color: black;}#sk-container-id-19 div.sk-toggleable__content {max-height: 0;max-width: 0;overflow: hidden;text-align: left;background-color: #f0f8ff;}#sk-container-id-19 div.sk-toggleable__content pre {margin: 0.2em;color: black;border-radius: 0.25em;background-color: #f0f8ff;}#sk-container-id-19 input.sk-toggleable__control:checked~div.sk-toggleable__content {max-height: 200px;max-width: 100%;overflow: auto;}#sk-container-id-19 input.sk-toggleable__control:checked~label.sk-toggleable__label-arrow:before {content: \"▾\";}#sk-container-id-19 div.sk-estimator input.sk-toggleable__control:checked~label.sk-toggleable__label {background-color: #d4ebff;}#sk-container-id-19 div.sk-label input.sk-toggleable__control:checked~label.sk-toggleable__label {background-color: #d4ebff;}#sk-container-id-19 input.sk-hidden--visually {border: 0;clip: rect(1px 1px 1px 1px);clip: rect(1px, 1px, 1px, 1px);height: 1px;margin: -1px;overflow: hidden;padding: 0;position: absolute;width: 1px;}#sk-container-id-19 div.sk-estimator {font-family: monospace;background-color: #f0f8ff;border: 1px dotted black;border-radius: 0.25em;box-sizing: border-box;margin-bottom: 0.5em;}#sk-container-id-19 div.sk-estimator:hover {background-color: #d4ebff;}#sk-container-id-19 div.sk-parallel-item::after {content: \"\";width: 100%;border-bottom: 1px solid gray;flex-grow: 1;}#sk-container-id-19 div.sk-label:hover label.sk-toggleable__label {background-color: #d4ebff;}#sk-container-id-19 div.sk-serial::before {content: \"\";position: absolute;border-left: 1px solid gray;box-sizing: border-box;top: 0;bottom: 0;left: 50%;z-index: 0;}#sk-container-id-19 div.sk-serial {display: flex;flex-direction: column;align-items: center;background-color: white;padding-right: 0.2em;padding-left: 0.2em;position: relative;}#sk-container-id-19 div.sk-item {position: relative;z-index: 1;}#sk-container-id-19 div.sk-parallel {display: flex;align-items: stretch;justify-content: center;background-color: white;position: relative;}#sk-container-id-19 div.sk-item::before, #sk-container-id-19 div.sk-parallel-item::before {content: \"\";position: absolute;border-left: 1px solid gray;box-sizing: border-box;top: 0;bottom: 0;left: 50%;z-index: -1;}#sk-container-id-19 div.sk-parallel-item {display: flex;flex-direction: column;z-index: 1;position: relative;background-color: white;}#sk-container-id-19 div.sk-parallel-item:first-child::after {align-self: flex-end;width: 50%;}#sk-container-id-19 div.sk-parallel-item:last-child::after {align-self: flex-start;width: 50%;}#sk-container-id-19 div.sk-parallel-item:only-child::after {width: 0;}#sk-container-id-19 div.sk-dashed-wrapped {border: 1px dashed gray;margin: 0 0.4em 0.5em 0.4em;box-sizing: border-box;padding-bottom: 0.4em;background-color: white;}#sk-container-id-19 div.sk-label label {font-family: monospace;font-weight: bold;display: inline-block;line-height: 1.2em;}#sk-container-id-19 div.sk-label-container {text-align: center;}#sk-container-id-19 div.sk-container {/* jupyter's `normalize.less` sets `[hidden] { display: none; }` but bootstrap.min.css set `[hidden] { display: none !important; }` so we also need the `!important` here to be able to override the default hidden behavior on the sphinx rendered scikit-learn.org. See: https://github.com/scikit-learn/scikit-learn/issues/21755 */display: inline-block !important;position: relative;}#sk-container-id-19 div.sk-text-repr-fallback {display: none;}</style><div id=\"sk-container-id-19\" class=\"sk-top-container\"><div class=\"sk-text-repr-fallback\"><pre>Lasso(alpha=0.001)</pre><b>In a Jupyter environment, please rerun this cell to show the HTML representation or trust the notebook. <br />On GitHub, the HTML representation is unable to render, please try loading this page with nbviewer.org.</b></div><div class=\"sk-container\" hidden><div class=\"sk-item\"><div class=\"sk-estimator sk-toggleable\"><input class=\"sk-toggleable__control sk-hidden--visually\" id=\"sk-estimator-id-19\" type=\"checkbox\" checked><label for=\"sk-estimator-id-19\" class=\"sk-toggleable__label sk-toggleable__label-arrow\">Lasso</label><div class=\"sk-toggleable__content\"><pre>Lasso(alpha=0.001)</pre></div></div></div></div></div>"
      ],
      "text/plain": [
       "Lasso(alpha=0.001)"
      ]
     },
     "execution_count": 425,
     "metadata": {},
     "output_type": "execute_result"
    }
   ],
   "source": [
    "lasso=Lasso(alpha=0.001)\n",
    "lasso.fit(normalized_features, target_variable)"
   ]
  },
  {
   "cell_type": "code",
   "execution_count": 426,
   "metadata": {},
   "outputs": [],
   "source": [
    "FI_lasso = pd.DataFrame({\"Feature Importance\":lasso.coef_}, index=encoded_train_set.iloc[:,1:].columns)"
   ]
  },
  {
   "cell_type": "code",
   "execution_count": 427,
   "metadata": {},
   "outputs": [
    {
     "data": {
      "image/png": "[encoded data removed]",
      "text/plain": [
       "<Figure size 1000x600 with 1 Axes>"
      ]
     },
     "metadata": {},
     "output_type": "display_data"
    }
   ],
   "source": [
    "plt.figure(figsize=(10, 6))\n",
    "plt.barh(FI_lasso.index, FI_lasso['Feature Importance'], color='skyblue')\n",
    "plt.xlabel('Importance Score')\n",
    "plt.title('Feature Importance')\n",
    "plt.grid(True)\n",
    "plt.show()"
   ]
  },
  {
   "cell_type": "markdown",
   "metadata": {},
   "source": [
    "### training"
   ]
  },
  {
   "cell_type": "code",
   "execution_count": 428,
   "metadata": {},
   "outputs": [],
   "source": [
    "from sklearn.linear_model import LassoCV\n",
    "from sklearn.model_selection import KFold, cross_val_score\n",
    "from sklearn.metrics import mean_squared_error\n",
    "from sklearn.ensemble import GradientBoostingRegressor\n",
    "from sklearn.model_selection import train_test_split"
   ]
  },
  {
   "cell_type": "code",
   "execution_count": 446,
   "metadata": {},
   "outputs": [],
   "source": [
    "# train-test split\n",
    "\n",
    "X_train, X_test, y_train, y_test = train_test_split(normalized_features, target_variable, test_size=0.2, random_state=42)"
   ]
  },
  {
   "cell_type": "markdown",
   "metadata": {},
   "source": [
    "#### lasso regression model"
   ]
  },
  {
   "cell_type": "code",
   "execution_count": 447,
   "metadata": {},
   "outputs": [
    {
     "data": {
      "text/html": [
       "<style>#sk-container-id-22 {color: black;}#sk-container-id-22 pre{padding: 0;}#sk-container-id-22 div.sk-toggleable {background-color: white;}#sk-container-id-22 label.sk-toggleable__label {cursor: pointer;display: block;width: 100%;margin-bottom: 0;padding: 0.3em;box-sizing: border-box;text-align: center;}#sk-container-id-22 label.sk-toggleable__label-arrow:before {content: \"▸\";float: left;margin-right: 0.25em;color: #696969;}#sk-container-id-22 label.sk-toggleable__label-arrow:hover:before {color: black;}#sk-container-id-22 div.sk-estimator:hover label.sk-toggleable__label-arrow:before {color: black;}#sk-container-id-22 div.sk-toggleable__content {max-height: 0;max-width: 0;overflow: hidden;text-align: left;background-color: #f0f8ff;}#sk-container-id-22 div.sk-toggleable__content pre {margin: 0.2em;color: black;border-radius: 0.25em;background-color: #f0f8ff;}#sk-container-id-22 input.sk-toggleable__control:checked~div.sk-toggleable__content {max-height: 200px;max-width: 100%;overflow: auto;}#sk-container-id-22 input.sk-toggleable__control:checked~label.sk-toggleable__label-arrow:before {content: \"▾\";}#sk-container-id-22 div.sk-estimator input.sk-toggleable__control:checked~label.sk-toggleable__label {background-color: #d4ebff;}#sk-container-id-22 div.sk-label input.sk-toggleable__control:checked~label.sk-toggleable__label {background-color: #d4ebff;}#sk-container-id-22 input.sk-hidden--visually {border: 0;clip: rect(1px 1px 1px 1px);clip: rect(1px, 1px, 1px, 1px);height: 1px;margin: -1px;overflow: hidden;padding: 0;position: absolute;width: 1px;}#sk-container-id-22 div.sk-estimator {font-family: monospace;background-color: #f0f8ff;border: 1px dotted black;border-radius: 0.25em;box-sizing: border-box;margin-bottom: 0.5em;}#sk-container-id-22 div.sk-estimator:hover {background-color: #d4ebff;}#sk-container-id-22 div.sk-parallel-item::after {content: \"\";width: 100%;border-bottom: 1px solid gray;flex-grow: 1;}#sk-container-id-22 div.sk-label:hover label.sk-toggleable__label {background-color: #d4ebff;}#sk-container-id-22 div.sk-serial::before {content: \"\";position: absolute;border-left: 1px solid gray;box-sizing: border-box;top: 0;bottom: 0;left: 50%;z-index: 0;}#sk-container-id-22 div.sk-serial {display: flex;flex-direction: column;align-items: center;background-color: white;padding-right: 0.2em;padding-left: 0.2em;position: relative;}#sk-container-id-22 div.sk-item {position: relative;z-index: 1;}#sk-container-id-22 div.sk-parallel {display: flex;align-items: stretch;justify-content: center;background-color: white;position: relative;}#sk-container-id-22 div.sk-item::before, #sk-container-id-22 div.sk-parallel-item::before {content: \"\";position: absolute;border-left: 1px solid gray;box-sizing: border-box;top: 0;bottom: 0;left: 50%;z-index: -1;}#sk-container-id-22 div.sk-parallel-item {display: flex;flex-direction: column;z-index: 1;position: relative;background-color: white;}#sk-container-id-22 div.sk-parallel-item:first-child::after {align-self: flex-end;width: 50%;}#sk-container-id-22 div.sk-parallel-item:last-child::after {align-self: flex-start;width: 50%;}#sk-container-id-22 div.sk-parallel-item:only-child::after {width: 0;}#sk-container-id-22 div.sk-dashed-wrapped {border: 1px dashed gray;margin: 0 0.4em 0.5em 0.4em;box-sizing: border-box;padding-bottom: 0.4em;background-color: white;}#sk-container-id-22 div.sk-label label {font-family: monospace;font-weight: bold;display: inline-block;line-height: 1.2em;}#sk-container-id-22 div.sk-label-container {text-align: center;}#sk-container-id-22 div.sk-container {/* jupyter's `normalize.less` sets `[hidden] { display: none; }` but bootstrap.min.css set `[hidden] { display: none !important; }` so we also need the `!important` here to be able to override the default hidden behavior on the sphinx rendered scikit-learn.org. See: https://github.com/scikit-learn/scikit-learn/issues/21755 */display: inline-block !important;position: relative;}#sk-container-id-22 div.sk-text-repr-fallback {display: none;}</style><div id=\"sk-container-id-22\" class=\"sk-top-container\"><div class=\"sk-text-repr-fallback\"><pre>LassoCV(cv=KFold(n_splits=5, random_state=24, shuffle=True), random_state=42)</pre><b>In a Jupyter environment, please rerun this cell to show the HTML representation or trust the notebook. <br />On GitHub, the HTML representation is unable to render, please try loading this page with nbviewer.org.</b></div><div class=\"sk-container\" hidden><div class=\"sk-item\"><div class=\"sk-estimator sk-toggleable\"><input class=\"sk-toggleable__control sk-hidden--visually\" id=\"sk-estimator-id-22\" type=\"checkbox\" checked><label for=\"sk-estimator-id-22\" class=\"sk-toggleable__label sk-toggleable__label-arrow\">LassoCV</label><div class=\"sk-toggleable__content\"><pre>LassoCV(cv=KFold(n_splits=5, random_state=24, shuffle=True), random_state=42)</pre></div></div></div></div></div>"
      ],
      "text/plain": [
       "LassoCV(cv=KFold(n_splits=5, random_state=24, shuffle=True), random_state=42)"
      ]
     },
     "execution_count": 447,
     "metadata": {},
     "output_type": "execute_result"
    }
   ],
   "source": [
    "kfold = KFold(n_splits=5, shuffle=True, random_state=24)\n",
    "\n",
    "# Lasso Regression with cross-validation\n",
    "lasso = LassoCV(cv=kfold, random_state=42)\n",
    "lasso.fit(X_train, y_train)"
   ]
  },
  {
   "cell_type": "code",
   "execution_count": 448,
   "metadata": {},
   "outputs": [
    {
     "name": "stdout",
     "output_type": "stream",
     "text": [
      "Optimal alpha: 0.000819693377336223\n",
      "Mean cross-validated score of the best estimator: 0.7260254336773782\n"
     ]
    }
   ],
   "source": [
    "# evaluate the model\n",
    "\n",
    "print(\"Optimal alpha:\", lasso.alpha_)\n",
    "print(\"Mean cross-validated score of the best estimator:\", lasso.score(X_test, y_test))"
   ]
  },
  {
   "cell_type": "code",
   "execution_count": 449,
   "metadata": {},
   "outputs": [
    {
     "name": "stdout",
     "output_type": "stream",
     "text": [
      "Lasso Regression Mean Squared Error: 0.2738043858407155\n",
      "Model Coefficients: \n",
      "[ 0.14095657  0.647469   -0.13538314 -0.01733504  0.27245088  0.03405128\n",
      "  0.11119601  0.         -0.03373325 -0.02597536 -0.02871078  0.13297528\n",
      "  0.05591498]\n"
     ]
    }
   ],
   "source": [
    "# making predictions \n",
    "y_pred = lasso.predict(X_test)\n",
    "\n",
    "# evaluating the model\n",
    "mse = mean_squared_error(y_test, y_pred)\n",
    "print(f\"Lasso Regression Mean Squared Error: {mse}\")\n",
    "print(f\"Model Coefficients: \\n{lasso.coef_}\")"
   ]
  },
  {
   "cell_type": "markdown",
   "metadata": {},
   "source": [
    "### test set evaluation"
   ]
  },
  {
   "cell_type": "code",
   "execution_count": 433,
   "metadata": {},
   "outputs": [
    {
     "data": {
      "text/html": [
       "<div>\n",
       "<style scoped>\n",
       "    .dataframe tbody tr th:only-of-type {\n",
       "        vertical-align: middle;\n",
       "    }\n",
       "\n",
       "    .dataframe tbody tr th {\n",
       "        vertical-align: top;\n",
       "    }\n",
       "\n",
       "    .dataframe thead th {\n",
       "        text-align: right;\n",
       "    }\n",
       "</style>\n",
       "<table border=\"1\" class=\"dataframe\">\n",
       "  <thead>\n",
       "    <tr style=\"text-align: right;\">\n",
       "      <th></th>\n",
       "      <th>rent_approval_date</th>\n",
       "      <th>town</th>\n",
       "      <th>block</th>\n",
       "      <th>street_name</th>\n",
       "      <th>flat_type</th>\n",
       "      <th>flat_model</th>\n",
       "      <th>floor_area_sqm</th>\n",
       "      <th>furnished</th>\n",
       "      <th>lease_commence_date</th>\n",
       "      <th>latitude</th>\n",
       "      <th>longitude</th>\n",
       "      <th>elevation</th>\n",
       "      <th>subzone</th>\n",
       "      <th>planning_area</th>\n",
       "      <th>region</th>\n",
       "    </tr>\n",
       "  </thead>\n",
       "  <tbody>\n",
       "    <tr>\n",
       "      <th>0</th>\n",
       "      <td>2023-01</td>\n",
       "      <td>hougang</td>\n",
       "      <td>245</td>\n",
       "      <td>hougang street 22</td>\n",
       "      <td>5-room</td>\n",
       "      <td>improved</td>\n",
       "      <td>121.0</td>\n",
       "      <td>yes</td>\n",
       "      <td>1984</td>\n",
       "      <td>1.358411</td>\n",
       "      <td>103.891722</td>\n",
       "      <td>0.0</td>\n",
       "      <td>lorong ah soo</td>\n",
       "      <td>hougang</td>\n",
       "      <td>north-east region</td>\n",
       "    </tr>\n",
       "    <tr>\n",
       "      <th>1</th>\n",
       "      <td>2022-09</td>\n",
       "      <td>sembawang</td>\n",
       "      <td>316</td>\n",
       "      <td>sembawang vista</td>\n",
       "      <td>4-room</td>\n",
       "      <td>model a</td>\n",
       "      <td>100.0</td>\n",
       "      <td>yes</td>\n",
       "      <td>1999</td>\n",
       "      <td>1.446343</td>\n",
       "      <td>103.820817</td>\n",
       "      <td>0.0</td>\n",
       "      <td>sembawang central</td>\n",
       "      <td>sembawang</td>\n",
       "      <td>north region</td>\n",
       "    </tr>\n",
       "    <tr>\n",
       "      <th>2</th>\n",
       "      <td>2023-07</td>\n",
       "      <td>clementi</td>\n",
       "      <td>708</td>\n",
       "      <td>Clementi West Street 2</td>\n",
       "      <td>4-room</td>\n",
       "      <td>new generation</td>\n",
       "      <td>91.0</td>\n",
       "      <td>yes</td>\n",
       "      <td>1980</td>\n",
       "      <td>1.305719</td>\n",
       "      <td>103.762168</td>\n",
       "      <td>0.0</td>\n",
       "      <td>clementi west</td>\n",
       "      <td>clementi</td>\n",
       "      <td>west region</td>\n",
       "    </tr>\n",
       "    <tr>\n",
       "      <th>3</th>\n",
       "      <td>2021-08</td>\n",
       "      <td>jurong east</td>\n",
       "      <td>351</td>\n",
       "      <td>Jurong East Street 31</td>\n",
       "      <td>3 room</td>\n",
       "      <td>model a</td>\n",
       "      <td>74.0</td>\n",
       "      <td>yes</td>\n",
       "      <td>1986</td>\n",
       "      <td>1.344832</td>\n",
       "      <td>103.730778</td>\n",
       "      <td>0.0</td>\n",
       "      <td>yuhua west</td>\n",
       "      <td>jurong east</td>\n",
       "      <td>west region</td>\n",
       "    </tr>\n",
       "    <tr>\n",
       "      <th>4</th>\n",
       "      <td>2022-03</td>\n",
       "      <td>jurong east</td>\n",
       "      <td>305</td>\n",
       "      <td>jurong east street 32</td>\n",
       "      <td>5-room</td>\n",
       "      <td>improved</td>\n",
       "      <td>121.0</td>\n",
       "      <td>yes</td>\n",
       "      <td>1983</td>\n",
       "      <td>1.345437</td>\n",
       "      <td>103.735241</td>\n",
       "      <td>0.0</td>\n",
       "      <td>yuhua west</td>\n",
       "      <td>jurong east</td>\n",
       "      <td>west region</td>\n",
       "    </tr>\n",
       "  </tbody>\n",
       "</table>\n",
       "</div>"
      ],
      "text/plain": [
       "  rent_approval_date         town block             street_name flat_type  \\\n",
       "0            2023-01      hougang   245       hougang street 22    5-room   \n",
       "1            2022-09    sembawang   316         sembawang vista    4-room   \n",
       "2            2023-07     clementi   708  Clementi West Street 2    4-room   \n",
       "3            2021-08  jurong east   351   Jurong East Street 31    3 room   \n",
       "4            2022-03  jurong east   305   jurong east street 32    5-room   \n",
       "\n",
       "       flat_model  floor_area_sqm furnished  lease_commence_date  latitude  \\\n",
       "0        improved           121.0       yes                 1984  1.358411   \n",
       "1         model a           100.0       yes                 1999  1.446343   \n",
       "2  new generation            91.0       yes                 1980  1.305719   \n",
       "3         model a            74.0       yes                 1986  1.344832   \n",
       "4        improved           121.0       yes                 1983  1.345437   \n",
       "\n",
       "    longitude  elevation            subzone planning_area             region  \n",
       "0  103.891722        0.0      lorong ah soo       hougang  north-east region  \n",
       "1  103.820817        0.0  sembawang central     sembawang       north region  \n",
       "2  103.762168        0.0      clementi west      clementi        west region  \n",
       "3  103.730778        0.0         yuhua west   jurong east        west region  \n",
       "4  103.735241        0.0         yuhua west   jurong east        west region  "
      ]
     },
     "execution_count": 433,
     "metadata": {},
     "output_type": "execute_result"
    }
   ],
   "source": [
    "test_set = pd.read_csv('Datasets/test.csv')\n",
    "\n",
    "test_set.head()"
   ]
  },
  {
   "cell_type": "code",
   "execution_count": 434,
   "metadata": {},
   "outputs": [
    {
     "data": {
      "text/plain": [
       "0"
      ]
     },
     "execution_count": 434,
     "metadata": {},
     "output_type": "execute_result"
    }
   ],
   "source": [
    "(test_set.isna().sum(axis=1) > 0).sum()"
   ]
  },
  {
   "cell_type": "code",
   "execution_count": 435,
   "metadata": {},
   "outputs": [],
   "source": [
    "# data preparation\n",
    "\n",
    "test_set[['rent_approval_year','rent_approval_month']] = test_set['rent_approval_date'].str.split('-',expand=True)\n",
    "\n",
    "# street name to lower case\n",
    "test_set['street_name'] = test_set['street_name'].apply(str.lower)\n",
    "\n",
    "# replace blank space with hyphen in flat_type (e.g. '2 room' to '2-room')\n",
    "test_set['flat_type'] = test_set['flat_type'].apply(lambda x: x.replace(' ', '-'))\n",
    "\n",
    "# # categorize lease commence date by decades (remember to date_filter_condition function above first)\n",
    "# test_set['lease_date_cat'] = test_set['lease_commence_date'].apply(date_filter_condition)"
   ]
  },
  {
   "cell_type": "code",
   "execution_count": 436,
   "metadata": {},
   "outputs": [
    {
     "name": "stdout",
     "output_type": "stream",
     "text": [
      "13\n"
     ]
    }
   ],
   "source": [
    "# encoding test set\n",
    "\n",
    "encoded_test_set = pd.DataFrame(index=test_set.index)\n",
    "\n",
    "encoded_test_set['block_encoded'] = block_encoder.transform(test_set['street_name']+test_set['block'])\n",
    "encoded_test_set['block_date_encoded'] = block_date_encoder.transform(train_set_cleaned['block'] + train_set_cleaned['rent_approval_date'])\n",
    "\n",
    "encoded_test_set['rental_approval_date_encoded'] = rental_encoder.transform(test_set['rent_approval_date'])\n",
    "\n",
    "encoded_test_set['lease_commence_date_encoded'] = lease_encoder.transform(test_set['lease_commence_date'])\n",
    "encoded_test_set['type_by_date_encoded'] = type_by_date.transform(test_set['rent_approval_date']+test_set['flat_type'])\n",
    "\n",
    "encoded_test_set_copy = encoded_test_set.copy()\n",
    "encoded_test_set_copy['flat_type'] = test_set['flat_type']\n",
    "encoded_test_set = pd.get_dummies(encoded_test_set_copy, columns=['flat_type'])\n",
    "\n",
    "encoded_test_set['flat_model_encoded'] = flat_model_encoder.transform(test_set['flat_model'])\n",
    "# encoded_test_set_copy2 = encoded_test_set.copy()\n",
    "# encoded_test_set_copy2['flat_model'] = test_set['flat_model']\n",
    "# encoded_test_set = pd.get_dummies(encoded_test_set_copy2, columns=['flat_model'], prefix='flat_model')\n",
    "\n",
    "encoded_test_set['type_by_subzone_encoded'] = type_by_subzone.transform(test_set['subzone']+test_set['flat_type'])\n",
    "\n",
    "\n",
    "encoded_test_set['floor_area_sqm'] = test_set['floor_area_sqm'].copy()\n",
    "# if 'flat_model_3gen' not in encoded_test_set.columns:\n",
    "#     encoded_test_set['flat_model_3gen'] = 0\n",
    "\n",
    "encoded_test_set.columns\n",
    "print(len(encoded_test_set.columns))"
   ]
  },
  {
   "cell_type": "code",
   "execution_count": 437,
   "metadata": {},
   "outputs": [
    {
     "data": {
      "text/html": [
       "<div>\n",
       "<style scoped>\n",
       "    .dataframe tbody tr th:only-of-type {\n",
       "        vertical-align: middle;\n",
       "    }\n",
       "\n",
       "    .dataframe tbody tr th {\n",
       "        vertical-align: top;\n",
       "    }\n",
       "\n",
       "    .dataframe thead th {\n",
       "        text-align: right;\n",
       "    }\n",
       "</style>\n",
       "<table border=\"1\" class=\"dataframe\">\n",
       "  <thead>\n",
       "    <tr style=\"text-align: right;\">\n",
       "      <th></th>\n",
       "      <th>block_encoded</th>\n",
       "      <th>block_date_encoded</th>\n",
       "      <th>rental_approval_date_encoded</th>\n",
       "      <th>lease_commence_date_encoded</th>\n",
       "      <th>type_by_date_encoded</th>\n",
       "      <th>flat_type_2-room</th>\n",
       "      <th>flat_type_3-room</th>\n",
       "      <th>flat_type_4-room</th>\n",
       "      <th>flat_type_5-room</th>\n",
       "      <th>flat_type_executive</th>\n",
       "      <th>flat_model_encoded</th>\n",
       "      <th>type_by_subzone_encoded</th>\n",
       "      <th>floor_area_sqm</th>\n",
       "    </tr>\n",
       "  </thead>\n",
       "  <tbody>\n",
       "    <tr>\n",
       "      <th>0</th>\n",
       "      <td>2556.237503</td>\n",
       "      <td>2440.769542</td>\n",
       "      <td>3069.581639</td>\n",
       "      <td>1984</td>\n",
       "      <td>3427.662037</td>\n",
       "      <td>False</td>\n",
       "      <td>False</td>\n",
       "      <td>False</td>\n",
       "      <td>True</td>\n",
       "      <td>False</td>\n",
       "      <td>2636.211052</td>\n",
       "      <td>2780.532415</td>\n",
       "      <td>121.0</td>\n",
       "    </tr>\n",
       "    <tr>\n",
       "      <th>1</th>\n",
       "      <td>2509.793159</td>\n",
       "      <td>2531.892269</td>\n",
       "      <td>2812.587413</td>\n",
       "      <td>1999</td>\n",
       "      <td>2924.288107</td>\n",
       "      <td>False</td>\n",
       "      <td>False</td>\n",
       "      <td>True</td>\n",
       "      <td>False</td>\n",
       "      <td>False</td>\n",
       "      <td>2612.031305</td>\n",
       "      <td>2515.486726</td>\n",
       "      <td>100.0</td>\n",
       "    </tr>\n",
       "    <tr>\n",
       "      <th>2</th>\n",
       "      <td>2626.547123</td>\n",
       "      <td>2584.795671</td>\n",
       "      <td>3262.248898</td>\n",
       "      <td>1980</td>\n",
       "      <td>3406.266491</td>\n",
       "      <td>False</td>\n",
       "      <td>False</td>\n",
       "      <td>True</td>\n",
       "      <td>False</td>\n",
       "      <td>False</td>\n",
       "      <td>2369.965462</td>\n",
       "      <td>2815.049618</td>\n",
       "      <td>91.0</td>\n",
       "    </tr>\n",
       "    <tr>\n",
       "      <th>3</th>\n",
       "      <td>2540.333848</td>\n",
       "      <td>2531.059660</td>\n",
       "      <td>2249.901768</td>\n",
       "      <td>1986</td>\n",
       "      <td>1988.479624</td>\n",
       "      <td>False</td>\n",
       "      <td>True</td>\n",
       "      <td>False</td>\n",
       "      <td>False</td>\n",
       "      <td>False</td>\n",
       "      <td>2612.031305</td>\n",
       "      <td>2169.687850</td>\n",
       "      <td>74.0</td>\n",
       "    </tr>\n",
       "    <tr>\n",
       "      <th>4</th>\n",
       "      <td>2542.787517</td>\n",
       "      <td>2518.784359</td>\n",
       "      <td>2449.322430</td>\n",
       "      <td>1983</td>\n",
       "      <td>2665.350877</td>\n",
       "      <td>False</td>\n",
       "      <td>False</td>\n",
       "      <td>False</td>\n",
       "      <td>True</td>\n",
       "      <td>False</td>\n",
       "      <td>2636.211052</td>\n",
       "      <td>2745.291569</td>\n",
       "      <td>121.0</td>\n",
       "    </tr>\n",
       "    <tr>\n",
       "      <th>5</th>\n",
       "      <td>2629.794822</td>\n",
       "      <td>2666.480481</td>\n",
       "      <td>2351.327643</td>\n",
       "      <td>1980</td>\n",
       "      <td>2085.797101</td>\n",
       "      <td>False</td>\n",
       "      <td>True</td>\n",
       "      <td>False</td>\n",
       "      <td>False</td>\n",
       "      <td>False</td>\n",
       "      <td>2369.965462</td>\n",
       "      <td>2215.660377</td>\n",
       "      <td>67.0</td>\n",
       "    </tr>\n",
       "    <tr>\n",
       "      <th>6</th>\n",
       "      <td>2620.454030</td>\n",
       "      <td>2526.532462</td>\n",
       "      <td>2216.537301</td>\n",
       "      <td>2005</td>\n",
       "      <td>2390.219224</td>\n",
       "      <td>False</td>\n",
       "      <td>False</td>\n",
       "      <td>False</td>\n",
       "      <td>True</td>\n",
       "      <td>False</td>\n",
       "      <td>2709.678998</td>\n",
       "      <td>2711.576353</td>\n",
       "      <td>110.0</td>\n",
       "    </tr>\n",
       "    <tr>\n",
       "      <th>7</th>\n",
       "      <td>2730.005494</td>\n",
       "      <td>2540.333848</td>\n",
       "      <td>2755.309735</td>\n",
       "      <td>2008</td>\n",
       "      <td>2985.820896</td>\n",
       "      <td>False</td>\n",
       "      <td>False</td>\n",
       "      <td>False</td>\n",
       "      <td>True</td>\n",
       "      <td>False</td>\n",
       "      <td>3150.404313</td>\n",
       "      <td>2891.894198</td>\n",
       "      <td>108.0</td>\n",
       "    </tr>\n",
       "    <tr>\n",
       "      <th>8</th>\n",
       "      <td>2649.937911</td>\n",
       "      <td>2540.333848</td>\n",
       "      <td>2339.852217</td>\n",
       "      <td>2001</td>\n",
       "      <td>2612.492565</td>\n",
       "      <td>False</td>\n",
       "      <td>False</td>\n",
       "      <td>False</td>\n",
       "      <td>False</td>\n",
       "      <td>True</td>\n",
       "      <td>2709.678998</td>\n",
       "      <td>3018.974348</td>\n",
       "      <td>133.0</td>\n",
       "    </tr>\n",
       "    <tr>\n",
       "      <th>9</th>\n",
       "      <td>2808.073641</td>\n",
       "      <td>2528.243759</td>\n",
       "      <td>3262.248898</td>\n",
       "      <td>1975</td>\n",
       "      <td>3611.022044</td>\n",
       "      <td>False</td>\n",
       "      <td>False</td>\n",
       "      <td>False</td>\n",
       "      <td>True</td>\n",
       "      <td>False</td>\n",
       "      <td>2444.223986</td>\n",
       "      <td>3405.933070</td>\n",
       "      <td>120.0</td>\n",
       "    </tr>\n",
       "  </tbody>\n",
       "</table>\n",
       "</div>"
      ],
      "text/plain": [
       "   block_encoded  block_date_encoded  rental_approval_date_encoded  \\\n",
       "0    2556.237503         2440.769542                   3069.581639   \n",
       "1    2509.793159         2531.892269                   2812.587413   \n",
       "2    2626.547123         2584.795671                   3262.248898   \n",
       "3    2540.333848         2531.059660                   2249.901768   \n",
       "4    2542.787517         2518.784359                   2449.322430   \n",
       "5    2629.794822         2666.480481                   2351.327643   \n",
       "6    2620.454030         2526.532462                   2216.537301   \n",
       "7    2730.005494         2540.333848                   2755.309735   \n",
       "8    2649.937911         2540.333848                   2339.852217   \n",
       "9    2808.073641         2528.243759                   3262.248898   \n",
       "\n",
       "   lease_commence_date_encoded  type_by_date_encoded  flat_type_2-room  \\\n",
       "0                         1984           3427.662037             False   \n",
       "1                         1999           2924.288107             False   \n",
       "2                         1980           3406.266491             False   \n",
       "3                         1986           1988.479624             False   \n",
       "4                         1983           2665.350877             False   \n",
       "5                         1980           2085.797101             False   \n",
       "6                         2005           2390.219224             False   \n",
       "7                         2008           2985.820896             False   \n",
       "8                         2001           2612.492565             False   \n",
       "9                         1975           3611.022044             False   \n",
       "\n",
       "   flat_type_3-room  flat_type_4-room  flat_type_5-room  flat_type_executive  \\\n",
       "0             False             False              True                False   \n",
       "1             False              True             False                False   \n",
       "2             False              True             False                False   \n",
       "3              True             False             False                False   \n",
       "4             False             False              True                False   \n",
       "5              True             False             False                False   \n",
       "6             False             False              True                False   \n",
       "7             False             False              True                False   \n",
       "8             False             False             False                 True   \n",
       "9             False             False              True                False   \n",
       "\n",
       "   flat_model_encoded  type_by_subzone_encoded  floor_area_sqm  \n",
       "0         2636.211052              2780.532415           121.0  \n",
       "1         2612.031305              2515.486726           100.0  \n",
       "2         2369.965462              2815.049618            91.0  \n",
       "3         2612.031305              2169.687850            74.0  \n",
       "4         2636.211052              2745.291569           121.0  \n",
       "5         2369.965462              2215.660377            67.0  \n",
       "6         2709.678998              2711.576353           110.0  \n",
       "7         3150.404313              2891.894198           108.0  \n",
       "8         2709.678998              3018.974348           133.0  \n",
       "9         2444.223986              3405.933070           120.0  "
      ]
     },
     "execution_count": 437,
     "metadata": {},
     "output_type": "execute_result"
    }
   ],
   "source": [
    "encoded_test_set.head(10)"
   ]
  },
  {
   "cell_type": "code",
   "execution_count": 438,
   "metadata": {},
   "outputs": [],
   "source": [
    "# normalization\n",
    "\n",
    "normalized_test_features = scaler.transform(encoded_test_set)"
   ]
  },
  {
   "cell_type": "code",
   "execution_count": 439,
   "metadata": {},
   "outputs": [],
   "source": [
    "# lasso regressor prediction\n",
    "lasso_y_pred = lasso.predict(normalized_test_features).reshape(-1, 1)\n",
    "lasso_y_pred = y_scaler.inverse_transform(lasso_y_pred)"
   ]
  },
  {
   "cell_type": "code",
   "execution_count": 440,
   "metadata": {},
   "outputs": [
    {
     "data": {
      "text/plain": [
       "array([[2051.03832811],\n",
       "       [2267.86174066],\n",
       "       [2835.89939822],\n",
       "       [2076.98748298],\n",
       "       [2266.52769777],\n",
       "       [2891.64566365],\n",
       "       [2246.91827842],\n",
       "       [2502.02017686],\n",
       "       [2514.77671223],\n",
       "       [2924.01800778],\n",
       "       [2069.73812424],\n",
       "       [2510.5004701 ],\n",
       "       [2510.0142118 ],\n",
       "       [2251.46370476],\n",
       "       [2964.42343493],\n",
       "       [2253.19100356],\n",
       "       [3319.32352128],\n",
       "       [4064.4965141 ],\n",
       "       [2168.12017979],\n",
       "       [2574.7863269 ]])"
      ]
     },
     "execution_count": 440,
     "metadata": {},
     "output_type": "execute_result"
    }
   ],
   "source": [
    "lasso_y_pred[:20]"
   ]
  },
  {
   "cell_type": "code",
   "execution_count": 441,
   "metadata": {},
   "outputs": [],
   "source": [
    "df = pd.DataFrame(lasso_y_pred, columns=['Predicted'])\n",
    "df.to_csv(\"predictions/updated_lasso.csv\", index_label=\"Id\", header=True, float_format='%.4f')"
   ]
  }
 ],
 "metadata": {
  "kernelspec": {
   "display_name": "CS5228",
   "language": "python",
   "name": "python3"
  },
  "language_info": {
   "codemirror_mode": {
    "name": "ipython",
    "version": 3
   },
   "file_extension": ".py",
   "mimetype": "text/x-python",
   "name": "python",
   "nbconvert_exporter": "python",
   "pygments_lexer": "ipython3",
   "version": "3.11.5"
  }
 },
 "nbformat": 4,
 "nbformat_minor": 2
}
