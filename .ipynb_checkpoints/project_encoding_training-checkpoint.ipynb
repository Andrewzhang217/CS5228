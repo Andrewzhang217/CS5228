{
 "cells": [
  {
   "cell_type": "code",
   "execution_count": 1,
   "id": "d96efaa5-08cd-40c2-83ad-af5b1a1e5268",
   "metadata": {},
   "outputs": [],
   "source": [
    "import numpy as np\n",
    "import pandas as pd\n",
    "import matplotlib.pyplot as plt\n",
    "from category_encoders import TargetEncoder"
   ]
  },
  {
   "cell_type": "code",
   "execution_count": 2,
   "id": "25a47f47-8bb1-492f-b294-0eab8726f6c1",
   "metadata": {},
   "outputs": [
    {
     "data": {
      "text/html": [
       "<div>\n",
       "<style scoped>\n",
       "    .dataframe tbody tr th:only-of-type {\n",
       "        vertical-align: middle;\n",
       "    }\n",
       "\n",
       "    .dataframe tbody tr th {\n",
       "        vertical-align: top;\n",
       "    }\n",
       "\n",
       "    .dataframe thead th {\n",
       "        text-align: right;\n",
       "    }\n",
       "</style>\n",
       "<table border=\"1\" class=\"dataframe\">\n",
       "  <thead>\n",
       "    <tr style=\"text-align: right;\">\n",
       "      <th></th>\n",
       "      <th>rent_approval_date</th>\n",
       "      <th>town</th>\n",
       "      <th>block</th>\n",
       "      <th>street_name</th>\n",
       "      <th>flat_type</th>\n",
       "      <th>flat_model</th>\n",
       "      <th>floor_area_sqm</th>\n",
       "      <th>furnished</th>\n",
       "      <th>lease_commence_date</th>\n",
       "      <th>latitude</th>\n",
       "      <th>longitude</th>\n",
       "      <th>elevation</th>\n",
       "      <th>subzone</th>\n",
       "      <th>planning_area</th>\n",
       "      <th>region</th>\n",
       "      <th>monthly_rent</th>\n",
       "    </tr>\n",
       "  </thead>\n",
       "  <tbody>\n",
       "    <tr>\n",
       "      <th>0</th>\n",
       "      <td>2021-09</td>\n",
       "      <td>jurong east</td>\n",
       "      <td>257</td>\n",
       "      <td>Jurong East Street 24</td>\n",
       "      <td>3 room</td>\n",
       "      <td>new generation</td>\n",
       "      <td>67.0</td>\n",
       "      <td>yes</td>\n",
       "      <td>1983</td>\n",
       "      <td>1.344518</td>\n",
       "      <td>103.738630</td>\n",
       "      <td>0.0</td>\n",
       "      <td>yuhua east</td>\n",
       "      <td>jurong east</td>\n",
       "      <td>west region</td>\n",
       "      <td>1600</td>\n",
       "    </tr>\n",
       "    <tr>\n",
       "      <th>1</th>\n",
       "      <td>2022-05</td>\n",
       "      <td>bedok</td>\n",
       "      <td>119</td>\n",
       "      <td>bedok north road</td>\n",
       "      <td>4-room</td>\n",
       "      <td>new generation</td>\n",
       "      <td>92.0</td>\n",
       "      <td>yes</td>\n",
       "      <td>1978</td>\n",
       "      <td>1.330186</td>\n",
       "      <td>103.938717</td>\n",
       "      <td>0.0</td>\n",
       "      <td>bedok north</td>\n",
       "      <td>bedok</td>\n",
       "      <td>east region</td>\n",
       "      <td>2250</td>\n",
       "    </tr>\n",
       "    <tr>\n",
       "      <th>2</th>\n",
       "      <td>2022-10</td>\n",
       "      <td>toa payoh</td>\n",
       "      <td>157</td>\n",
       "      <td>lorong 1 toa payoh</td>\n",
       "      <td>3-room</td>\n",
       "      <td>improved</td>\n",
       "      <td>67.0</td>\n",
       "      <td>yes</td>\n",
       "      <td>1971</td>\n",
       "      <td>1.332242</td>\n",
       "      <td>103.845643</td>\n",
       "      <td>0.0</td>\n",
       "      <td>toa payoh central</td>\n",
       "      <td>toa payoh</td>\n",
       "      <td>central region</td>\n",
       "      <td>1900</td>\n",
       "    </tr>\n",
       "    <tr>\n",
       "      <th>3</th>\n",
       "      <td>2021-08</td>\n",
       "      <td>pasir ris</td>\n",
       "      <td>250</td>\n",
       "      <td>Pasir Ris Street 21</td>\n",
       "      <td>executive</td>\n",
       "      <td>apartment</td>\n",
       "      <td>149.0</td>\n",
       "      <td>yes</td>\n",
       "      <td>1993</td>\n",
       "      <td>1.370239</td>\n",
       "      <td>103.962894</td>\n",
       "      <td>0.0</td>\n",
       "      <td>pasir ris drive</td>\n",
       "      <td>pasir ris</td>\n",
       "      <td>east region</td>\n",
       "      <td>2850</td>\n",
       "    </tr>\n",
       "    <tr>\n",
       "      <th>4</th>\n",
       "      <td>2022-11</td>\n",
       "      <td>kallang/whampoa</td>\n",
       "      <td>34</td>\n",
       "      <td>Whampoa West</td>\n",
       "      <td>3-room</td>\n",
       "      <td>improved</td>\n",
       "      <td>68.0</td>\n",
       "      <td>yes</td>\n",
       "      <td>1972</td>\n",
       "      <td>1.320502</td>\n",
       "      <td>103.863341</td>\n",
       "      <td>0.0</td>\n",
       "      <td>bendemeer</td>\n",
       "      <td>kallang</td>\n",
       "      <td>central region</td>\n",
       "      <td>2100</td>\n",
       "    </tr>\n",
       "  </tbody>\n",
       "</table>\n",
       "</div>"
      ],
      "text/plain": [
       "  rent_approval_date             town block            street_name  flat_type  \\\n",
       "0            2021-09      jurong east   257  Jurong East Street 24     3 room   \n",
       "1            2022-05            bedok   119       bedok north road     4-room   \n",
       "2            2022-10        toa payoh   157     lorong 1 toa payoh     3-room   \n",
       "3            2021-08        pasir ris   250    Pasir Ris Street 21  executive   \n",
       "4            2022-11  kallang/whampoa    34           Whampoa West     3-room   \n",
       "\n",
       "       flat_model  floor_area_sqm furnished  lease_commence_date  latitude  \\\n",
       "0  new generation            67.0       yes                 1983  1.344518   \n",
       "1  new generation            92.0       yes                 1978  1.330186   \n",
       "2        improved            67.0       yes                 1971  1.332242   \n",
       "3       apartment           149.0       yes                 1993  1.370239   \n",
       "4        improved            68.0       yes                 1972  1.320502   \n",
       "\n",
       "    longitude  elevation            subzone planning_area          region  \\\n",
       "0  103.738630        0.0         yuhua east   jurong east     west region   \n",
       "1  103.938717        0.0        bedok north         bedok     east region   \n",
       "2  103.845643        0.0  toa payoh central     toa payoh  central region   \n",
       "3  103.962894        0.0    pasir ris drive     pasir ris     east region   \n",
       "4  103.863341        0.0          bendemeer       kallang  central region   \n",
       "\n",
       "   monthly_rent  \n",
       "0          1600  \n",
       "1          2250  \n",
       "2          1900  \n",
       "3          2850  \n",
       "4          2100  "
      ]
     },
     "execution_count": 2,
     "metadata": {},
     "output_type": "execute_result"
    }
   ],
   "source": [
    "train_set = pd.read_csv('Datasets/train.csv')\n",
    "\n",
    "train_set.head()"
   ]
  },
  {
   "cell_type": "markdown",
   "id": "afe06902-651c-4468-9b7c-82d9fbe2c4c0",
   "metadata": {},
   "source": [
    "### data cleaning"
   ]
  },
  {
   "cell_type": "code",
   "execution_count": 3,
   "id": "6b328fbd-44d6-4978-8967-c1cd0615c14a",
   "metadata": {},
   "outputs": [],
   "source": [
    "# get copy\n",
    "\n",
    "train_set_cleaned = train_set.copy()"
   ]
  },
  {
   "cell_type": "code",
   "execution_count": 4,
   "id": "a2d61782-a0c4-4897-bc59-33671a98bc4b",
   "metadata": {
    "tags": []
   },
   "outputs": [],
   "source": [
    "# add two new attributes, split rent_approval_date into month, year\n",
    "\n",
    "train_set_cleaned[['rent_approval_year','rent_approval_month']] = train_set_cleaned['rent_approval_date'].str.split('-',expand=True)\n",
    "\n",
    "# train_set_cleaned['rent_approval_month'] = pd.to_datetime(train_set_cleaned['rent_approval_month'], format='%m').dt.month\n",
    "# train_set_cleaned['rent_approval_year'] = pd.to_datetime(train_set_cleaned['rent_approval_year'], format='%y').dt.year"
   ]
  },
  {
   "cell_type": "code",
   "execution_count": 5,
   "id": "cf2ddc1e-e4d9-4ef0-b2b7-cd3758a63195",
   "metadata": {
    "tags": []
   },
   "outputs": [],
   "source": [
    "# street name to lower case\n",
    "\n",
    "train_set_cleaned['street_name'] = train_set_cleaned['street_name'].apply(str.lower)"
   ]
  },
  {
   "cell_type": "code",
   "execution_count": 6,
   "id": "a8eaa082-6243-47f3-8f4a-d3b339ba7e3c",
   "metadata": {
    "tags": []
   },
   "outputs": [],
   "source": [
    "# replace blank space with hyphen in flat_type (e.g. '2 room' to '2-room')\n",
    "\n",
    "train_set_cleaned['flat_type'] = train_set_cleaned['flat_type'].apply(lambda x: x.replace(' ', '-'))"
   ]
  },
  {
   "cell_type": "code",
   "execution_count": 7,
   "id": "37995b30-e546-41db-82e7-47f0a07d1473",
   "metadata": {
    "tags": []
   },
   "outputs": [],
   "source": [
    "def date_filter_condition(x):\n",
    "    \n",
    "    if x < 1970:\n",
    "        return 'before 70s'\n",
    "    elif x >= 1970 and x < 1980:\n",
    "        return '70s'\n",
    "    elif x >= 1980 and x < 1990:\n",
    "        return '80s'\n",
    "    elif x >= 1990 and x < 2000:\n",
    "        return '90s'\n",
    "    elif x >= 2000 and x < 2010:\n",
    "        return '00s'\n",
    "    elif x >= 2010 and x < 2020:\n",
    "        return '10s'\n",
    "    else:\n",
    "        return 'others'\n",
    "\n",
    "# categorize lease commence date by decades    \n",
    "train_set_cleaned['lease_date_cat'] = train_set_cleaned['lease_commence_date'].apply(date_filter_condition)"
   ]
  },
  {
   "cell_type": "code",
   "execution_count": 8,
   "id": "9fbdd61c",
   "metadata": {},
   "outputs": [
    {
     "data": {
      "text/html": [
       "<div>\n",
       "<style scoped>\n",
       "    .dataframe tbody tr th:only-of-type {\n",
       "        vertical-align: middle;\n",
       "    }\n",
       "\n",
       "    .dataframe tbody tr th {\n",
       "        vertical-align: top;\n",
       "    }\n",
       "\n",
       "    .dataframe thead th {\n",
       "        text-align: right;\n",
       "    }\n",
       "</style>\n",
       "<table border=\"1\" class=\"dataframe\">\n",
       "  <thead>\n",
       "    <tr style=\"text-align: right;\">\n",
       "      <th></th>\n",
       "      <th>rent_approval_date</th>\n",
       "      <th>town</th>\n",
       "      <th>block</th>\n",
       "      <th>street_name</th>\n",
       "      <th>flat_type</th>\n",
       "      <th>flat_model</th>\n",
       "      <th>floor_area_sqm</th>\n",
       "      <th>furnished</th>\n",
       "      <th>lease_commence_date</th>\n",
       "      <th>latitude</th>\n",
       "      <th>longitude</th>\n",
       "      <th>elevation</th>\n",
       "      <th>subzone</th>\n",
       "      <th>planning_area</th>\n",
       "      <th>region</th>\n",
       "      <th>monthly_rent</th>\n",
       "      <th>rent_approval_year</th>\n",
       "      <th>rent_approval_month</th>\n",
       "      <th>lease_date_cat</th>\n",
       "    </tr>\n",
       "  </thead>\n",
       "  <tbody>\n",
       "    <tr>\n",
       "      <th>0</th>\n",
       "      <td>2021-09</td>\n",
       "      <td>jurong east</td>\n",
       "      <td>257</td>\n",
       "      <td>jurong east street 24</td>\n",
       "      <td>3-room</td>\n",
       "      <td>new generation</td>\n",
       "      <td>67.0</td>\n",
       "      <td>yes</td>\n",
       "      <td>1983</td>\n",
       "      <td>1.344518</td>\n",
       "      <td>103.738630</td>\n",
       "      <td>0.0</td>\n",
       "      <td>yuhua east</td>\n",
       "      <td>jurong east</td>\n",
       "      <td>west region</td>\n",
       "      <td>1600</td>\n",
       "      <td>2021</td>\n",
       "      <td>09</td>\n",
       "      <td>80s</td>\n",
       "    </tr>\n",
       "    <tr>\n",
       "      <th>1</th>\n",
       "      <td>2022-05</td>\n",
       "      <td>bedok</td>\n",
       "      <td>119</td>\n",
       "      <td>bedok north road</td>\n",
       "      <td>4-room</td>\n",
       "      <td>new generation</td>\n",
       "      <td>92.0</td>\n",
       "      <td>yes</td>\n",
       "      <td>1978</td>\n",
       "      <td>1.330186</td>\n",
       "      <td>103.938717</td>\n",
       "      <td>0.0</td>\n",
       "      <td>bedok north</td>\n",
       "      <td>bedok</td>\n",
       "      <td>east region</td>\n",
       "      <td>2250</td>\n",
       "      <td>2022</td>\n",
       "      <td>05</td>\n",
       "      <td>70s</td>\n",
       "    </tr>\n",
       "    <tr>\n",
       "      <th>2</th>\n",
       "      <td>2022-10</td>\n",
       "      <td>toa payoh</td>\n",
       "      <td>157</td>\n",
       "      <td>lorong 1 toa payoh</td>\n",
       "      <td>3-room</td>\n",
       "      <td>improved</td>\n",
       "      <td>67.0</td>\n",
       "      <td>yes</td>\n",
       "      <td>1971</td>\n",
       "      <td>1.332242</td>\n",
       "      <td>103.845643</td>\n",
       "      <td>0.0</td>\n",
       "      <td>toa payoh central</td>\n",
       "      <td>toa payoh</td>\n",
       "      <td>central region</td>\n",
       "      <td>1900</td>\n",
       "      <td>2022</td>\n",
       "      <td>10</td>\n",
       "      <td>70s</td>\n",
       "    </tr>\n",
       "    <tr>\n",
       "      <th>3</th>\n",
       "      <td>2021-08</td>\n",
       "      <td>pasir ris</td>\n",
       "      <td>250</td>\n",
       "      <td>pasir ris street 21</td>\n",
       "      <td>executive</td>\n",
       "      <td>apartment</td>\n",
       "      <td>149.0</td>\n",
       "      <td>yes</td>\n",
       "      <td>1993</td>\n",
       "      <td>1.370239</td>\n",
       "      <td>103.962894</td>\n",
       "      <td>0.0</td>\n",
       "      <td>pasir ris drive</td>\n",
       "      <td>pasir ris</td>\n",
       "      <td>east region</td>\n",
       "      <td>2850</td>\n",
       "      <td>2021</td>\n",
       "      <td>08</td>\n",
       "      <td>90s</td>\n",
       "    </tr>\n",
       "    <tr>\n",
       "      <th>4</th>\n",
       "      <td>2022-11</td>\n",
       "      <td>kallang/whampoa</td>\n",
       "      <td>34</td>\n",
       "      <td>whampoa west</td>\n",
       "      <td>3-room</td>\n",
       "      <td>improved</td>\n",
       "      <td>68.0</td>\n",
       "      <td>yes</td>\n",
       "      <td>1972</td>\n",
       "      <td>1.320502</td>\n",
       "      <td>103.863341</td>\n",
       "      <td>0.0</td>\n",
       "      <td>bendemeer</td>\n",
       "      <td>kallang</td>\n",
       "      <td>central region</td>\n",
       "      <td>2100</td>\n",
       "      <td>2022</td>\n",
       "      <td>11</td>\n",
       "      <td>70s</td>\n",
       "    </tr>\n",
       "    <tr>\n",
       "      <th>5</th>\n",
       "      <td>2023-04</td>\n",
       "      <td>bukit panjang</td>\n",
       "      <td>654</td>\n",
       "      <td>senja road</td>\n",
       "      <td>executive</td>\n",
       "      <td>premium apartment</td>\n",
       "      <td>130.0</td>\n",
       "      <td>yes</td>\n",
       "      <td>2001</td>\n",
       "      <td>1.387847</td>\n",
       "      <td>103.764249</td>\n",
       "      <td>0.0</td>\n",
       "      <td>saujana</td>\n",
       "      <td>bukit panjang</td>\n",
       "      <td>west region</td>\n",
       "      <td>2300</td>\n",
       "      <td>2023</td>\n",
       "      <td>04</td>\n",
       "      <td>00s</td>\n",
       "    </tr>\n",
       "    <tr>\n",
       "      <th>6</th>\n",
       "      <td>2021-01</td>\n",
       "      <td>sengkang</td>\n",
       "      <td>407b</td>\n",
       "      <td>fernvale road</td>\n",
       "      <td>5-room</td>\n",
       "      <td>premium apartment</td>\n",
       "      <td>110.0</td>\n",
       "      <td>yes</td>\n",
       "      <td>2005</td>\n",
       "      <td>1.388997</td>\n",
       "      <td>103.875148</td>\n",
       "      <td>0.0</td>\n",
       "      <td>fernvale</td>\n",
       "      <td>sengkang</td>\n",
       "      <td>north-east region</td>\n",
       "      <td>2100</td>\n",
       "      <td>2021</td>\n",
       "      <td>01</td>\n",
       "      <td>00s</td>\n",
       "    </tr>\n",
       "    <tr>\n",
       "      <th>7</th>\n",
       "      <td>2022-06</td>\n",
       "      <td>ang mo kio</td>\n",
       "      <td>223</td>\n",
       "      <td>ang mo kio avenue 1</td>\n",
       "      <td>3-room</td>\n",
       "      <td>new generation</td>\n",
       "      <td>67.0</td>\n",
       "      <td>yes</td>\n",
       "      <td>1978</td>\n",
       "      <td>1.366048</td>\n",
       "      <td>103.838123</td>\n",
       "      <td>0.0</td>\n",
       "      <td>shangri-la</td>\n",
       "      <td>ang mo kio</td>\n",
       "      <td>north-east region</td>\n",
       "      <td>2300</td>\n",
       "      <td>2022</td>\n",
       "      <td>06</td>\n",
       "      <td>70s</td>\n",
       "    </tr>\n",
       "    <tr>\n",
       "      <th>8</th>\n",
       "      <td>2021-10</td>\n",
       "      <td>bishan</td>\n",
       "      <td>149</td>\n",
       "      <td>bishan street 11</td>\n",
       "      <td>4-room</td>\n",
       "      <td>simplified</td>\n",
       "      <td>84.0</td>\n",
       "      <td>yes</td>\n",
       "      <td>1987</td>\n",
       "      <td>1.344279</td>\n",
       "      <td>103.855556</td>\n",
       "      <td>0.0</td>\n",
       "      <td>bishan east</td>\n",
       "      <td>bishan</td>\n",
       "      <td>central region</td>\n",
       "      <td>2100</td>\n",
       "      <td>2021</td>\n",
       "      <td>10</td>\n",
       "      <td>80s</td>\n",
       "    </tr>\n",
       "    <tr>\n",
       "      <th>9</th>\n",
       "      <td>2021-04</td>\n",
       "      <td>punggol</td>\n",
       "      <td>133</td>\n",
       "      <td>edgedale plains</td>\n",
       "      <td>5-room</td>\n",
       "      <td>premium apartment</td>\n",
       "      <td>112.0</td>\n",
       "      <td>yes</td>\n",
       "      <td>2003</td>\n",
       "      <td>1.392832</td>\n",
       "      <td>103.910620</td>\n",
       "      <td>0.0</td>\n",
       "      <td>punggol field</td>\n",
       "      <td>punggol</td>\n",
       "      <td>north-east region</td>\n",
       "      <td>2100</td>\n",
       "      <td>2021</td>\n",
       "      <td>04</td>\n",
       "      <td>00s</td>\n",
       "    </tr>\n",
       "  </tbody>\n",
       "</table>\n",
       "</div>"
      ],
      "text/plain": [
       "  rent_approval_date             town block            street_name  flat_type  \\\n",
       "0            2021-09      jurong east   257  jurong east street 24     3-room   \n",
       "1            2022-05            bedok   119       bedok north road     4-room   \n",
       "2            2022-10        toa payoh   157     lorong 1 toa payoh     3-room   \n",
       "3            2021-08        pasir ris   250    pasir ris street 21  executive   \n",
       "4            2022-11  kallang/whampoa    34           whampoa west     3-room   \n",
       "5            2023-04    bukit panjang   654             senja road  executive   \n",
       "6            2021-01         sengkang  407b          fernvale road     5-room   \n",
       "7            2022-06       ang mo kio   223    ang mo kio avenue 1     3-room   \n",
       "8            2021-10           bishan   149       bishan street 11     4-room   \n",
       "9            2021-04          punggol   133        edgedale plains     5-room   \n",
       "\n",
       "          flat_model  floor_area_sqm furnished  lease_commence_date  latitude  \\\n",
       "0     new generation            67.0       yes                 1983  1.344518   \n",
       "1     new generation            92.0       yes                 1978  1.330186   \n",
       "2           improved            67.0       yes                 1971  1.332242   \n",
       "3          apartment           149.0       yes                 1993  1.370239   \n",
       "4           improved            68.0       yes                 1972  1.320502   \n",
       "5  premium apartment           130.0       yes                 2001  1.387847   \n",
       "6  premium apartment           110.0       yes                 2005  1.388997   \n",
       "7     new generation            67.0       yes                 1978  1.366048   \n",
       "8         simplified            84.0       yes                 1987  1.344279   \n",
       "9  premium apartment           112.0       yes                 2003  1.392832   \n",
       "\n",
       "    longitude  elevation            subzone  planning_area             region  \\\n",
       "0  103.738630        0.0         yuhua east    jurong east        west region   \n",
       "1  103.938717        0.0        bedok north          bedok        east region   \n",
       "2  103.845643        0.0  toa payoh central      toa payoh     central region   \n",
       "3  103.962894        0.0    pasir ris drive      pasir ris        east region   \n",
       "4  103.863341        0.0          bendemeer        kallang     central region   \n",
       "5  103.764249        0.0            saujana  bukit panjang        west region   \n",
       "6  103.875148        0.0           fernvale       sengkang  north-east region   \n",
       "7  103.838123        0.0         shangri-la     ang mo kio  north-east region   \n",
       "8  103.855556        0.0        bishan east         bishan     central region   \n",
       "9  103.910620        0.0      punggol field        punggol  north-east region   \n",
       "\n",
       "   monthly_rent rent_approval_year rent_approval_month lease_date_cat  \n",
       "0          1600               2021                  09            80s  \n",
       "1          2250               2022                  05            70s  \n",
       "2          1900               2022                  10            70s  \n",
       "3          2850               2021                  08            90s  \n",
       "4          2100               2022                  11            70s  \n",
       "5          2300               2023                  04            00s  \n",
       "6          2100               2021                  01            00s  \n",
       "7          2300               2022                  06            70s  \n",
       "8          2100               2021                  10            80s  \n",
       "9          2100               2021                  04            00s  "
      ]
     },
     "execution_count": 8,
     "metadata": {},
     "output_type": "execute_result"
    }
   ],
   "source": [
    "train_set_cleaned.head(10)"
   ]
  },
  {
   "cell_type": "code",
   "execution_count": 9,
   "id": "e80af6ef",
   "metadata": {},
   "outputs": [
    {
     "data": {
      "text/plain": [
       "2021    24909\n",
       "2022    21399\n",
       "2023    13692\n",
       "Name: rent_approval_year, dtype: int64"
      ]
     },
     "execution_count": 9,
     "metadata": {},
     "output_type": "execute_result"
    }
   ],
   "source": [
    "train_set_cleaned['rent_approval_year'].value_counts()"
   ]
  },
  {
   "cell_type": "markdown",
   "id": "58a7de33-543c-4155-8a21-7103efe70f5d",
   "metadata": {},
   "source": [
    "### encoding"
   ]
  },
  {
   "cell_type": "code",
   "execution_count": 9,
   "id": "b5e068a6-e2af-4ddf-9908-cfd1f9b87cb6",
   "metadata": {},
   "outputs": [],
   "source": [
    "# create a new dataframe\n",
    "encoded_train_set = train_set_cleaned[['monthly_rent']].copy()"
   ]
  },
  {
   "cell_type": "markdown",
   "id": "cac3fd3a-97f3-4456-b2ce-3c2b45ef57b5",
   "metadata": {},
   "source": [
    "#### spatial information"
   ]
  },
  {
   "cell_type": "code",
   "execution_count": 10,
   "id": "946f9678-647a-4064-9485-12125d45d96c",
   "metadata": {},
   "outputs": [],
   "source": [
    "# encode regions with the mean of target variable for each region\n",
    "\n",
    "region_encoder = TargetEncoder()\n",
    "encoded_train_set['region_encoded'] = region_encoder.fit_transform(train_set_cleaned['region'], train_set_cleaned['monthly_rent'])"
   ]
  },
  {
   "cell_type": "code",
   "execution_count": 11,
   "id": "4329dbd3-9235-4e61-bc7e-d809b0612b32",
   "metadata": {},
   "outputs": [],
   "source": [
    "# encode planning areas with target variable information\n",
    "\n",
    "planning_area_encoder = TargetEncoder()\n",
    "encoded_train_set['planning_area_encoded'] = planning_area_encoder.fit_transform(train_set_cleaned['planning_area'], train_set_cleaned['monthly_rent'])"
   ]
  },
  {
   "cell_type": "code",
   "execution_count": 12,
   "id": "d2741bd3-e151-42a0-b2a4-75b26da2933b",
   "metadata": {},
   "outputs": [],
   "source": [
    "# encode subzones with target variable information\n",
    "\n",
    "subzone_encoder = TargetEncoder()\n",
    "encoded_train_set['subzone_encoded'] = subzone_encoder.fit_transform(train_set_cleaned['subzone'], train_set_cleaned['monthly_rent'])"
   ]
  },
  {
   "cell_type": "code",
   "execution_count": 13,
   "id": "0d306b26-11b4-4caf-8168-fe71b6d19488",
   "metadata": {},
   "outputs": [],
   "source": [
    "# encode streets with target variable information\n",
    "\n",
    "street_encoder = TargetEncoder()\n",
    "encoded_train_set['street_encoded'] = street_encoder.fit_transform(train_set_cleaned['street_name'], train_set_cleaned['monthly_rent'])"
   ]
  },
  {
   "cell_type": "code",
   "execution_count": 14,
   "id": "c709f7e0-3b44-4c2a-aa11-fd213981c136",
   "metadata": {},
   "outputs": [],
   "source": [
    "## encode block (with street name) with target variable information\n",
    "\n",
    "block_encoder = TargetEncoder()\n",
    "encoded_train_set['block_encoded'] = block_encoder.fit_transform(train_set_cleaned['street_name']+train_set_cleaned['block'], train_set_cleaned['monthly_rent'])"
   ]
  },
  {
   "cell_type": "code",
   "execution_count": 15,
   "id": "d27f673b-ce2a-4a68-9fa7-f80ac4a884f9",
   "metadata": {},
   "outputs": [
    {
     "name": "stdout",
     "output_type": "stream",
     "text": [
      "The correlation between region and planning area is 0.579100\n",
      "The correlation between planning area and subzone is 0.669665\n",
      "The correlation between subzone and street is 0.828036\n"
     ]
    }
   ],
   "source": [
    "# spatial hierarchical correlation\n",
    "\n",
    "region_planning_corr = encoded_train_set['region_encoded'].corr(encoded_train_set['planning_area_encoded'])\n",
    "planning_subzone_corr = encoded_train_set['planning_area_encoded'].corr(encoded_train_set['subzone_encoded'])\n",
    "subzone_street_corr = encoded_train_set['subzone_encoded'].corr(encoded_train_set['street_encoded'])\n",
    "\n",
    "print(f'The correlation between region and planning area is {region_planning_corr:3f}')\n",
    "print(f'The correlation between planning area and subzone is {planning_subzone_corr:3f}')\n",
    "print(f'The correlation between subzone and street is {subzone_street_corr:3f}')"
   ]
  },
  {
   "cell_type": "code",
   "execution_count": 16,
   "id": "93acf80e-8d7e-4b65-9785-4ab7f743ae4a",
   "metadata": {},
   "outputs": [
    {
     "name": "stdout",
     "output_type": "stream",
     "text": [
      "Region and Monthly Rental correlation is 0.124776\n",
      "Planning Area and Monthly Rental correlation is 0.215462\n",
      "Subzone and Monthly Rental correlation is 0.320711\n",
      "Street and Monthly Rental correlation is 0.374731\n",
      "Block and Monthly Rental correlation is 0.521544\n"
     ]
    }
   ],
   "source": [
    "# spatial information correlation with monthly rent\n",
    "\n",
    "region_rent_corr = encoded_train_set['region_encoded'].corr(encoded_train_set['monthly_rent'])\n",
    "planning_rent_corr = encoded_train_set['planning_area_encoded'].corr(encoded_train_set['monthly_rent'])\n",
    "subzone_rent_corr = encoded_train_set['subzone_encoded'].corr(encoded_train_set['monthly_rent'])\n",
    "street_rent_corr = encoded_train_set['street_encoded'].corr(encoded_train_set['monthly_rent'])\n",
    "block_rent_corr = encoded_train_set['block_encoded'].corr(encoded_train_set['monthly_rent'])\n",
    "\n",
    "print(f'Region and Monthly Rental correlation is {region_rent_corr:3f}')\n",
    "print(f'Planning Area and Monthly Rental correlation is {planning_rent_corr:3f}')\n",
    "print(f'Subzone and Monthly Rental correlation is {subzone_rent_corr:3f}')\n",
    "print(f'Street and Monthly Rental correlation is {street_rent_corr:3f}')\n",
    "print(f'Block and Monthly Rental correlation is {block_rent_corr:3f}')"
   ]
  },
  {
   "cell_type": "markdown",
   "id": "5a49bbb0-94ab-4810-93dc-c91678e081d4",
   "metadata": {},
   "source": [
    "#### rent date & lease date"
   ]
  },
  {
   "cell_type": "code",
   "execution_count": 17,
   "id": "6d54aaa0-2368-4f8e-af41-eb9d82b6b59b",
   "metadata": {},
   "outputs": [
    {
     "name": "stdout",
     "output_type": "stream",
     "text": [
      "Rental Approval Date and Monthly Rental correlation is 0.546074\n"
     ]
    }
   ],
   "source": [
    "# rental approval date\n",
    "\n",
    "rental_encoder = TargetEncoder()\n",
    "encoded_train_set['rental_approval_date_encoded'] = rental_encoder.fit_transform(train_set_cleaned['rent_approval_date'].astype(str), train_set_cleaned['monthly_rent'])\n",
    "\n",
    "rental_date_rent_corr = encoded_train_set['rental_approval_date_encoded'].corr(encoded_train_set['monthly_rent'])\n",
    "print(f'Rental Approval Date and Monthly Rental correlation is {rental_date_rent_corr:3f}')"
   ]
  },
  {
   "cell_type": "code",
   "execution_count": 18,
   "id": "6005de5b-f3b7-488a-97f8-e5662a629443",
   "metadata": {},
   "outputs": [
    {
     "name": "stdout",
     "output_type": "stream",
     "text": [
      "Rental Approval Year and Monthly Rental correlation is 0.504737\n"
     ]
    }
   ],
   "source": [
    "# rental approval year\n",
    "\n",
    "rental_year_encoder = TargetEncoder()\n",
    "encoded_train_set['rental_approval_year_encoded'] = rental_year_encoder.fit_transform(train_set_cleaned['rent_approval_year'].astype(str), train_set_cleaned['monthly_rent'])\n",
    "\n",
    "rental_year_rent_corr = encoded_train_set['rental_approval_year_encoded'].corr(encoded_train_set['monthly_rent'])\n",
    "print(f'Rental Approval Year and Monthly Rental correlation is {rental_year_rent_corr:3f}')"
   ]
  },
  {
   "cell_type": "code",
   "execution_count": 19,
   "id": "1c413319-073e-4f7e-b804-f473368e12be",
   "metadata": {},
   "outputs": [
    {
     "name": "stdout",
     "output_type": "stream",
     "text": [
      "Rental Approval Month and Monthly Rental correlation is 0.106482\n"
     ]
    }
   ],
   "source": [
    "# rental approval month\n",
    "\n",
    "rental_month_encoder = TargetEncoder()\n",
    "encoded_train_set['rental_approval_month_encoded'] = rental_month_encoder.fit_transform(train_set_cleaned['rent_approval_month'].astype(str), train_set_cleaned['monthly_rent'])\n",
    "\n",
    "rental_month_rent_corr = encoded_train_set['rental_approval_month_encoded'].corr(encoded_train_set['monthly_rent'])\n",
    "print(f'Rental Approval Month and Monthly Rental correlation is {rental_month_rent_corr:3f}')"
   ]
  },
  {
   "cell_type": "code",
   "execution_count": 20,
   "id": "b30c104f-cfe0-4d6f-a75e-42b728e4d296",
   "metadata": {},
   "outputs": [
    {
     "name": "stdout",
     "output_type": "stream",
     "text": [
      "Lease Commence Date and Monthly Rental correlation is 0.223300\n"
     ]
    }
   ],
   "source": [
    "# lease commence year (in decade)\n",
    "\n",
    "lease_encoder = TargetEncoder()\n",
    "encoded_train_set['lease_commence_date_encoded'] = lease_encoder.fit_transform(train_set_cleaned['lease_date_cat'], train_set_cleaned['monthly_rent'])\n",
    "\n",
    "lease_date_rent_corr = encoded_train_set['lease_commence_date_encoded'].corr(encoded_train_set['monthly_rent'])\n",
    "print(f'Lease Commence Date and Monthly Rental correlation is {lease_date_rent_corr:3f}')"
   ]
  },
  {
   "cell_type": "code",
   "execution_count": 21,
   "id": "084c2c84-bbd1-4aa2-9131-6549c2b74271",
   "metadata": {
    "tags": []
   },
   "outputs": [
    {
     "name": "stdout",
     "output_type": "stream",
     "text": [
      "Flat Type by Rental Date and Monthly Rental correlation is 0.655330\n"
     ]
    }
   ],
   "source": [
    "## rental date + type (NOT good for GBR)\n",
    "\n",
    "type_by_date = TargetEncoder()\n",
    "encoded_train_set['type_by_date_encoded'] = type_by_date.fit_transform(train_set_cleaned['rent_approval_date']+train_set_cleaned['flat_type'], train_set_cleaned['monthly_rent'])\n",
    "\n",
    "type_by_date_rent_corr = encoded_train_set['type_by_date_encoded'].corr(encoded_train_set['monthly_rent'])\n",
    "print(f'Flat Type by Rental Date and Monthly Rental correlation is {type_by_date_rent_corr:3f}')"
   ]
  },
  {
   "cell_type": "markdown",
   "id": "fc432174-2430-46bc-9e5e-7a4906ea5bff",
   "metadata": {},
   "source": [
    "#### flat_type and flat_model"
   ]
  },
  {
   "cell_type": "code",
   "execution_count": 21,
   "id": "69f8a475-573d-4bc3-84f5-ef09d2ad62d6",
   "metadata": {},
   "outputs": [
    {
     "data": {
      "text/plain": [
       "4-room       21889\n",
       "3-room       18897\n",
       "5-room       14759\n",
       "executive     3528\n",
       "2-room         927\n",
       "Name: flat_type, dtype: int64"
      ]
     },
     "execution_count": 21,
     "metadata": {},
     "output_type": "execute_result"
    }
   ],
   "source": [
    "train_set_cleaned['flat_type'].value_counts()"
   ]
  },
  {
   "cell_type": "code",
   "execution_count": 22,
   "id": "43452241-825c-4ad6-80ed-27889e055ad5",
   "metadata": {},
   "outputs": [
    {
     "name": "stdout",
     "output_type": "stream",
     "text": [
      "Flat Type and Monthly Rental correlation is 0.346146\n"
     ]
    }
   ],
   "source": [
    "# flat type\n",
    "\n",
    "flat_type_encoder = TargetEncoder()\n",
    "encoded_train_set['flat_type_encoded'] = flat_type_encoder.fit_transform(train_set_cleaned['flat_type'], train_set_cleaned['monthly_rent'])\n",
    "\n",
    "flat_type_rent_corr = encoded_train_set['flat_type_encoded'].corr(encoded_train_set['monthly_rent'])\n",
    "print(f'Flat Type and Monthly Rental correlation is {flat_type_rent_corr:3f}')"
   ]
  },
  {
   "cell_type": "code",
   "execution_count": 23,
   "id": "0e572e87-1059-4e88-a001-36335306ae29",
   "metadata": {},
   "outputs": [
    {
     "name": "stdout",
     "output_type": "stream",
     "text": [
      "Flat Model and Monthly Rental correlation is 0.236876\n"
     ]
    }
   ],
   "source": [
    "# flat model\n",
    "\n",
    "flat_model_encoder = TargetEncoder()\n",
    "encoded_train_set['flat_model_encoded'] = flat_model_encoder.fit_transform(train_set_cleaned['flat_model'], train_set_cleaned['monthly_rent'])\n",
    "\n",
    "flat_model_rent_corr = encoded_train_set['flat_model_encoded'].corr(encoded_train_set['monthly_rent'])\n",
    "print(f'Flat Model and Monthly Rental correlation is {flat_model_rent_corr:3f}')"
   ]
  },
  {
   "cell_type": "code",
   "execution_count": 24,
   "id": "5134c51a-7721-4692-a489-5cd42899fdfd",
   "metadata": {},
   "outputs": [
    {
     "name": "stdout",
     "output_type": "stream",
     "text": [
      "Flat Type by Street and Monthly Rental correlation is 0.481737\n"
     ]
    }
   ],
   "source": [
    "## street + type\n",
    "\n",
    "type_by_street = TargetEncoder()\n",
    "encoded_train_set['type_by_street_encoded'] = type_by_street.fit_transform(train_set_cleaned['street_name']+train_set_cleaned['flat_type'], train_set_cleaned['monthly_rent'])\n",
    "\n",
    "type_by_street_rent_corr = encoded_train_set['type_by_street_encoded'].corr(encoded_train_set['monthly_rent'])\n",
    "print(f'Flat Type by Street and Monthly Rental correlation is {type_by_street_rent_corr:3f}')"
   ]
  },
  {
   "cell_type": "markdown",
   "id": "3c71ab3f-6f06-4a45-8948-330564fb3134",
   "metadata": {},
   "source": [
    "#### floor area"
   ]
  },
  {
   "cell_type": "code",
   "execution_count": 25,
   "id": "aaef5500-d5fa-4b4f-83bf-a3a11b9be1c1",
   "metadata": {},
   "outputs": [
    {
     "name": "stdout",
     "output_type": "stream",
     "text": [
      "Floor Area in Sqm and Monthly Rental correlation is 0.306466\n"
     ]
    }
   ],
   "source": [
    "# floor area sqm\n",
    "encoded_train_set['floor_area_sqm'] = train_set_cleaned['floor_area_sqm'].copy()\n",
    "\n",
    "floor_area_sqm_corr = encoded_train_set['floor_area_sqm'].corr(encoded_train_set['monthly_rent'])\n",
    "print(f'Floor Area in Sqm and Monthly Rental correlation is {floor_area_sqm_corr:3f}')"
   ]
  },
  {
   "cell_type": "markdown",
   "id": "1f2a6e0d-7ae2-4cc5-b499-548a83fab005",
   "metadata": {},
   "source": [
    "### normalization"
   ]
  },
  {
   "cell_type": "code",
   "execution_count": 26,
   "id": "55dfe599-3d4b-4d53-8db7-4cce5a47ea45",
   "metadata": {},
   "outputs": [],
   "source": [
    "from sklearn.preprocessing import StandardScaler"
   ]
  },
  {
   "cell_type": "code",
   "execution_count": 63,
   "id": "a07f0df1-b1a7-4797-a5e7-77f63859b484",
   "metadata": {
    "tags": []
   },
   "outputs": [
    {
     "data": {
      "text/html": [
       "<div>\n",
       "<style scoped>\n",
       "    .dataframe tbody tr th:only-of-type {\n",
       "        vertical-align: middle;\n",
       "    }\n",
       "\n",
       "    .dataframe tbody tr th {\n",
       "        vertical-align: top;\n",
       "    }\n",
       "\n",
       "    .dataframe thead th {\n",
       "        text-align: right;\n",
       "    }\n",
       "</style>\n",
       "<table border=\"1\" class=\"dataframe\">\n",
       "  <thead>\n",
       "    <tr style=\"text-align: right;\">\n",
       "      <th></th>\n",
       "      <th>monthly_rent</th>\n",
       "      <th>region_encoded</th>\n",
       "      <th>planning_area_encoded</th>\n",
       "      <th>subzone_encoded</th>\n",
       "      <th>street_encoded</th>\n",
       "      <th>block_encoded</th>\n",
       "      <th>rental_approval_date_encoded</th>\n",
       "      <th>rental_approval_year_encoded</th>\n",
       "      <th>rental_approval_month_encoded</th>\n",
       "      <th>lease_commence_date_encoded</th>\n",
       "      <th>flat_type_encoded</th>\n",
       "      <th>flat_model_encoded</th>\n",
       "      <th>type_by_street_encoded</th>\n",
       "      <th>floor_area_sqm</th>\n",
       "    </tr>\n",
       "  </thead>\n",
       "  <tbody>\n",
       "    <tr>\n",
       "      <th>0</th>\n",
       "      <td>1600</td>\n",
       "      <td>2569.167537</td>\n",
       "      <td>2595.146199</td>\n",
       "      <td>2542.158516</td>\n",
       "      <td>2312.179832</td>\n",
       "      <td>2319.910527</td>\n",
       "      <td>2233.926780</td>\n",
       "      <td>2225.773817</td>\n",
       "      <td>2489.108495</td>\n",
       "      <td>2479.803864</td>\n",
       "      <td>2276.033233</td>\n",
       "      <td>2369.965462</td>\n",
       "      <td>2237.215820</td>\n",
       "      <td>67.0</td>\n",
       "    </tr>\n",
       "    <tr>\n",
       "      <th>1</th>\n",
       "      <td>2250</td>\n",
       "      <td>2570.667785</td>\n",
       "      <td>2438.227223</td>\n",
       "      <td>2360.371046</td>\n",
       "      <td>2404.212860</td>\n",
       "      <td>2596.971112</td>\n",
       "      <td>2517.128874</td>\n",
       "      <td>2651.014066</td>\n",
       "      <td>2618.130520</td>\n",
       "      <td>2421.705462</td>\n",
       "      <td>2692.359176</td>\n",
       "      <td>2369.965462</td>\n",
       "      <td>2591.822430</td>\n",
       "      <td>92.0</td>\n",
       "    </tr>\n",
       "    <tr>\n",
       "      <th>2</th>\n",
       "      <td>1900</td>\n",
       "      <td>2737.201353</td>\n",
       "      <td>2516.680515</td>\n",
       "      <td>2808.893871</td>\n",
       "      <td>2403.464419</td>\n",
       "      <td>2317.549823</td>\n",
       "      <td>2928.483245</td>\n",
       "      <td>2651.014066</td>\n",
       "      <td>2563.328013</td>\n",
       "      <td>2421.705462</td>\n",
       "      <td>2276.033233</td>\n",
       "      <td>2636.211052</td>\n",
       "      <td>2301.216814</td>\n",
       "      <td>67.0</td>\n",
       "    </tr>\n",
       "    <tr>\n",
       "      <th>3</th>\n",
       "      <td>2850</td>\n",
       "      <td>2570.667785</td>\n",
       "      <td>2686.857477</td>\n",
       "      <td>2610.338573</td>\n",
       "      <td>2757.834101</td>\n",
       "      <td>2678.043573</td>\n",
       "      <td>2249.901768</td>\n",
       "      <td>2225.773817</td>\n",
       "      <td>2470.895522</td>\n",
       "      <td>2700.899570</td>\n",
       "      <td>2892.857143</td>\n",
       "      <td>2878.725962</td>\n",
       "      <td>2840.416063</td>\n",
       "      <td>149.0</td>\n",
       "    </tr>\n",
       "    <tr>\n",
       "      <th>4</th>\n",
       "      <td>2100</td>\n",
       "      <td>2737.201353</td>\n",
       "      <td>2702.635659</td>\n",
       "      <td>2793.525180</td>\n",
       "      <td>2407.998266</td>\n",
       "      <td>2407.998266</td>\n",
       "      <td>2986.739659</td>\n",
       "      <td>2651.014066</td>\n",
       "      <td>2611.993243</td>\n",
       "      <td>2421.705462</td>\n",
       "      <td>2276.033233</td>\n",
       "      <td>2636.211052</td>\n",
       "      <td>2407.998266</td>\n",
       "      <td>68.0</td>\n",
       "    </tr>\n",
       "    <tr>\n",
       "      <th>...</th>\n",
       "      <td>...</td>\n",
       "      <td>...</td>\n",
       "      <td>...</td>\n",
       "      <td>...</td>\n",
       "      <td>...</td>\n",
       "      <td>...</td>\n",
       "      <td>...</td>\n",
       "      <td>...</td>\n",
       "      <td>...</td>\n",
       "      <td>...</td>\n",
       "      <td>...</td>\n",
       "      <td>...</td>\n",
       "      <td>...</td>\n",
       "      <td>...</td>\n",
       "    </tr>\n",
       "    <tr>\n",
       "      <th>59995</th>\n",
       "      <td>2200</td>\n",
       "      <td>2558.822710</td>\n",
       "      <td>2416.700057</td>\n",
       "      <td>2390.887097</td>\n",
       "      <td>2336.012658</td>\n",
       "      <td>2549.933369</td>\n",
       "      <td>2233.926780</td>\n",
       "      <td>2225.773817</td>\n",
       "      <td>2489.108495</td>\n",
       "      <td>2421.705462</td>\n",
       "      <td>2276.033233</td>\n",
       "      <td>2369.965462</td>\n",
       "      <td>2206.830123</td>\n",
       "      <td>67.0</td>\n",
       "    </tr>\n",
       "    <tr>\n",
       "      <th>59996</th>\n",
       "      <td>4100</td>\n",
       "      <td>2737.201353</td>\n",
       "      <td>2904.113924</td>\n",
       "      <td>2694.936709</td>\n",
       "      <td>2763.731680</td>\n",
       "      <td>2784.903851</td>\n",
       "      <td>3178.128128</td>\n",
       "      <td>3158.694858</td>\n",
       "      <td>2608.904470</td>\n",
       "      <td>2880.707364</td>\n",
       "      <td>2692.359176</td>\n",
       "      <td>2612.031305</td>\n",
       "      <td>2745.330132</td>\n",
       "      <td>83.0</td>\n",
       "    </tr>\n",
       "    <tr>\n",
       "      <th>59997</th>\n",
       "      <td>2250</td>\n",
       "      <td>2570.667785</td>\n",
       "      <td>2638.489123</td>\n",
       "      <td>2602.823315</td>\n",
       "      <td>2509.602223</td>\n",
       "      <td>2651.586378</td>\n",
       "      <td>2582.606383</td>\n",
       "      <td>2651.014066</td>\n",
       "      <td>2658.595055</td>\n",
       "      <td>2479.803864</td>\n",
       "      <td>2815.593875</td>\n",
       "      <td>2636.211052</td>\n",
       "      <td>2541.557159</td>\n",
       "      <td>122.0</td>\n",
       "    </tr>\n",
       "    <tr>\n",
       "      <th>59998</th>\n",
       "      <td>4700</td>\n",
       "      <td>2570.667785</td>\n",
       "      <td>2438.227223</td>\n",
       "      <td>2434.379786</td>\n",
       "      <td>2591.443246</td>\n",
       "      <td>2766.882904</td>\n",
       "      <td>3069.581639</td>\n",
       "      <td>3158.694858</td>\n",
       "      <td>2490.553580</td>\n",
       "      <td>2421.705462</td>\n",
       "      <td>2815.593875</td>\n",
       "      <td>2444.223986</td>\n",
       "      <td>2743.101626</td>\n",
       "      <td>123.0</td>\n",
       "    </tr>\n",
       "    <tr>\n",
       "      <th>59999</th>\n",
       "      <td>2850</td>\n",
       "      <td>2558.822710</td>\n",
       "      <td>2416.700057</td>\n",
       "      <td>2390.887097</td>\n",
       "      <td>2336.012658</td>\n",
       "      <td>2493.668140</td>\n",
       "      <td>3103.949406</td>\n",
       "      <td>3158.694858</td>\n",
       "      <td>2568.640029</td>\n",
       "      <td>2421.705462</td>\n",
       "      <td>2276.033233</td>\n",
       "      <td>2369.965462</td>\n",
       "      <td>2206.830123</td>\n",
       "      <td>67.0</td>\n",
       "    </tr>\n",
       "  </tbody>\n",
       "</table>\n",
       "<p>60000 rows × 14 columns</p>\n",
       "</div>"
      ],
      "text/plain": [
       "       monthly_rent  region_encoded  planning_area_encoded  subzone_encoded  \\\n",
       "0              1600     2569.167537            2595.146199      2542.158516   \n",
       "1              2250     2570.667785            2438.227223      2360.371046   \n",
       "2              1900     2737.201353            2516.680515      2808.893871   \n",
       "3              2850     2570.667785            2686.857477      2610.338573   \n",
       "4              2100     2737.201353            2702.635659      2793.525180   \n",
       "...             ...             ...                    ...              ...   \n",
       "59995          2200     2558.822710            2416.700057      2390.887097   \n",
       "59996          4100     2737.201353            2904.113924      2694.936709   \n",
       "59997          2250     2570.667785            2638.489123      2602.823315   \n",
       "59998          4700     2570.667785            2438.227223      2434.379786   \n",
       "59999          2850     2558.822710            2416.700057      2390.887097   \n",
       "\n",
       "       street_encoded  block_encoded  rental_approval_date_encoded  \\\n",
       "0         2312.179832    2319.910527                   2233.926780   \n",
       "1         2404.212860    2596.971112                   2517.128874   \n",
       "2         2403.464419    2317.549823                   2928.483245   \n",
       "3         2757.834101    2678.043573                   2249.901768   \n",
       "4         2407.998266    2407.998266                   2986.739659   \n",
       "...               ...            ...                           ...   \n",
       "59995     2336.012658    2549.933369                   2233.926780   \n",
       "59996     2763.731680    2784.903851                   3178.128128   \n",
       "59997     2509.602223    2651.586378                   2582.606383   \n",
       "59998     2591.443246    2766.882904                   3069.581639   \n",
       "59999     2336.012658    2493.668140                   3103.949406   \n",
       "\n",
       "       rental_approval_year_encoded  rental_approval_month_encoded  \\\n",
       "0                       2225.773817                    2489.108495   \n",
       "1                       2651.014066                    2618.130520   \n",
       "2                       2651.014066                    2563.328013   \n",
       "3                       2225.773817                    2470.895522   \n",
       "4                       2651.014066                    2611.993243   \n",
       "...                             ...                            ...   \n",
       "59995                   2225.773817                    2489.108495   \n",
       "59996                   3158.694858                    2608.904470   \n",
       "59997                   2651.014066                    2658.595055   \n",
       "59998                   3158.694858                    2490.553580   \n",
       "59999                   3158.694858                    2568.640029   \n",
       "\n",
       "       lease_commence_date_encoded  flat_type_encoded  flat_model_encoded  \\\n",
       "0                      2479.803864        2276.033233         2369.965462   \n",
       "1                      2421.705462        2692.359176         2369.965462   \n",
       "2                      2421.705462        2276.033233         2636.211052   \n",
       "3                      2700.899570        2892.857143         2878.725962   \n",
       "4                      2421.705462        2276.033233         2636.211052   \n",
       "...                            ...                ...                 ...   \n",
       "59995                  2421.705462        2276.033233         2369.965462   \n",
       "59996                  2880.707364        2692.359176         2612.031305   \n",
       "59997                  2479.803864        2815.593875         2636.211052   \n",
       "59998                  2421.705462        2815.593875         2444.223986   \n",
       "59999                  2421.705462        2276.033233         2369.965462   \n",
       "\n",
       "       type_by_street_encoded  floor_area_sqm  \n",
       "0                 2237.215820            67.0  \n",
       "1                 2591.822430            92.0  \n",
       "2                 2301.216814            67.0  \n",
       "3                 2840.416063           149.0  \n",
       "4                 2407.998266            68.0  \n",
       "...                       ...             ...  \n",
       "59995             2206.830123            67.0  \n",
       "59996             2745.330132            83.0  \n",
       "59997             2541.557159           122.0  \n",
       "59998             2743.101626           123.0  \n",
       "59999             2206.830123            67.0  \n",
       "\n",
       "[60000 rows x 14 columns]"
      ]
     },
     "execution_count": 63,
     "metadata": {},
     "output_type": "execute_result"
    }
   ],
   "source": [
    "encoded_train_set"
   ]
  },
  {
   "cell_type": "code",
   "execution_count": 64,
   "id": "aaa525ad-38b5-43ef-ba45-a15e5492e258",
   "metadata": {},
   "outputs": [],
   "source": [
    "# initialize the feature scaler\n",
    "scaler = StandardScaler()\n",
    "\n",
    "normalized_features = scaler.fit_transform(encoded_train_set.iloc[:,1:])"
   ]
  },
  {
   "cell_type": "code",
   "execution_count": 28,
   "id": "0a660ea7-b52a-4c2e-a703-7207d0aefff6",
   "metadata": {},
   "outputs": [
    {
     "data": {
      "text/html": [
       "<div>\n",
       "<style scoped>\n",
       "    .dataframe tbody tr th:only-of-type {\n",
       "        vertical-align: middle;\n",
       "    }\n",
       "\n",
       "    .dataframe tbody tr th {\n",
       "        vertical-align: top;\n",
       "    }\n",
       "\n",
       "    .dataframe thead th {\n",
       "        text-align: right;\n",
       "    }\n",
       "</style>\n",
       "<table border=\"1\" class=\"dataframe\">\n",
       "  <thead>\n",
       "    <tr style=\"text-align: right;\">\n",
       "      <th></th>\n",
       "      <th>0</th>\n",
       "      <th>1</th>\n",
       "      <th>2</th>\n",
       "      <th>3</th>\n",
       "      <th>4</th>\n",
       "      <th>5</th>\n",
       "      <th>6</th>\n",
       "      <th>7</th>\n",
       "      <th>8</th>\n",
       "      <th>9</th>\n",
       "      <th>10</th>\n",
       "    </tr>\n",
       "  </thead>\n",
       "  <tbody>\n",
       "    <tr>\n",
       "      <th>count</th>\n",
       "      <td>6.000000e+04</td>\n",
       "      <td>6.000000e+04</td>\n",
       "      <td>6.000000e+04</td>\n",
       "      <td>6.000000e+04</td>\n",
       "      <td>6.000000e+04</td>\n",
       "      <td>6.000000e+04</td>\n",
       "      <td>6.000000e+04</td>\n",
       "      <td>6.000000e+04</td>\n",
       "      <td>6.000000e+04</td>\n",
       "      <td>6.000000e+04</td>\n",
       "      <td>6.000000e+04</td>\n",
       "    </tr>\n",
       "    <tr>\n",
       "      <th>mean</th>\n",
       "      <td>3.504271e-15</td>\n",
       "      <td>3.138378e-15</td>\n",
       "      <td>1.884108e-15</td>\n",
       "      <td>-1.100081e-15</td>\n",
       "      <td>8.512080e-16</td>\n",
       "      <td>-2.717411e-15</td>\n",
       "      <td>-7.782885e-16</td>\n",
       "      <td>1.624649e-15</td>\n",
       "      <td>6.510163e-16</td>\n",
       "      <td>1.377269e-16</td>\n",
       "      <td>4.176437e-16</td>\n",
       "    </tr>\n",
       "    <tr>\n",
       "      <th>std</th>\n",
       "      <td>1.000008e+00</td>\n",
       "      <td>1.000008e+00</td>\n",
       "      <td>1.000008e+00</td>\n",
       "      <td>1.000008e+00</td>\n",
       "      <td>1.000008e+00</td>\n",
       "      <td>1.000008e+00</td>\n",
       "      <td>1.000008e+00</td>\n",
       "      <td>1.000008e+00</td>\n",
       "      <td>1.000008e+00</td>\n",
       "      <td>1.000008e+00</td>\n",
       "      <td>1.000008e+00</td>\n",
       "    </tr>\n",
       "    <tr>\n",
       "      <th>min</th>\n",
       "      <td>-1.566138e+00</td>\n",
       "      <td>-1.248074e+00</td>\n",
       "      <td>-1.997123e+00</td>\n",
       "      <td>-2.296490e+00</td>\n",
       "      <td>-1.136227e+00</td>\n",
       "      <td>-1.010297e+00</td>\n",
       "      <td>-1.568908e+00</td>\n",
       "      <td>-2.255897e+00</td>\n",
       "      <td>-2.991037e+00</td>\n",
       "      <td>-3.995729e+00</td>\n",
       "      <td>-2.511392e+00</td>\n",
       "    </tr>\n",
       "    <tr>\n",
       "      <th>25%</th>\n",
       "      <td>-3.531893e-01</td>\n",
       "      <td>-8.052347e-01</td>\n",
       "      <td>-6.691684e-01</td>\n",
       "      <td>-6.786320e-01</td>\n",
       "      <td>-8.720157e-01</td>\n",
       "      <td>-1.010297e+00</td>\n",
       "      <td>-6.184322e-01</td>\n",
       "      <td>-6.923440e-01</td>\n",
       "      <td>-1.270077e+00</td>\n",
       "      <td>-7.507854e-01</td>\n",
       "      <td>-8.919552e-01</td>\n",
       "    </tr>\n",
       "    <tr>\n",
       "      <th>50%</th>\n",
       "      <td>-2.372201e-01</td>\n",
       "      <td>3.131269e-02</td>\n",
       "      <td>-1.654897e-02</td>\n",
       "      <td>-1.316916e-01</td>\n",
       "      <td>-3.898313e-01</td>\n",
       "      <td>1.681796e-01</td>\n",
       "      <td>2.440221e-01</td>\n",
       "      <td>-6.923440e-01</td>\n",
       "      <td>4.123100e-01</td>\n",
       "      <td>1.323593e-01</td>\n",
       "      <td>-6.147460e-02</td>\n",
       "    </tr>\n",
       "    <tr>\n",
       "      <th>75%</th>\n",
       "      <td>-2.204018e-01</td>\n",
       "      <td>3.667341e-01</td>\n",
       "      <td>2.406733e-01</td>\n",
       "      <td>4.403614e-01</td>\n",
       "      <td>1.227626e+00</td>\n",
       "      <td>1.681796e-01</td>\n",
       "      <td>8.967736e-01</td>\n",
       "      <td>9.533255e-01</td>\n",
       "      <td>9.103054e-01</td>\n",
       "      <td>2.772886e-01</td>\n",
       "      <td>6.444339e-01</td>\n",
       "    </tr>\n",
       "    <tr>\n",
       "      <th>max</th>\n",
       "      <td>1.646499e+00</td>\n",
       "      <td>6.297960e+00</td>\n",
       "      <td>6.454196e+00</td>\n",
       "      <td>6.316627e+00</td>\n",
       "      <td>1.721150e+00</td>\n",
       "      <td>1.575125e+00</td>\n",
       "      <td>1.828760e+00</td>\n",
       "      <td>1.818984e+00</td>\n",
       "      <td>1.222529e+00</td>\n",
       "      <td>1.030540e+01</td>\n",
       "      <td>5.004457e+00</td>\n",
       "    </tr>\n",
       "  </tbody>\n",
       "</table>\n",
       "</div>"
      ],
      "text/plain": [
       "                 0             1             2             3             4   \\\n",
       "count  6.000000e+04  6.000000e+04  6.000000e+04  6.000000e+04  6.000000e+04   \n",
       "mean   3.504271e-15  3.138378e-15  1.884108e-15 -1.100081e-15  8.512080e-16   \n",
       "std    1.000008e+00  1.000008e+00  1.000008e+00  1.000008e+00  1.000008e+00   \n",
       "min   -1.566138e+00 -1.248074e+00 -1.997123e+00 -2.296490e+00 -1.136227e+00   \n",
       "25%   -3.531893e-01 -8.052347e-01 -6.691684e-01 -6.786320e-01 -8.720157e-01   \n",
       "50%   -2.372201e-01  3.131269e-02 -1.654897e-02 -1.316916e-01 -3.898313e-01   \n",
       "75%   -2.204018e-01  3.667341e-01  2.406733e-01  4.403614e-01  1.227626e+00   \n",
       "max    1.646499e+00  6.297960e+00  6.454196e+00  6.316627e+00  1.721150e+00   \n",
       "\n",
       "                 5             6             7             8             9   \\\n",
       "count  6.000000e+04  6.000000e+04  6.000000e+04  6.000000e+04  6.000000e+04   \n",
       "mean  -2.717411e-15 -7.782885e-16  1.624649e-15  6.510163e-16  1.377269e-16   \n",
       "std    1.000008e+00  1.000008e+00  1.000008e+00  1.000008e+00  1.000008e+00   \n",
       "min   -1.010297e+00 -1.568908e+00 -2.255897e+00 -2.991037e+00 -3.995729e+00   \n",
       "25%   -1.010297e+00 -6.184322e-01 -6.923440e-01 -1.270077e+00 -7.507854e-01   \n",
       "50%    1.681796e-01  2.440221e-01 -6.923440e-01  4.123100e-01  1.323593e-01   \n",
       "75%    1.681796e-01  8.967736e-01  9.533255e-01  9.103054e-01  2.772886e-01   \n",
       "max    1.575125e+00  1.828760e+00  1.818984e+00  1.222529e+00  1.030540e+01   \n",
       "\n",
       "                 10  \n",
       "count  6.000000e+04  \n",
       "mean   4.176437e-16  \n",
       "std    1.000008e+00  \n",
       "min   -2.511392e+00  \n",
       "25%   -8.919552e-01  \n",
       "50%   -6.147460e-02  \n",
       "75%    6.444339e-01  \n",
       "max    5.004457e+00  "
      ]
     },
     "execution_count": 28,
     "metadata": {},
     "output_type": "execute_result"
    }
   ],
   "source": [
    "df_describe = pd.DataFrame(normalized_features)\n",
    "df_describe.describe()"
   ]
  },
  {
   "cell_type": "code",
   "execution_count": 29,
   "id": "2a603b5d-204c-4c51-96c2-7d68c68ee9fb",
   "metadata": {},
   "outputs": [],
   "source": [
    "# normalize target variable\n",
    "y_scaler = StandardScaler()\n",
    "\n",
    "target_variable = y_scaler.fit_transform(encoded_train_set['monthly_rent'].to_numpy().reshape(-1, 1))\n",
    "target_variable = target_variable.reshape(-1)"
   ]
  },
  {
   "cell_type": "code",
   "execution_count": 30,
   "id": "0f704a15-9ae6-4e9c-8e0f-2cd0b36b658b",
   "metadata": {
    "tags": []
   },
   "outputs": [
    {
     "data": {
      "text/html": [
       "<div>\n",
       "<style scoped>\n",
       "    .dataframe tbody tr th:only-of-type {\n",
       "        vertical-align: middle;\n",
       "    }\n",
       "\n",
       "    .dataframe tbody tr th {\n",
       "        vertical-align: top;\n",
       "    }\n",
       "\n",
       "    .dataframe thead th {\n",
       "        text-align: right;\n",
       "    }\n",
       "</style>\n",
       "<table border=\"1\" class=\"dataframe\">\n",
       "  <thead>\n",
       "    <tr style=\"text-align: right;\">\n",
       "      <th></th>\n",
       "      <th>0</th>\n",
       "    </tr>\n",
       "  </thead>\n",
       "  <tbody>\n",
       "    <tr>\n",
       "      <th>count</th>\n",
       "      <td>6.000000e+04</td>\n",
       "    </tr>\n",
       "    <tr>\n",
       "      <th>mean</th>\n",
       "      <td>-2.100866e-16</td>\n",
       "    </tr>\n",
       "    <tr>\n",
       "      <th>std</th>\n",
       "      <td>1.000008e+00</td>\n",
       "    </tr>\n",
       "    <tr>\n",
       "      <th>min</th>\n",
       "      <td>-3.203684e+00</td>\n",
       "    </tr>\n",
       "    <tr>\n",
       "      <th>25%</th>\n",
       "      <td>-6.858655e-01</td>\n",
       "    </tr>\n",
       "    <tr>\n",
       "      <th>50%</th>\n",
       "      <td>-2.662290e-01</td>\n",
       "    </tr>\n",
       "    <tr>\n",
       "      <th>75%</th>\n",
       "      <td>5.730439e-01</td>\n",
       "    </tr>\n",
       "    <tr>\n",
       "      <th>max</th>\n",
       "      <td>6.098257e+00</td>\n",
       "    </tr>\n",
       "  </tbody>\n",
       "</table>\n",
       "</div>"
      ],
      "text/plain": [
       "                  0\n",
       "count  6.000000e+04\n",
       "mean  -2.100866e-16\n",
       "std    1.000008e+00\n",
       "min   -3.203684e+00\n",
       "25%   -6.858655e-01\n",
       "50%   -2.662290e-01\n",
       "75%    5.730439e-01\n",
       "max    6.098257e+00"
      ]
     },
     "execution_count": 30,
     "metadata": {},
     "output_type": "execute_result"
    }
   ],
   "source": [
    "df_describe = pd.DataFrame(target_variable)\n",
    "df_describe.describe()"
   ]
  },
  {
   "cell_type": "markdown",
   "id": "09537277-509a-4ace-a40d-1de8fd977628",
   "metadata": {
    "tags": []
   },
   "source": [
    "### training"
   ]
  },
  {
   "cell_type": "code",
   "execution_count": 30,
   "id": "36f6cee8-30bc-4bd6-9c90-fb0f26e7851b",
   "metadata": {
    "tags": []
   },
   "outputs": [],
   "source": [
    "from sklearn.linear_model import LassoCV\n",
    "from sklearn.model_selection import KFold, cross_val_score\n",
    "from sklearn.metrics import mean_squared_error\n",
    "from sklearn.ensemble import GradientBoostingRegressor\n",
    "from sklearn.model_selection import train_test_split"
   ]
  },
  {
   "cell_type": "code",
   "execution_count": 65,
   "id": "f9ecbc2e-a732-460b-83bb-72cb08d3099a",
   "metadata": {},
   "outputs": [],
   "source": [
    "# train-test split\n",
    "\n",
    "X_train, X_test, y_train, y_test = train_test_split(normalized_features, target_variable, test_size=0.33, random_state=42)"
   ]
  },
  {
   "cell_type": "markdown",
   "id": "79333038-5417-4fa2-a8e3-5df94d66fe79",
   "metadata": {},
   "source": [
    "#### lasso regression model"
   ]
  },
  {
   "cell_type": "code",
   "execution_count": 78,
   "id": "6aeaadb8-4513-4be6-a180-79c4755a1082",
   "metadata": {},
   "outputs": [
    {
     "data": {
      "text/plain": [
       "LassoCV(cv=KFold(n_splits=5, random_state=42, shuffle=True), random_state=42)"
      ]
     },
     "execution_count": 78,
     "metadata": {},
     "output_type": "execute_result"
    }
   ],
   "source": [
    "kfold = KFold(n_splits=5, shuffle=True, random_state=42)\n",
    "\n",
    "# Lasso Regression with cross-validation\n",
    "lasso = LassoCV(cv=kfold, random_state=42)\n",
    "lasso.fit(X_train, y_train)"
   ]
  },
  {
   "cell_type": "code",
   "execution_count": 84,
   "id": "7f3d2a79-14fe-40cb-92d5-90a7970433cb",
   "metadata": {},
   "outputs": [
    {
     "name": "stdout",
     "output_type": "stream",
     "text": [
      "Optimal alpha: 0.00054675244381139\n",
      "Mean cross-validated score of the best estimator: 0.5550698993935823\n"
     ]
    }
   ],
   "source": [
    "# evaluate the model\n",
    "\n",
    "print(\"Optimal alpha:\", lasso.alpha_)\n",
    "print(\"Mean cross-validated score of the best estimator:\", lasso.score(X_test, y_test))"
   ]
  },
  {
   "cell_type": "code",
   "execution_count": 85,
   "id": "599349fd-83cd-4ef1-8d20-ebc2ea123333",
   "metadata": {},
   "outputs": [
    {
     "name": "stdout",
     "output_type": "stream",
     "text": [
      "Lasso Regression Mean Squared Error: 0.4461977721338544\n",
      "Model Coefficients: \n",
      "[ 0.06919061 -0.00230139 -0.02300714 -0.00522218  0.31699328  0.50549418\n",
      "  0.0141737  -0.00250901 -0.00958236  0.05598543 -0.01657795  0.15722741\n",
      "  0.08057235]\n"
     ]
    }
   ],
   "source": [
    "# making predictions \n",
    "y_pred = lasso.predict(X_test)\n",
    "\n",
    "# evaluating the model\n",
    "mse = mean_squared_error(y_test, y_pred)\n",
    "print(f\"Lasso Regression Mean Squared Error: {mse}\")\n",
    "print(f\"Model Coefficients: \\n{lasso.coef_}\")"
   ]
  },
  {
   "cell_type": "markdown",
   "id": "e74264d7-3340-4828-9341-9c0e0a09eaed",
   "metadata": {},
   "source": [
    "#### graident boosting tree"
   ]
  },
  {
   "cell_type": "code",
   "execution_count": 83,
   "id": "3714aba0-ba8c-456d-86d9-bee3b24a9590",
   "metadata": {},
   "outputs": [
    {
     "data": {
      "text/plain": [
       "GradientBoostingRegressor(random_state=42)"
      ]
     },
     "execution_count": 83,
     "metadata": {},
     "output_type": "execute_result"
    }
   ],
   "source": [
    "gbr = GradientBoostingRegressor(n_estimators=100, learning_rate=0.1, max_depth=3, random_state=42)\n",
    "\n",
    "# implement gradient boosting tree with cross validation\n",
    "cv = KFold(n_splits=5, shuffle=True, random_state=42)\n",
    "cross_val_scores = cross_val_score(gbr, X_train, y_train, cv=cv, scoring='neg_mean_squared_error')\n",
    "\n",
    "gbr.fit(X_train, y_train)"
   ]
  },
  {
   "cell_type": "code",
   "execution_count": 86,
   "id": "069fa136-e894-437c-89a7-d8d9641d97fe",
   "metadata": {},
   "outputs": [
    {
     "name": "stdout",
     "output_type": "stream",
     "text": [
      "Gradient Boosting Regressor Mean Squared Error: 0.4008180550041719\n"
     ]
    }
   ],
   "source": [
    "mean_mse = np.mean(-cross_val_scores)\n",
    "print(f\"Gradient Boosting Regressor Mean Squared Error: {mean_mse}\")"
   ]
  },
  {
   "cell_type": "code",
   "execution_count": 87,
   "id": "840d2177-a3ed-4327-86fd-8297ebcd998d",
   "metadata": {},
   "outputs": [
    {
     "name": "stdout",
     "output_type": "stream",
     "text": [
      "Mean cross-validated score of the best regressor: 0.5972688419230905\n"
     ]
    }
   ],
   "source": [
    "print(\"Mean cross-validated score of the best regressor:\", gbr.score(X_test, y_test))"
   ]
  },
  {
   "cell_type": "markdown",
   "id": "4974cb20-ec00-4f97-beaa-7bce0aee2e77",
   "metadata": {},
   "source": [
    "### test set evaluation"
   ]
  },
  {
   "cell_type": "code",
   "execution_count": 71,
   "id": "4f5043ac-f608-4f0a-8694-0b28c9f7c082",
   "metadata": {},
   "outputs": [
    {
     "data": {
      "text/html": [
       "<div>\n",
       "<style scoped>\n",
       "    .dataframe tbody tr th:only-of-type {\n",
       "        vertical-align: middle;\n",
       "    }\n",
       "\n",
       "    .dataframe tbody tr th {\n",
       "        vertical-align: top;\n",
       "    }\n",
       "\n",
       "    .dataframe thead th {\n",
       "        text-align: right;\n",
       "    }\n",
       "</style>\n",
       "<table border=\"1\" class=\"dataframe\">\n",
       "  <thead>\n",
       "    <tr style=\"text-align: right;\">\n",
       "      <th></th>\n",
       "      <th>rent_approval_date</th>\n",
       "      <th>town</th>\n",
       "      <th>block</th>\n",
       "      <th>street_name</th>\n",
       "      <th>flat_type</th>\n",
       "      <th>flat_model</th>\n",
       "      <th>floor_area_sqm</th>\n",
       "      <th>furnished</th>\n",
       "      <th>lease_commence_date</th>\n",
       "      <th>latitude</th>\n",
       "      <th>longitude</th>\n",
       "      <th>elevation</th>\n",
       "      <th>subzone</th>\n",
       "      <th>planning_area</th>\n",
       "      <th>region</th>\n",
       "    </tr>\n",
       "  </thead>\n",
       "  <tbody>\n",
       "    <tr>\n",
       "      <th>0</th>\n",
       "      <td>2023-01</td>\n",
       "      <td>hougang</td>\n",
       "      <td>245</td>\n",
       "      <td>hougang street 22</td>\n",
       "      <td>5-room</td>\n",
       "      <td>improved</td>\n",
       "      <td>121.0</td>\n",
       "      <td>yes</td>\n",
       "      <td>1984</td>\n",
       "      <td>1.358411</td>\n",
       "      <td>103.891722</td>\n",
       "      <td>0.0</td>\n",
       "      <td>lorong ah soo</td>\n",
       "      <td>hougang</td>\n",
       "      <td>north-east region</td>\n",
       "    </tr>\n",
       "    <tr>\n",
       "      <th>1</th>\n",
       "      <td>2022-09</td>\n",
       "      <td>sembawang</td>\n",
       "      <td>316</td>\n",
       "      <td>sembawang vista</td>\n",
       "      <td>4-room</td>\n",
       "      <td>model a</td>\n",
       "      <td>100.0</td>\n",
       "      <td>yes</td>\n",
       "      <td>1999</td>\n",
       "      <td>1.446343</td>\n",
       "      <td>103.820817</td>\n",
       "      <td>0.0</td>\n",
       "      <td>sembawang central</td>\n",
       "      <td>sembawang</td>\n",
       "      <td>north region</td>\n",
       "    </tr>\n",
       "    <tr>\n",
       "      <th>2</th>\n",
       "      <td>2023-07</td>\n",
       "      <td>clementi</td>\n",
       "      <td>708</td>\n",
       "      <td>Clementi West Street 2</td>\n",
       "      <td>4-room</td>\n",
       "      <td>new generation</td>\n",
       "      <td>91.0</td>\n",
       "      <td>yes</td>\n",
       "      <td>1980</td>\n",
       "      <td>1.305719</td>\n",
       "      <td>103.762168</td>\n",
       "      <td>0.0</td>\n",
       "      <td>clementi west</td>\n",
       "      <td>clementi</td>\n",
       "      <td>west region</td>\n",
       "    </tr>\n",
       "    <tr>\n",
       "      <th>3</th>\n",
       "      <td>2021-08</td>\n",
       "      <td>jurong east</td>\n",
       "      <td>351</td>\n",
       "      <td>Jurong East Street 31</td>\n",
       "      <td>3 room</td>\n",
       "      <td>model a</td>\n",
       "      <td>74.0</td>\n",
       "      <td>yes</td>\n",
       "      <td>1986</td>\n",
       "      <td>1.344832</td>\n",
       "      <td>103.730778</td>\n",
       "      <td>0.0</td>\n",
       "      <td>yuhua west</td>\n",
       "      <td>jurong east</td>\n",
       "      <td>west region</td>\n",
       "    </tr>\n",
       "    <tr>\n",
       "      <th>4</th>\n",
       "      <td>2022-03</td>\n",
       "      <td>jurong east</td>\n",
       "      <td>305</td>\n",
       "      <td>jurong east street 32</td>\n",
       "      <td>5-room</td>\n",
       "      <td>improved</td>\n",
       "      <td>121.0</td>\n",
       "      <td>yes</td>\n",
       "      <td>1983</td>\n",
       "      <td>1.345437</td>\n",
       "      <td>103.735241</td>\n",
       "      <td>0.0</td>\n",
       "      <td>yuhua west</td>\n",
       "      <td>jurong east</td>\n",
       "      <td>west region</td>\n",
       "    </tr>\n",
       "  </tbody>\n",
       "</table>\n",
       "</div>"
      ],
      "text/plain": [
       "  rent_approval_date         town block             street_name flat_type  \\\n",
       "0            2023-01      hougang   245       hougang street 22    5-room   \n",
       "1            2022-09    sembawang   316         sembawang vista    4-room   \n",
       "2            2023-07     clementi   708  Clementi West Street 2    4-room   \n",
       "3            2021-08  jurong east   351   Jurong East Street 31    3 room   \n",
       "4            2022-03  jurong east   305   jurong east street 32    5-room   \n",
       "\n",
       "       flat_model  floor_area_sqm furnished  lease_commence_date  latitude  \\\n",
       "0        improved           121.0       yes                 1984  1.358411   \n",
       "1         model a           100.0       yes                 1999  1.446343   \n",
       "2  new generation            91.0       yes                 1980  1.305719   \n",
       "3         model a            74.0       yes                 1986  1.344832   \n",
       "4        improved           121.0       yes                 1983  1.345437   \n",
       "\n",
       "    longitude  elevation            subzone planning_area             region  \n",
       "0  103.891722        0.0      lorong ah soo       hougang  north-east region  \n",
       "1  103.820817        0.0  sembawang central     sembawang       north region  \n",
       "2  103.762168        0.0      clementi west      clementi        west region  \n",
       "3  103.730778        0.0         yuhua west   jurong east        west region  \n",
       "4  103.735241        0.0         yuhua west   jurong east        west region  "
      ]
     },
     "execution_count": 71,
     "metadata": {},
     "output_type": "execute_result"
    }
   ],
   "source": [
    "test_set = pd.read_csv('Datasets/test.csv')\n",
    "\n",
    "test_set.head()"
   ]
  },
  {
   "cell_type": "code",
   "execution_count": 39,
   "id": "9c95b255-c3d9-486f-9666-acf2d7589120",
   "metadata": {},
   "outputs": [
    {
     "data": {
      "text/plain": [
       "0"
      ]
     },
     "execution_count": 39,
     "metadata": {},
     "output_type": "execute_result"
    }
   ],
   "source": [
    "(test_set.isna().sum(axis=1) > 0).sum()"
   ]
  },
  {
   "cell_type": "code",
   "execution_count": 72,
   "id": "47cbc4eb-d63c-4fed-aaec-65c6d19e42aa",
   "metadata": {},
   "outputs": [],
   "source": [
    "# data preparation\n",
    "\n",
    "test_set[['rent_approval_year','rent_approval_month']] = test_set['rent_approval_date'].str.split('-',expand=True)\n",
    "\n",
    "# test_set['rent_approval_date'] = test_set['rent_approval_date'].astype('Period[M]')\n",
    "\n",
    "# street name to lower case\n",
    "test_set['street_name'] = test_set['street_name'].apply(str.lower)\n",
    "\n",
    "# replace blank space with hyphen in flat_type (e.g. '2 room' to '2-room')\n",
    "test_set['flat_type'] = test_set['flat_type'].apply(lambda x: x.replace(' ', '-'))\n",
    "\n",
    "# categorize lease commence date by decades (remember to date_filter_condition function above first)\n",
    "test_set['lease_date_cat'] = test_set['lease_commence_date'].apply(date_filter_condition)"
   ]
  },
  {
   "cell_type": "code",
   "execution_count": 73,
   "id": "cfae0cce-ad23-4d21-ac93-a0c9b48c393d",
   "metadata": {},
   "outputs": [],
   "source": [
    "# encoding test set\n",
    "\n",
    "encoded_test_set = pd.DataFrame(index=test_set.index)\n",
    "\n",
    "encoded_test_set['region_encoded'] = region_encoder.transform(test_set['region'])\n",
    "encoded_test_set['planning_area_encoded'] = planning_area_encoder.transform(test_set['planning_area'])\n",
    "encoded_test_set['subzone_encoded'] = subzone_encoder.transform(test_set['subzone'])\n",
    "encoded_test_set['street_encoded'] = street_encoder.transform(test_set['street_name'])\n",
    "encoded_test_set['block_encoded'] = block_encoder.transform(test_set['street_name']+test_set['block'])\n",
    "\n",
    "encoded_test_set['rental_approval_date_encoded'] = rental_encoder.transform(test_set['rent_approval_date'])\n",
    "encoded_test_set['rental_approval_year_encoded'] = rental_year_encoder.transform(test_set['rent_approval_year'])\n",
    "encoded_test_set['rental_approval_month_encoded'] = rental_month_encoder.transform(test_set['rent_approval_month'])\n",
    "\n",
    "encoded_test_set['lease_commence_date_encoded'] = lease_encoder.transform(test_set['lease_date_cat'])\n",
    "\n",
    "encoded_test_set['flat_type_encoded'] = flat_type_encoder.transform(test_set['flat_type'])\n",
    "encoded_test_set['flat_model_encoded'] = flat_model_encoder.transform(test_set['flat_model'])\n",
    "encoded_test_set['type_by_street_encoded'] = type_by_street.transform(test_set['street_name']+test_set['flat_type'])\n",
    "\n",
    "encoded_test_set['floor_area_sqm'] = test_set['floor_area_sqm'].copy()\n",
    "\n"
   ]
  },
  {
   "cell_type": "code",
   "execution_count": 74,
   "id": "e2c92cda-9231-442e-ad9e-10d064e54c47",
   "metadata": {
    "collapsed": true,
    "jupyter": {
     "outputs_hidden": true
    },
    "tags": []
   },
   "outputs": [
    {
     "data": {
      "text/html": [
       "<div>\n",
       "<style scoped>\n",
       "    .dataframe tbody tr th:only-of-type {\n",
       "        vertical-align: middle;\n",
       "    }\n",
       "\n",
       "    .dataframe tbody tr th {\n",
       "        vertical-align: top;\n",
       "    }\n",
       "\n",
       "    .dataframe thead th {\n",
       "        text-align: right;\n",
       "    }\n",
       "</style>\n",
       "<table border=\"1\" class=\"dataframe\">\n",
       "  <thead>\n",
       "    <tr style=\"text-align: right;\">\n",
       "      <th></th>\n",
       "      <th>region_encoded</th>\n",
       "      <th>planning_area_encoded</th>\n",
       "      <th>subzone_encoded</th>\n",
       "      <th>street_encoded</th>\n",
       "      <th>block_encoded</th>\n",
       "      <th>rental_approval_date_encoded</th>\n",
       "      <th>rental_approval_year_encoded</th>\n",
       "      <th>rental_approval_month_encoded</th>\n",
       "      <th>lease_commence_date_encoded</th>\n",
       "      <th>flat_type_encoded</th>\n",
       "      <th>flat_model_encoded</th>\n",
       "      <th>type_by_street_encoded</th>\n",
       "      <th>floor_area_sqm</th>\n",
       "    </tr>\n",
       "  </thead>\n",
       "  <tbody>\n",
       "    <tr>\n",
       "      <th>0</th>\n",
       "      <td>2558.822710</td>\n",
       "      <td>2503.252886</td>\n",
       "      <td>2427.604167</td>\n",
       "      <td>2348.993316</td>\n",
       "      <td>2556.237503</td>\n",
       "      <td>3069.581639</td>\n",
       "      <td>3158.694858</td>\n",
       "      <td>2490.553580</td>\n",
       "      <td>2479.803864</td>\n",
       "      <td>2815.593875</td>\n",
       "      <td>2636.211052</td>\n",
       "      <td>2556.237503</td>\n",
       "      <td>121.0</td>\n",
       "    </tr>\n",
       "    <tr>\n",
       "      <th>1</th>\n",
       "      <td>2450.623806</td>\n",
       "      <td>2540.491010</td>\n",
       "      <td>2592.332790</td>\n",
       "      <td>2640.043972</td>\n",
       "      <td>2509.793159</td>\n",
       "      <td>2812.587413</td>\n",
       "      <td>2651.014066</td>\n",
       "      <td>2489.108495</td>\n",
       "      <td>2700.899570</td>\n",
       "      <td>2692.359176</td>\n",
       "      <td>2612.031305</td>\n",
       "      <td>2614.003638</td>\n",
       "      <td>100.0</td>\n",
       "    </tr>\n",
       "    <tr>\n",
       "      <th>2</th>\n",
       "      <td>2569.167537</td>\n",
       "      <td>2646.808979</td>\n",
       "      <td>2395.588235</td>\n",
       "      <td>2532.195122</td>\n",
       "      <td>2626.547123</td>\n",
       "      <td>3262.248898</td>\n",
       "      <td>3158.694858</td>\n",
       "      <td>2729.542350</td>\n",
       "      <td>2479.803864</td>\n",
       "      <td>2692.359176</td>\n",
       "      <td>2369.965462</td>\n",
       "      <td>2792.881615</td>\n",
       "      <td>91.0</td>\n",
       "    </tr>\n",
       "    <tr>\n",
       "      <th>3</th>\n",
       "      <td>2569.167537</td>\n",
       "      <td>2595.146199</td>\n",
       "      <td>2400.150150</td>\n",
       "      <td>2780.896042</td>\n",
       "      <td>2540.333848</td>\n",
       "      <td>2249.901768</td>\n",
       "      <td>2225.773817</td>\n",
       "      <td>2470.895522</td>\n",
       "      <td>2479.803864</td>\n",
       "      <td>2276.033233</td>\n",
       "      <td>2612.031305</td>\n",
       "      <td>2565.461091</td>\n",
       "      <td>74.0</td>\n",
       "    </tr>\n",
       "    <tr>\n",
       "      <th>4</th>\n",
       "      <td>2569.167537</td>\n",
       "      <td>2595.146199</td>\n",
       "      <td>2400.150150</td>\n",
       "      <td>2268.564360</td>\n",
       "      <td>2542.787517</td>\n",
       "      <td>2449.322430</td>\n",
       "      <td>2651.014066</td>\n",
       "      <td>2543.250298</td>\n",
       "      <td>2479.803864</td>\n",
       "      <td>2815.593875</td>\n",
       "      <td>2636.211052</td>\n",
       "      <td>2631.526100</td>\n",
       "      <td>121.0</td>\n",
       "    </tr>\n",
       "    <tr>\n",
       "      <th>5</th>\n",
       "      <td>2569.167537</td>\n",
       "      <td>2646.808979</td>\n",
       "      <td>2395.588235</td>\n",
       "      <td>2229.881779</td>\n",
       "      <td>2629.794822</td>\n",
       "      <td>2351.327643</td>\n",
       "      <td>2651.014066</td>\n",
       "      <td>2490.553580</td>\n",
       "      <td>2479.803864</td>\n",
       "      <td>2276.033233</td>\n",
       "      <td>2369.965462</td>\n",
       "      <td>2176.899154</td>\n",
       "      <td>67.0</td>\n",
       "    </tr>\n",
       "    <tr>\n",
       "      <th>6</th>\n",
       "      <td>2558.822710</td>\n",
       "      <td>2665.555556</td>\n",
       "      <td>2654.294479</td>\n",
       "      <td>2590.503432</td>\n",
       "      <td>2620.454030</td>\n",
       "      <td>2216.537301</td>\n",
       "      <td>2225.773817</td>\n",
       "      <td>2618.130520</td>\n",
       "      <td>2742.515391</td>\n",
       "      <td>2815.593875</td>\n",
       "      <td>2709.678998</td>\n",
       "      <td>2616.033755</td>\n",
       "      <td>110.0</td>\n",
       "    </tr>\n",
       "    <tr>\n",
       "      <th>7</th>\n",
       "      <td>2570.667785</td>\n",
       "      <td>2638.489123</td>\n",
       "      <td>2602.085865</td>\n",
       "      <td>3081.579221</td>\n",
       "      <td>2730.005494</td>\n",
       "      <td>2755.309735</td>\n",
       "      <td>2651.014066</td>\n",
       "      <td>2470.895522</td>\n",
       "      <td>2742.515391</td>\n",
       "      <td>2815.593875</td>\n",
       "      <td>3150.404313</td>\n",
       "      <td>3224.684165</td>\n",
       "      <td>108.0</td>\n",
       "    </tr>\n",
       "    <tr>\n",
       "      <th>8</th>\n",
       "      <td>2569.167537</td>\n",
       "      <td>2640.890551</td>\n",
       "      <td>2873.930481</td>\n",
       "      <td>2820.173278</td>\n",
       "      <td>2649.937911</td>\n",
       "      <td>2339.852217</td>\n",
       "      <td>2225.773817</td>\n",
       "      <td>2680.680614</td>\n",
       "      <td>2742.515391</td>\n",
       "      <td>2892.857143</td>\n",
       "      <td>2709.678998</td>\n",
       "      <td>2671.955887</td>\n",
       "      <td>133.0</td>\n",
       "    </tr>\n",
       "    <tr>\n",
       "      <th>9</th>\n",
       "      <td>2737.201353</td>\n",
       "      <td>2585.947712</td>\n",
       "      <td>2585.947712</td>\n",
       "      <td>2480.479822</td>\n",
       "      <td>2808.073641</td>\n",
       "      <td>3262.248898</td>\n",
       "      <td>3158.694858</td>\n",
       "      <td>2729.542350</td>\n",
       "      <td>2421.705462</td>\n",
       "      <td>2815.593875</td>\n",
       "      <td>2444.223986</td>\n",
       "      <td>2781.188440</td>\n",
       "      <td>120.0</td>\n",
       "    </tr>\n",
       "  </tbody>\n",
       "</table>\n",
       "</div>"
      ],
      "text/plain": [
       "   region_encoded  planning_area_encoded  subzone_encoded  street_encoded  \\\n",
       "0     2558.822710            2503.252886      2427.604167     2348.993316   \n",
       "1     2450.623806            2540.491010      2592.332790     2640.043972   \n",
       "2     2569.167537            2646.808979      2395.588235     2532.195122   \n",
       "3     2569.167537            2595.146199      2400.150150     2780.896042   \n",
       "4     2569.167537            2595.146199      2400.150150     2268.564360   \n",
       "5     2569.167537            2646.808979      2395.588235     2229.881779   \n",
       "6     2558.822710            2665.555556      2654.294479     2590.503432   \n",
       "7     2570.667785            2638.489123      2602.085865     3081.579221   \n",
       "8     2569.167537            2640.890551      2873.930481     2820.173278   \n",
       "9     2737.201353            2585.947712      2585.947712     2480.479822   \n",
       "\n",
       "   block_encoded  rental_approval_date_encoded  rental_approval_year_encoded  \\\n",
       "0    2556.237503                   3069.581639                   3158.694858   \n",
       "1    2509.793159                   2812.587413                   2651.014066   \n",
       "2    2626.547123                   3262.248898                   3158.694858   \n",
       "3    2540.333848                   2249.901768                   2225.773817   \n",
       "4    2542.787517                   2449.322430                   2651.014066   \n",
       "5    2629.794822                   2351.327643                   2651.014066   \n",
       "6    2620.454030                   2216.537301                   2225.773817   \n",
       "7    2730.005494                   2755.309735                   2651.014066   \n",
       "8    2649.937911                   2339.852217                   2225.773817   \n",
       "9    2808.073641                   3262.248898                   3158.694858   \n",
       "\n",
       "   rental_approval_month_encoded  lease_commence_date_encoded  \\\n",
       "0                    2490.553580                  2479.803864   \n",
       "1                    2489.108495                  2700.899570   \n",
       "2                    2729.542350                  2479.803864   \n",
       "3                    2470.895522                  2479.803864   \n",
       "4                    2543.250298                  2479.803864   \n",
       "5                    2490.553580                  2479.803864   \n",
       "6                    2618.130520                  2742.515391   \n",
       "7                    2470.895522                  2742.515391   \n",
       "8                    2680.680614                  2742.515391   \n",
       "9                    2729.542350                  2421.705462   \n",
       "\n",
       "   flat_type_encoded  flat_model_encoded  type_by_street_encoded  \\\n",
       "0        2815.593875         2636.211052             2556.237503   \n",
       "1        2692.359176         2612.031305             2614.003638   \n",
       "2        2692.359176         2369.965462             2792.881615   \n",
       "3        2276.033233         2612.031305             2565.461091   \n",
       "4        2815.593875         2636.211052             2631.526100   \n",
       "5        2276.033233         2369.965462             2176.899154   \n",
       "6        2815.593875         2709.678998             2616.033755   \n",
       "7        2815.593875         3150.404313             3224.684165   \n",
       "8        2892.857143         2709.678998             2671.955887   \n",
       "9        2815.593875         2444.223986             2781.188440   \n",
       "\n",
       "   floor_area_sqm  \n",
       "0           121.0  \n",
       "1           100.0  \n",
       "2            91.0  \n",
       "3            74.0  \n",
       "4           121.0  \n",
       "5            67.0  \n",
       "6           110.0  \n",
       "7           108.0  \n",
       "8           133.0  \n",
       "9           120.0  "
      ]
     },
     "execution_count": 74,
     "metadata": {},
     "output_type": "execute_result"
    }
   ],
   "source": [
    "encoded_test_set.head(10)"
   ]
  },
  {
   "cell_type": "code",
   "execution_count": 75,
   "id": "8ddac3ed-9930-4098-97d1-25ba29169063",
   "metadata": {},
   "outputs": [],
   "source": [
    "# normalization\n",
    "\n",
    "normalized_test_features = scaler.transform(encoded_test_set)"
   ]
  },
  {
   "cell_type": "code",
   "execution_count": 79,
   "id": "3ec4750f-b245-4f8f-9eb1-3d251e7dc1e9",
   "metadata": {},
   "outputs": [],
   "source": [
    "# lasso regressor prediction\n",
    "lasso_y_pred = lasso.predict(normalized_test_features).reshape(-1, 1)\n",
    "lasso_y_pred = y_scaler.inverse_transform(lasso_y_pred)"
   ]
  },
  {
   "cell_type": "code",
   "execution_count": 80,
   "id": "f0d9f201-8ff1-4f0b-b4c2-f3a41e26221d",
   "metadata": {},
   "outputs": [
    {
     "data": {
      "text/plain": [
       "array([[3101.27459237],\n",
       "       [2640.55788636],\n",
       "       [3406.67241448],\n",
       "       [2096.86286442],\n",
       "       [2525.37926205],\n",
       "       [2212.61720358],\n",
       "       [2344.57089741],\n",
       "       [3228.71983629],\n",
       "       [2580.21397766],\n",
       "       [3864.95093603],\n",
       "       [2045.87665011],\n",
       "       [2922.53073975],\n",
       "       [2778.00866807],\n",
       "       [2683.18690409],\n",
       "       [2369.39367549],\n",
       "       [2744.77009852],\n",
       "       [2027.26268721],\n",
       "       [2732.75795692],\n",
       "       [2475.0454785 ],\n",
       "       [2768.96585691]])"
      ]
     },
     "execution_count": 80,
     "metadata": {},
     "output_type": "execute_result"
    }
   ],
   "source": [
    "lasso_y_pred[:20]"
   ]
  },
  {
   "cell_type": "code",
   "execution_count": 81,
   "id": "0884c0b5",
   "metadata": {},
   "outputs": [],
   "source": [
    "df = pd.DataFrame(lasso_y_pred, columns=['Predicted'])\n",
    "df.to_csv(\"predictions/updated_main_features_team18_lasso.csv\", index_label=\"Id\", header=True, float_format='%.4f')"
   ]
  },
  {
   "cell_type": "code",
   "execution_count": 88,
   "id": "ef477287-0513-4881-b166-bab6c52ff437",
   "metadata": {},
   "outputs": [],
   "source": [
    "# Gradient Boosting Regressor prediction\n",
    "gbr_y_pred = gbr.predict(normalized_test_features).reshape(-1, 1)\n",
    "gbr_y_pred = y_scaler.inverse_transform(gbr_y_pred)"
   ]
  },
  {
   "cell_type": "code",
   "execution_count": 91,
   "id": "a61b8bbe-e28f-480f-98c2-d9cbd078d45f",
   "metadata": {
    "collapsed": true,
    "jupyter": {
     "outputs_hidden": true
    },
    "scrolled": true,
    "tags": []
   },
   "outputs": [
    {
     "data": {
      "text/plain": [
       "array([[2887.52342067],\n",
       "       [2429.15365717],\n",
       "       [3412.59216359],\n",
       "       [2085.2251492 ],\n",
       "       [2377.32138225],\n",
       "       [2237.4295433 ],\n",
       "       [2260.30010829],\n",
       "       [3481.88231353],\n",
       "       [2517.24601277],\n",
       "       [4247.08404924],\n",
       "       [2041.78764805],\n",
       "       [2704.26777254],\n",
       "       [2958.63332327],\n",
       "       [2711.11517395],\n",
       "       [2322.25772255],\n",
       "       [2903.85685426],\n",
       "       [2094.22310081],\n",
       "       [2622.45523576],\n",
       "       [2406.57745076],\n",
       "       [2541.84882339]])"
      ]
     },
     "execution_count": 91,
     "metadata": {},
     "output_type": "execute_result"
    }
   ],
   "source": [
    "gbr_y_pred[:20]"
   ]
  },
  {
   "cell_type": "code",
   "execution_count": 92,
   "id": "ddc88344",
   "metadata": {},
   "outputs": [],
   "source": [
    "df = pd.DataFrame(gbr_y_pred, columns=['Predicted'])\n",
    "df.to_csv(\"predictions/updated_main_features_team18_gbr.csv\", index_label=\"Id\", header=True, float_format='%.4f')"
   ]
  },
  {
   "cell_type": "markdown",
   "id": "05015645",
   "metadata": {},
   "source": [
    "### XGBoost Regression"
   ]
  },
  {
   "cell_type": "code",
   "execution_count": 31,
   "id": "77415af0",
   "metadata": {},
   "outputs": [],
   "source": [
    "import xgboost as xgb\n",
    "from xgboost import XGBRegressor\n",
    "from sklearn.model_selection import train_test_split\n",
    "from sklearn.metrics import mean_squared_error, r2_score, mean_absolute_percentage_error\n",
    "from sklearn.model_selection import RepeatedKFold\n",
    "from sklearn.model_selection import cross_val_score"
   ]
  },
  {
   "cell_type": "code",
   "execution_count": 32,
   "id": "3178ad05",
   "metadata": {},
   "outputs": [],
   "source": [
    "X, y = normalized_features, target_variable"
   ]
  },
  {
   "cell_type": "code",
   "execution_count": 52,
   "id": "542281a0",
   "metadata": {},
   "outputs": [],
   "source": [
    "# Split the training data\n",
    "X_train, X_test, y_train, y_test = train_test_split(X, y, random_state=1)"
   ]
  },
  {
   "cell_type": "code",
   "execution_count": 66,
   "id": "dea7c1a4",
   "metadata": {},
   "outputs": [
    {
     "name": "stdout",
     "output_type": "stream",
     "text": [
      "Number of training samples in DMatrix: 40200\n",
      "Number of features in Dmatrix: 13\n"
     ]
    }
   ],
   "source": [
    "# Create regression matrices\n",
    "dtrain_reg = xgb.DMatrix(X_train, y_train, enable_categorical=True)\n",
    "dtest_reg = xgb.DMatrix(X_test, y_test, enable_categorical=True)\n",
    "\n",
    "#Printing basic information about the DMatrix\n",
    "print(\"Number of training samples in DMatrix:\", dtrain_reg.num_row())\n",
    "print(\"Number of features in Dmatrix:\", dtrain_reg.num_col())"
   ]
  },
  {
   "cell_type": "code",
   "execution_count": 67,
   "id": "e9c737ea",
   "metadata": {},
   "outputs": [],
   "source": [
    "# Define hyperparameters\n",
    "params = {\n",
    "    \"objective\": \"reg:squarederror\",\n",
    "}\n",
    "\n",
    "n = 100\n",
    "model = xgb.train(\n",
    "   params=params,\n",
    "   dtrain=dtrain_reg,\n",
    "   num_boost_round=n,\n",
    ")"
   ]
  },
  {
   "cell_type": "code",
   "execution_count": 68,
   "id": "678e0ef8",
   "metadata": {},
   "outputs": [
    {
     "name": "stdout",
     "output_type": "stream",
     "text": [
      "{'f0': 1.4989417791366577, 'f1': 1.351144552230835, 'f2': 1.381648063659668, 'f3': 1.4058855772018433, 'f4': 19.64893341064453, 'f5': 20.662702560424805, 'f6': 4.909601211547852, 'f7': 1.033408761024475, 'f8': 2.549201011657715, 'f9': 5.570499420166016, 'f10': 2.647329568862915, 'f11': 6.305320739746094, 'f12': 2.9813573360443115}\n"
     ]
    }
   ],
   "source": [
    "feature_score = model.get_score(importance_type=\"gain\")\n",
    "print(feature_score)"
   ]
  },
  {
   "cell_type": "code",
   "execution_count": 69,
   "id": "d860b80f",
   "metadata": {},
   "outputs": [],
   "source": [
    "preds = model.predict(dtest_reg)"
   ]
  },
  {
   "cell_type": "code",
   "execution_count": 70,
   "id": "574afd88",
   "metadata": {},
   "outputs": [
    {
     "name": "stdout",
     "output_type": "stream",
     "text": [
      "RMSE of the base model: 0.650\n",
      "R2 score of the base model: 0.578\n"
     ]
    }
   ],
   "source": [
    "# compute and print accuracy score\n",
    "\n",
    "rmse = mean_squared_error(y_test, preds, squared=False)\n",
    "r2 = r2_score(y_test, preds)\n",
    "\n",
    "print(f\"RMSE of the base model: {rmse:.3f}\")\n",
    "print(f\"R2 score of the base model: {r2:.3f}\")"
   ]
  },
  {
   "cell_type": "markdown",
   "id": "39fd9ea6",
   "metadata": {},
   "source": [
    "#### Early stopping\n",
    "We can test our model at each step and see if adding a new tree/round improves performance. To do so, we define a test dataset and a metric that is used to assess performance at each round. If performance haven’t improved for N rounds (N is defined by the variable early_stopping_round), we stop the training and keep the best number of boosting rounds."
   ]
  },
  {
   "cell_type": "code",
   "execution_count": 40,
   "id": "c9205885",
   "metadata": {},
   "outputs": [
    {
     "name": "stdout",
     "output_type": "stream",
     "text": [
      "[0]\tvalidation-rmse:0.91085\n",
      "[2]\tvalidation-rmse:0.71653\n",
      "[4]\tvalidation-rmse:0.65871\n",
      "[6]\tvalidation-rmse:0.64242\n",
      "[8]\tvalidation-rmse:0.63760\n",
      "[10]\tvalidation-rmse:0.63618\n",
      "[12]\tvalidation-rmse:0.63610\n",
      "[14]\tvalidation-rmse:0.63606\n",
      "[16]\tvalidation-rmse:0.63627\n",
      "[18]\tvalidation-rmse:0.63661\n",
      "[20]\tvalidation-rmse:0.63651\n"
     ]
    }
   ],
   "source": [
    "params = {\n",
    "    \"objective\": \"reg:squarederror\",\n",
    "}\n",
    "n = 100\n",
    "\n",
    "# evals = [(dtest_reg, \"validation\"), (dtrain_reg, \"train\")]\n",
    "evals = [(dtest_reg, \"validation\")]\n",
    "\n",
    "model = xgb.train(\n",
    "   params=params,\n",
    "   dtrain=dtrain_reg,\n",
    "   num_boost_round=n,\n",
    "   evals=evals,\n",
    "   verbose_eval=2, # Every ten rounds\n",
    "   early_stopping_rounds=10\n",
    ")"
   ]
  },
  {
   "cell_type": "markdown",
   "id": "2fd3351a",
   "metadata": {},
   "source": [
    "#### XGBoost Cross Validation"
   ]
  },
  {
   "cell_type": "code",
   "execution_count": 41,
   "id": "3a84cb95",
   "metadata": {},
   "outputs": [],
   "source": [
    "params = {\n",
    "    \"objective\": \"reg:squarederror\",\n",
    "}\n",
    "n = 100\n",
    "\n",
    "results = xgb.cv(\n",
    "   params, \n",
    "   dtrain_reg,\n",
    "   num_boost_round=n,\n",
    "   seed=42,\n",
    "   nfold=5,\n",
    "   metrics={'rmse'},\n",
    "   early_stopping_rounds=20\n",
    ")"
   ]
  },
  {
   "cell_type": "code",
   "execution_count": 42,
   "id": "4522d927",
   "metadata": {},
   "outputs": [
    {
     "name": "stdout",
     "output_type": "stream",
     "text": [
      "0.6347802\n"
     ]
    }
   ],
   "source": [
    "best_rmse = results['test-rmse-mean'].min()\n",
    "print(best_rmse)"
   ]
  },
  {
   "cell_type": "code",
   "execution_count": 61,
   "id": "ba1e0b0c",
   "metadata": {},
   "outputs": [
    {
     "data": {
      "text/html": [
       "<div>\n",
       "<style scoped>\n",
       "    .dataframe tbody tr th:only-of-type {\n",
       "        vertical-align: middle;\n",
       "    }\n",
       "\n",
       "    .dataframe tbody tr th {\n",
       "        vertical-align: top;\n",
       "    }\n",
       "\n",
       "    .dataframe thead th {\n",
       "        text-align: right;\n",
       "    }\n",
       "</style>\n",
       "<table border=\"1\" class=\"dataframe\">\n",
       "  <thead>\n",
       "    <tr style=\"text-align: right;\">\n",
       "      <th></th>\n",
       "      <th>train-rmse-mean</th>\n",
       "      <th>train-rmse-std</th>\n",
       "      <th>test-rmse-mean</th>\n",
       "      <th>test-rmse-std</th>\n",
       "    </tr>\n",
       "  </thead>\n",
       "  <tbody>\n",
       "    <tr>\n",
       "      <th>0</th>\n",
       "      <td>0.862514</td>\n",
       "      <td>0.000357</td>\n",
       "      <td>0.864458</td>\n",
       "      <td>0.002161</td>\n",
       "    </tr>\n",
       "    <tr>\n",
       "      <th>1</th>\n",
       "      <td>0.782984</td>\n",
       "      <td>0.000722</td>\n",
       "      <td>0.787350</td>\n",
       "      <td>0.000660</td>\n",
       "    </tr>\n",
       "    <tr>\n",
       "      <th>2</th>\n",
       "      <td>0.737122</td>\n",
       "      <td>0.001128</td>\n",
       "      <td>0.743983</td>\n",
       "      <td>0.001622</td>\n",
       "    </tr>\n",
       "    <tr>\n",
       "      <th>3</th>\n",
       "      <td>0.711005</td>\n",
       "      <td>0.001167</td>\n",
       "      <td>0.720058</td>\n",
       "      <td>0.002688</td>\n",
       "    </tr>\n",
       "    <tr>\n",
       "      <th>4</th>\n",
       "      <td>0.695496</td>\n",
       "      <td>0.001333</td>\n",
       "      <td>0.706681</td>\n",
       "      <td>0.003354</td>\n",
       "    </tr>\n",
       "  </tbody>\n",
       "</table>\n",
       "</div>"
      ],
      "text/plain": [
       "   train-rmse-mean  train-rmse-std  test-rmse-mean  test-rmse-std\n",
       "0         0.862514        0.000357        0.864458       0.002161\n",
       "1         0.782984        0.000722        0.787350       0.000660\n",
       "2         0.737122        0.001128        0.743983       0.001622\n",
       "3         0.711005        0.001167        0.720058       0.002688\n",
       "4         0.695496        0.001333        0.706681       0.003354"
      ]
     },
     "execution_count": 61,
     "metadata": {},
     "output_type": "execute_result"
    }
   ],
   "source": [
    "results.head()"
   ]
  },
  {
   "cell_type": "markdown",
   "id": "b5898071",
   "metadata": {},
   "source": [
    "#### Optimize XGBoost Model using GridSearch\n",
    "GridSearch is a method used for hyperparameter tuning where one specifies a subset of possible values for each hyperparameter of interest. The method then exhaustively tries out all possible combinations of these hyperparameters to find the combination that produces the best model performance, according to some metric."
   ]
  },
  {
   "cell_type": "markdown",
   "id": "8ffb68ef",
   "metadata": {},
   "source": [
    "##### max_depth & min_child_weight"
   ]
  },
  {
   "cell_type": "code",
   "execution_count": 43,
   "id": "d307552e",
   "metadata": {},
   "outputs": [],
   "source": [
    "gridsearch_params = [\n",
    "    (max_depth, min_child_weight)\n",
    "    for max_depth in range(9,12)\n",
    "    for min_child_weight in range(5,8)\n",
    "]\n",
    "num_boost_round = 100"
   ]
  },
  {
   "cell_type": "code",
   "execution_count": 44,
   "id": "f169cc1a",
   "metadata": {},
   "outputs": [
    {
     "name": "stdout",
     "output_type": "stream",
     "text": [
      "CV with max_depth=9, min_child_weight=5\n",
      "\tRMSE 0.645585 for 8 rounds\n",
      "CV with max_depth=9, min_child_weight=6\n",
      "\tRMSE 0.6450234 for 8 rounds\n",
      "CV with max_depth=9, min_child_weight=7\n",
      "\tRMSE 0.644642 for 8 rounds\n",
      "CV with max_depth=10, min_child_weight=5\n",
      "\tRMSE 0.653372 for 7 rounds\n",
      "CV with max_depth=10, min_child_weight=6\n",
      "\tRMSE 0.6522718000000001 for 7 rounds\n",
      "CV with max_depth=10, min_child_weight=7\n",
      "\tRMSE 0.6530592000000001 for 8 rounds\n",
      "CV with max_depth=11, min_child_weight=5\n",
      "\tRMSE 0.6597664 for 7 rounds\n",
      "CV with max_depth=11, min_child_weight=6\n",
      "\tRMSE 0.6590596 for 7 rounds\n",
      "CV with max_depth=11, min_child_weight=7\n",
      "\tRMSE 0.6595968000000001 for 7 rounds\n",
      "Best params: 9, 7, RMSE: 0.644642\n"
     ]
    }
   ],
   "source": [
    "# Define initial best params and MAE\n",
    "min_rmse = float(\"Inf\")\n",
    "best_params = None\n",
    "for max_depth, min_child_weight in gridsearch_params:\n",
    "    print(\"CV with max_depth={}, min_child_weight={}\".format(\n",
    "                             max_depth,\n",
    "                             min_child_weight))\n",
    "    # Update our parameters\n",
    "    params['max_depth'] = max_depth\n",
    "    params['min_child_weight'] = min_child_weight\n",
    "    # Run CV\n",
    "    cv_results = xgb.cv(\n",
    "        params,\n",
    "        dtrain_reg,\n",
    "        num_boost_round=num_boost_round,\n",
    "        seed=42,\n",
    "        nfold=5,\n",
    "        metrics={'rmse'},\n",
    "        early_stopping_rounds=10\n",
    "    )\n",
    "    # Update best MAE\n",
    "    mean_rmse = cv_results['test-rmse-mean'].min()\n",
    "    boost_rounds = cv_results['test-rmse-mean'].argmin()\n",
    "    print(\"\\tRMSE {} for {} rounds\".format(mean_rmse, boost_rounds))\n",
    "    if mean_rmse < min_rmse:\n",
    "        min_rmse = mean_rmse\n",
    "        best_params = (max_depth,min_child_weight)\n",
    "print(\"Best params: {}, {}, RMSE: {}\".format(best_params[0], best_params[1], min_rmse))\n"
   ]
  },
  {
   "cell_type": "code",
   "execution_count": 45,
   "id": "bcd81dac",
   "metadata": {},
   "outputs": [],
   "source": [
    "params['max_depth'] = 9\n",
    "params['min_child_weight'] = 7"
   ]
  },
  {
   "cell_type": "markdown",
   "id": "b2bf22d7",
   "metadata": {},
   "source": [
    "##### gamma"
   ]
  },
  {
   "cell_type": "code",
   "execution_count": 46,
   "id": "326bf75e",
   "metadata": {},
   "outputs": [
    {
     "name": "stdout",
     "output_type": "stream",
     "text": [
      "CV with gamma=0.1\n",
      "\tRMSE 0.6455752 for 8 rounds\n",
      "\n",
      "CV with gamma=0.2\n",
      "\tRMSE 0.645783 for 8 rounds\n",
      "\n",
      "CV with gamma=0.3\n",
      "\tRMSE 0.6449376 for 8 rounds\n",
      "\n",
      "CV with gamma=0.4\n",
      "\tRMSE 0.6443828 for 8 rounds\n",
      "\n",
      "CV with gamma=0.5\n",
      "\tRMSE 0.6445616 for 9 rounds\n",
      "\n",
      "CV with gamma=0.6\n",
      "\tRMSE 0.6445616 for 8 rounds\n",
      "\n",
      "Best params: 0.4, rmse: 0.6443828\n"
     ]
    }
   ],
   "source": [
    "min_rmse = float(\"Inf\")\n",
    "best_params = None\n",
    "for gamma in [0.1, 0.2, 0.3, 0.4, 0.5, 0.6]:\n",
    "    print(\"CV with gamma={}\".format(gamma))\n",
    "    # We update our parameters\n",
    "    params['gamma'] = gamma\n",
    "    # Run and time CV\n",
    "    cv_results = xgb.cv(\n",
    "        params,\n",
    "        dtrain_reg,\n",
    "        num_boost_round=num_boost_round,\n",
    "        seed=42,\n",
    "        nfold=5,\n",
    "        metrics=['rmse'],\n",
    "        early_stopping_rounds=10\n",
    "    )\n",
    "    # Update best score\n",
    "    mean_rmse = cv_results['test-rmse-mean'].min()\n",
    "    boost_rounds = cv_results['test-rmse-mean'].argmin()\n",
    "    print(\"\\tRMSE {} for {} rounds\\n\".format(mean_rmse, boost_rounds))\n",
    "    if mean_rmse < min_rmse:\n",
    "        min_rmse = mean_rmse\n",
    "        best_params = gamma\n",
    "print(\"Best params: {}, rmse: {}\".format(best_params, min_rmse))"
   ]
  },
  {
   "cell_type": "code",
   "execution_count": 47,
   "id": "808463fb",
   "metadata": {},
   "outputs": [],
   "source": [
    "params['gamma'] = 0.4"
   ]
  },
  {
   "cell_type": "markdown",
   "id": "c883a848",
   "metadata": {},
   "source": [
    "##### subsample & colsample"
   ]
  },
  {
   "cell_type": "code",
   "execution_count": 48,
   "id": "617d79c0",
   "metadata": {},
   "outputs": [],
   "source": [
    "gridsearch_params = [\n",
    "    (subsample, colsample)\n",
    "    for subsample in [i/10. for i in range(7,11)]\n",
    "    for colsample in [i/10. for i in range(7,11)]\n",
    "]"
   ]
  },
  {
   "cell_type": "code",
   "execution_count": 49,
   "id": "a9ab7eea",
   "metadata": {},
   "outputs": [
    {
     "name": "stdout",
     "output_type": "stream",
     "text": [
      "CV with subsample=1.0, colsample=1.0\n",
      "\tRMSE 0.6443828 for 8 rounds\n",
      "CV with subsample=1.0, colsample=0.9\n",
      "\tRMSE 0.646458 for 8 rounds\n",
      "CV with subsample=1.0, colsample=0.8\n",
      "\tRMSE 0.6473368 for 10 rounds\n",
      "CV with subsample=1.0, colsample=0.7\n",
      "\tRMSE 0.647791 for 9 rounds\n",
      "CV with subsample=0.9, colsample=1.0\n",
      "\tRMSE 0.6451836 for 9 rounds\n",
      "CV with subsample=0.9, colsample=0.9\n",
      "\tRMSE 0.6469123999999999 for 9 rounds\n",
      "CV with subsample=0.9, colsample=0.8\n",
      "\tRMSE 0.6465626 for 9 rounds\n",
      "CV with subsample=0.9, colsample=0.7\n",
      "\tRMSE 0.6475848 for 9 rounds\n",
      "CV with subsample=0.8, colsample=1.0\n",
      "\tRMSE 0.6473587999999999 for 7 rounds\n",
      "CV with subsample=0.8, colsample=0.9\n",
      "\tRMSE 0.649131 for 8 rounds\n",
      "CV with subsample=0.8, colsample=0.8\n",
      "\tRMSE 0.6490598000000001 for 9 rounds\n",
      "CV with subsample=0.8, colsample=0.7\n",
      "\tRMSE 0.6507426 for 9 rounds\n",
      "CV with subsample=0.7, colsample=1.0\n",
      "\tRMSE 0.6483893999999999 for 8 rounds\n",
      "CV with subsample=0.7, colsample=0.9\n",
      "\tRMSE 0.6497375999999999 for 9 rounds\n",
      "CV with subsample=0.7, colsample=0.8\n",
      "\tRMSE 0.6478138 for 9 rounds\n",
      "CV with subsample=0.7, colsample=0.7\n",
      "\tRMSE 0.6510499999999999 for 10 rounds\n",
      "Best params: 1.0, 1.0, rmse: 0.6443828\n"
     ]
    }
   ],
   "source": [
    "min_rmse = float(\"Inf\")\n",
    "best_params = None\n",
    "# We start by the largest values and go down to the smallest\n",
    "for subsample, colsample in reversed(gridsearch_params):\n",
    "    print(\"CV with subsample={}, colsample={}\".format(\n",
    "                             subsample,\n",
    "                             colsample))\n",
    "    # We update our parameters\n",
    "    params['subsample'] = subsample\n",
    "    params['colsample_bytree'] = colsample\n",
    "    # Run CV\n",
    "    cv_results = xgb.cv(\n",
    "        params,\n",
    "        dtrain_reg,\n",
    "        num_boost_round=num_boost_round,\n",
    "        seed=42,\n",
    "        nfold=5,\n",
    "        metrics={'rmse'},\n",
    "        early_stopping_rounds=10\n",
    "    )\n",
    "    # Update best score\n",
    "    mean_rmse = cv_results['test-rmse-mean'].min()\n",
    "    boost_rounds = cv_results['test-rmse-mean'].argmin()\n",
    "    print(\"\\tRMSE {} for {} rounds\".format(mean_rmse, boost_rounds))\n",
    "    if mean_rmse < min_rmse:\n",
    "        min_rmse = mean_rmse\n",
    "        best_params = (subsample,colsample)\n",
    "print(\"Best params: {}, {}, rmse: {}\".format(best_params[0], best_params[1], min_rmse))"
   ]
  },
  {
   "cell_type": "code",
   "execution_count": 53,
   "id": "2b846914",
   "metadata": {},
   "outputs": [],
   "source": [
    "params['subsample'] = 1.0\n",
    "params['colsample_bytree'] = 1.0"
   ]
  },
  {
   "cell_type": "markdown",
   "id": "d7123fb8",
   "metadata": {},
   "source": [
    "##### alpha & lumbda"
   ]
  },
  {
   "cell_type": "code",
   "execution_count": 50,
   "id": "93e749d4",
   "metadata": {},
   "outputs": [],
   "source": [
    "gridsearch_params = {\n",
    "    'reg_alpha': [0.05, 0.1, 1, 2, 3]\n",
    "}"
   ]
  },
  {
   "cell_type": "code",
   "execution_count": 51,
   "id": "d4893645",
   "metadata": {},
   "outputs": [
    {
     "name": "stdout",
     "output_type": "stream",
     "text": [
      "CV with reg_alpha=0.05\n",
      "\tRMSE 0.650727 for 9 rounds\n",
      "CV with reg_alpha=0.1\n",
      "\tRMSE 0.6508632 for 9 rounds\n",
      "CV with reg_alpha=1\n",
      "\tRMSE 0.6483702 for 10 rounds\n",
      "CV with reg_alpha=2\n",
      "\tRMSE 0.6458564 for 10 rounds\n",
      "CV with reg_alpha=3\n",
      "\tRMSE 0.6450126 for 12 rounds\n",
      "Best params: 3, rmse: 0.6450126\n"
     ]
    }
   ],
   "source": [
    "min_rmse = float(\"Inf\")\n",
    "best_params = None\n",
    "# We start by the largest values and go down to the smallest\n",
    "for reg_alpha in gridsearch_params['reg_alpha']:\n",
    "        print(\"CV with reg_alpha={}\".format(\n",
    "                                 reg_alpha))\n",
    "        # We update our parameters\n",
    "        params['reg_alpha'] = reg_alpha\n",
    "        # Run CV\n",
    "        cv_results = xgb.cv(\n",
    "            params,\n",
    "            dtrain_reg,\n",
    "            num_boost_round=num_boost_round,\n",
    "            seed=42,\n",
    "            nfold=5,\n",
    "            metrics={'rmse'},\n",
    "            early_stopping_rounds=10\n",
    "        )\n",
    "        # Update best score\n",
    "        mean_rmse = cv_results['test-rmse-mean'].min()\n",
    "        boost_rounds = cv_results['test-rmse-mean'].argmin()\n",
    "        print(\"\\tRMSE {} for {} rounds\".format(mean_rmse, boost_rounds))\n",
    "        if mean_rmse < min_rmse:\n",
    "            min_rmse = mean_rmse\n",
    "            best_params = reg_alpha\n",
    "print(\"Best params: {}, rmse: {}\".format(best_params, min_rmse))"
   ]
  },
  {
   "cell_type": "code",
   "execution_count": 52,
   "id": "7674f5e3",
   "metadata": {},
   "outputs": [],
   "source": [
    "params['alpha'] = 3"
   ]
  },
  {
   "cell_type": "code",
   "execution_count": 54,
   "id": "81b624d6",
   "metadata": {},
   "outputs": [
    {
     "name": "stdout",
     "output_type": "stream",
     "text": [
      "Wall time: 0 ns\n",
      "CV with eta=0.3\n",
      "Wall time: 0 ns\n",
      "\tRMSE 0.6419296 for 10 rounds\n",
      "\n",
      "CV with eta=0.2\n",
      "Wall time: 0 ns\n",
      "\tRMSE 0.6400288 for 16 rounds\n",
      "\n",
      "CV with eta=0.1\n",
      "Wall time: 0 ns\n",
      "\tRMSE 0.6391744 for 36 rounds\n",
      "\n",
      "CV with eta=0.05\n",
      "Wall time: 0 ns\n",
      "\tRMSE 0.6387166000000001 for 72 rounds\n",
      "\n",
      "CV with eta=0.01\n",
      "Wall time: 0 ns\n",
      "\tRMSE 0.7239755999999999 for 99 rounds\n",
      "\n",
      "CV with eta=0.005\n",
      "Wall time: 0 ns\n",
      "\tRMSE 0.8496246 for 99 rounds\n",
      "\n",
      "Best params: 0.05, rmse: 0.6387166000000001\n"
     ]
    }
   ],
   "source": [
    "%time\n",
    "\n",
    "min_rmse = float(\"Inf\")\n",
    "best_params = None\n",
    "for eta in [.3, .2, .1, .05, .01, .005]:\n",
    "    print(\"CV with eta={}\".format(eta))\n",
    "    # We update our parameters\n",
    "    params['eta'] = eta\n",
    "    # Run and time CV\n",
    "    %time \n",
    "    cv_results = xgb.cv(\n",
    "        params,\n",
    "        dtrain_reg,\n",
    "        num_boost_round=num_boost_round,\n",
    "        seed=42,\n",
    "        nfold=5,\n",
    "        metrics=['rmse'],\n",
    "        early_stopping_rounds=10\n",
    "    )\n",
    "    # Update best score\n",
    "    mean_rmse = cv_results['test-rmse-mean'].min()\n",
    "    boost_rounds = cv_results['test-rmse-mean'].argmin()\n",
    "    print(\"\\tRMSE {} for {} rounds\\n\".format(mean_rmse, boost_rounds))\n",
    "    if mean_rmse < min_rmse:\n",
    "        min_rmse = mean_rmse\n",
    "        best_params = eta\n",
    "print(\"Best params: {}, rmse: {}\".format(best_params, min_rmse))"
   ]
  },
  {
   "cell_type": "code",
   "execution_count": 55,
   "id": "fd02d565",
   "metadata": {},
   "outputs": [],
   "source": [
    "params['eta'] = .05"
   ]
  },
  {
   "cell_type": "code",
   "execution_count": 56,
   "id": "a4f0a4de",
   "metadata": {},
   "outputs": [
    {
     "data": {
      "text/plain": [
       "{'objective': 'reg:squarederror',\n",
       " 'max_depth': 9,\n",
       " 'min_child_weight': 7,\n",
       " 'gamma': 0.4,\n",
       " 'subsample': 1.0,\n",
       " 'colsample_bytree': 1.0,\n",
       " 'reg_alpha': 3,\n",
       " 'alpha': 3,\n",
       " 'eta': 0.05}"
      ]
     },
     "execution_count": 56,
     "metadata": {},
     "output_type": "execute_result"
    }
   ],
   "source": [
    "params"
   ]
  },
  {
   "cell_type": "code",
   "execution_count": 57,
   "id": "31838a78",
   "metadata": {
    "collapsed": true,
    "jupyter": {
     "outputs_hidden": true
    },
    "tags": []
   },
   "outputs": [
    {
     "name": "stdout",
     "output_type": "stream",
     "text": [
      "[0]\tTest-rmse:1.08191\n",
      "[1]\tTest-rmse:1.04747\n",
      "[2]\tTest-rmse:1.01538\n",
      "[3]\tTest-rmse:0.98545\n",
      "[4]\tTest-rmse:0.95761\n",
      "[5]\tTest-rmse:0.93169\n",
      "[6]\tTest-rmse:0.90773\n",
      "[7]\tTest-rmse:0.88551\n",
      "[8]\tTest-rmse:0.86491\n",
      "[9]\tTest-rmse:0.84596\n",
      "[10]\tTest-rmse:0.82832\n",
      "[11]\tTest-rmse:0.81218\n",
      "[12]\tTest-rmse:0.79711\n",
      "[13]\tTest-rmse:0.78325\n",
      "[14]\tTest-rmse:0.77053\n",
      "[15]\tTest-rmse:0.75886\n",
      "[16]\tTest-rmse:0.74813\n",
      "[17]\tTest-rmse:0.73820\n",
      "[18]\tTest-rmse:0.72923\n",
      "[19]\tTest-rmse:0.72099\n",
      "[20]\tTest-rmse:0.71340\n",
      "[21]\tTest-rmse:0.70649\n",
      "[22]\tTest-rmse:0.70014\n",
      "[23]\tTest-rmse:0.69427\n",
      "[24]\tTest-rmse:0.68909\n",
      "[25]\tTest-rmse:0.68429\n",
      "[26]\tTest-rmse:0.67997\n",
      "[27]\tTest-rmse:0.67603\n",
      "[28]\tTest-rmse:0.67257\n",
      "[29]\tTest-rmse:0.66931\n",
      "[30]\tTest-rmse:0.66641\n",
      "[31]\tTest-rmse:0.66366\n",
      "[32]\tTest-rmse:0.66120\n",
      "[33]\tTest-rmse:0.65900\n",
      "[34]\tTest-rmse:0.65697\n",
      "[35]\tTest-rmse:0.65511\n",
      "[36]\tTest-rmse:0.65347\n",
      "[37]\tTest-rmse:0.65195\n",
      "[38]\tTest-rmse:0.65061\n",
      "[39]\tTest-rmse:0.64946\n",
      "[40]\tTest-rmse:0.64842\n",
      "[41]\tTest-rmse:0.64742\n",
      "[42]\tTest-rmse:0.64651\n",
      "[43]\tTest-rmse:0.64572\n",
      "[44]\tTest-rmse:0.64494\n",
      "[45]\tTest-rmse:0.64421\n",
      "[46]\tTest-rmse:0.64360\n",
      "[47]\tTest-rmse:0.64307\n",
      "[48]\tTest-rmse:0.64261\n",
      "[49]\tTest-rmse:0.64216\n",
      "[50]\tTest-rmse:0.64177\n",
      "[51]\tTest-rmse:0.64148\n",
      "[52]\tTest-rmse:0.64117\n",
      "[53]\tTest-rmse:0.64096\n",
      "[54]\tTest-rmse:0.64071\n",
      "[55]\tTest-rmse:0.64050\n",
      "[56]\tTest-rmse:0.64037\n",
      "[57]\tTest-rmse:0.64023\n",
      "[58]\tTest-rmse:0.64007\n",
      "[59]\tTest-rmse:0.63998\n",
      "[60]\tTest-rmse:0.63985\n",
      "[61]\tTest-rmse:0.63978\n",
      "[62]\tTest-rmse:0.63974\n",
      "[63]\tTest-rmse:0.63971\n",
      "[64]\tTest-rmse:0.63965\n",
      "[65]\tTest-rmse:0.63959\n",
      "[66]\tTest-rmse:0.63957\n",
      "[67]\tTest-rmse:0.63952\n",
      "[68]\tTest-rmse:0.63950\n",
      "[69]\tTest-rmse:0.63953\n",
      "[70]\tTest-rmse:0.63958\n",
      "[71]\tTest-rmse:0.63957\n",
      "[72]\tTest-rmse:0.63958\n",
      "[73]\tTest-rmse:0.63959\n",
      "[74]\tTest-rmse:0.63964\n",
      "[75]\tTest-rmse:0.63967\n",
      "[76]\tTest-rmse:0.63967\n",
      "[77]\tTest-rmse:0.63970\n",
      "[78]\tTest-rmse:0.63973\n"
     ]
    }
   ],
   "source": [
    "model = xgb.train(\n",
    "    params,\n",
    "    dtrain_reg,\n",
    "    num_boost_round=num_boost_round,\n",
    "    evals=[(dtest_reg, \"Test\")],\n",
    "    early_stopping_rounds=10\n",
    ")"
   ]
  },
  {
   "cell_type": "code",
   "execution_count": 58,
   "id": "95207279",
   "metadata": {},
   "outputs": [
    {
     "name": "stdout",
     "output_type": "stream",
     "text": [
      "Best RMSE: 0.639 in 69 rounds\n"
     ]
    }
   ],
   "source": [
    "print(\"Best RMSE: {:.3f} in {} rounds\".format(model.best_score, model.best_iteration+1))"
   ]
  },
  {
   "cell_type": "markdown",
   "id": "310db5ed",
   "metadata": {},
   "source": [
    "#### Saving the best model"
   ]
  },
  {
   "cell_type": "code",
   "execution_count": 93,
   "id": "50494e6d",
   "metadata": {},
   "outputs": [],
   "source": [
    "dtrain = xgb.DMatrix(normalized_features, target_variable, enable_categorical=True)\n",
    "dtest = xgb.DMatrix(normalized_test_features, enable_categorical=True)"
   ]
  },
  {
   "cell_type": "code",
   "execution_count": 94,
   "id": "55c95d8d",
   "metadata": {},
   "outputs": [
    {
     "name": "stdout",
     "output_type": "stream",
     "text": [
      "[0]\tTest-rmse:0.90956\n",
      "[1]\tTest-rmse:0.78467\n",
      "[2]\tTest-rmse:0.71324\n",
      "[3]\tTest-rmse:0.67310\n",
      "[4]\tTest-rmse:0.65150\n",
      "[5]\tTest-rmse:0.63907\n",
      "[6]\tTest-rmse:0.63199\n",
      "[7]\tTest-rmse:0.62756\n",
      "[8]\tTest-rmse:0.62443\n",
      "[9]\tTest-rmse:0.62265\n",
      "[10]\tTest-rmse:0.62048\n",
      "[11]\tTest-rmse:0.61899\n",
      "[12]\tTest-rmse:0.61820\n",
      "[13]\tTest-rmse:0.61678\n",
      "[14]\tTest-rmse:0.61603\n",
      "[15]\tTest-rmse:0.61496\n",
      "[16]\tTest-rmse:0.61440\n",
      "[17]\tTest-rmse:0.61358\n",
      "[18]\tTest-rmse:0.61299\n",
      "[19]\tTest-rmse:0.61223\n",
      "[20]\tTest-rmse:0.61190\n",
      "[21]\tTest-rmse:0.61139\n",
      "[22]\tTest-rmse:0.61063\n",
      "[23]\tTest-rmse:0.61038\n",
      "[24]\tTest-rmse:0.60979\n",
      "[25]\tTest-rmse:0.60888\n",
      "[26]\tTest-rmse:0.60816\n",
      "[27]\tTest-rmse:0.60793\n",
      "[28]\tTest-rmse:0.60772\n",
      "[29]\tTest-rmse:0.60714\n",
      "[30]\tTest-rmse:0.60658\n",
      "[31]\tTest-rmse:0.60599\n",
      "[32]\tTest-rmse:0.60531\n",
      "[33]\tTest-rmse:0.60485\n",
      "[34]\tTest-rmse:0.60403\n",
      "[35]\tTest-rmse:0.60365\n",
      "[36]\tTest-rmse:0.60326\n",
      "[37]\tTest-rmse:0.60275\n",
      "[38]\tTest-rmse:0.60227\n",
      "[39]\tTest-rmse:0.60185\n",
      "[40]\tTest-rmse:0.60114\n",
      "[41]\tTest-rmse:0.60048\n",
      "[42]\tTest-rmse:0.59976\n",
      "[43]\tTest-rmse:0.59933\n",
      "[44]\tTest-rmse:0.59874\n",
      "[45]\tTest-rmse:0.59808\n",
      "[46]\tTest-rmse:0.59758\n",
      "[47]\tTest-rmse:0.59730\n",
      "[48]\tTest-rmse:0.59693\n",
      "[49]\tTest-rmse:0.59633\n",
      "[50]\tTest-rmse:0.59571\n",
      "[51]\tTest-rmse:0.59556\n",
      "[52]\tTest-rmse:0.59482\n",
      "[53]\tTest-rmse:0.59399\n",
      "[54]\tTest-rmse:0.59349\n",
      "[55]\tTest-rmse:0.59320\n",
      "[56]\tTest-rmse:0.59268\n",
      "[57]\tTest-rmse:0.59247\n",
      "[58]\tTest-rmse:0.59189\n",
      "[59]\tTest-rmse:0.59142\n",
      "[60]\tTest-rmse:0.59093\n",
      "[61]\tTest-rmse:0.59041\n",
      "[62]\tTest-rmse:0.58989\n",
      "[63]\tTest-rmse:0.58927\n",
      "[64]\tTest-rmse:0.58896\n",
      "[65]\tTest-rmse:0.58846\n",
      "[66]\tTest-rmse:0.58809\n",
      "[67]\tTest-rmse:0.58765\n",
      "[68]\tTest-rmse:0.58735\n",
      "[69]\tTest-rmse:0.58686\n",
      "[70]\tTest-rmse:0.58652\n",
      "[71]\tTest-rmse:0.58615\n",
      "[72]\tTest-rmse:0.58552\n",
      "[73]\tTest-rmse:0.58505\n",
      "[74]\tTest-rmse:0.58451\n",
      "[75]\tTest-rmse:0.58398\n",
      "[76]\tTest-rmse:0.58347\n",
      "[77]\tTest-rmse:0.58293\n",
      "[78]\tTest-rmse:0.58252\n",
      "[79]\tTest-rmse:0.58221\n",
      "[80]\tTest-rmse:0.58178\n",
      "[81]\tTest-rmse:0.58108\n",
      "[82]\tTest-rmse:0.58065\n",
      "[83]\tTest-rmse:0.58009\n",
      "[84]\tTest-rmse:0.57982\n",
      "[85]\tTest-rmse:0.57931\n",
      "[86]\tTest-rmse:0.57899\n",
      "[87]\tTest-rmse:0.57880\n",
      "[88]\tTest-rmse:0.57849\n",
      "[89]\tTest-rmse:0.57816\n",
      "[90]\tTest-rmse:0.57780\n",
      "[91]\tTest-rmse:0.57716\n",
      "[92]\tTest-rmse:0.57614\n",
      "[93]\tTest-rmse:0.57573\n",
      "[94]\tTest-rmse:0.57536\n",
      "[95]\tTest-rmse:0.57498\n",
      "[96]\tTest-rmse:0.57464\n",
      "[97]\tTest-rmse:0.57439\n",
      "[98]\tTest-rmse:0.57407\n",
      "[99]\tTest-rmse:0.57359\n"
     ]
    }
   ],
   "source": [
    "num_boost_round = model.best_iteration + 1\n",
    "best_model = xgb.train(\n",
    "    params,\n",
    "    dtrain,\n",
    "    num_boost_round=num_boost_round,\n",
    "    evals=[(dtest_reg, \"Test\")]\n",
    ")"
   ]
  },
  {
   "cell_type": "code",
   "execution_count": 95,
   "id": "949cb4ee",
   "metadata": {},
   "outputs": [],
   "source": [
    "submission_test_pred = best_model.predict(dtest).reshape(-1, 1)\n",
    "submission_test_pred = y_scaler.inverse_transform(submission_test_pred)"
   ]
  },
  {
   "cell_type": "code",
   "execution_count": 96,
   "id": "7999b584",
   "metadata": {},
   "outputs": [],
   "source": [
    "df = pd.DataFrame(submission_test_pred, columns=['Predicted'])\n",
    "df.to_csv(\"predictions/updated_main_features_team18_xgb.csv\", index_label=\"Id\", header=True, float_format='%.4f')"
   ]
  }
 ],
 "metadata": {
  "kernelspec": {
   "display_name": "gpuenv",
   "language": "python",
   "name": "gpuenv"
  },
  "language_info": {
   "codemirror_mode": {
    "name": "ipython",
    "version": 3
   },
   "file_extension": ".py",
   "mimetype": "text/x-python",
   "name": "python",
   "nbconvert_exporter": "python",
   "pygments_lexer": "ipython3",
   "version": "3.6.13"
  }
 },
 "nbformat": 4,
 "nbformat_minor": 5
}
